{
 "cells": [
  {
   "cell_type": "markdown",
   "id": "8faa1260",
   "metadata": {
    "papermill": {
     "duration": 0.00683,
     "end_time": "2024-05-19T05:48:12.563930",
     "exception": false,
     "start_time": "2024-05-19T05:48:12.557100",
     "status": "completed"
    },
    "tags": []
   },
   "source": [
    "# Load the libraries "
   ]
  },
  {
   "cell_type": "code",
   "execution_count": 1,
   "id": "6bde7230",
   "metadata": {
    "_cell_guid": "b1076dfc-b9ad-4769-8c92-a6c4dae69d19",
    "_uuid": "8f2839f25d086af736a60e9eeb907d3b93b6e0e5",
    "execution": {
     "iopub.execute_input": "2024-05-19T05:48:12.580659Z",
     "iopub.status.busy": "2024-05-19T05:48:12.579879Z",
     "iopub.status.idle": "2024-05-19T05:48:15.327171Z",
     "shell.execute_reply": "2024-05-19T05:48:15.325873Z"
    },
    "papermill": {
     "duration": 2.760153,
     "end_time": "2024-05-19T05:48:15.330507",
     "exception": false,
     "start_time": "2024-05-19T05:48:12.570354",
     "status": "completed"
    },
    "tags": []
   },
   "outputs": [],
   "source": [
    "import numpy as np \n",
    "import pandas as pd \n",
    "from itertools import product\n",
    "from sklearn.metrics.pairwise import cosine_similarity\n",
    "from scipy.sparse import csr_matrix"
   ]
  },
  {
   "cell_type": "markdown",
   "id": "3e71b33c",
   "metadata": {
    "papermill": {
     "duration": 0.005751,
     "end_time": "2024-05-19T05:48:15.343137",
     "exception": false,
     "start_time": "2024-05-19T05:48:15.337386",
     "status": "completed"
    },
    "tags": []
   },
   "source": [
    "# Clean the users dataset"
   ]
  },
  {
   "cell_type": "code",
   "execution_count": 2,
   "id": "948fabf7",
   "metadata": {
    "execution": {
     "iopub.execute_input": "2024-05-19T05:48:15.358331Z",
     "iopub.status.busy": "2024-05-19T05:48:15.357334Z",
     "iopub.status.idle": "2024-05-19T05:48:15.417046Z",
     "shell.execute_reply": "2024-05-19T05:48:15.415824Z"
    },
    "papermill": {
     "duration": 0.070913,
     "end_time": "2024-05-19T05:48:15.420110",
     "exception": false,
     "start_time": "2024-05-19T05:48:15.349197",
     "status": "completed"
    },
    "tags": []
   },
   "outputs": [
    {
     "name": "stdout",
     "output_type": "stream",
     "text": [
      "<class 'pandas.core.frame.DataFrame'>\n",
      "RangeIndex: 45 entries, 0 to 44\n",
      "Data columns (total 16 columns):\n",
      " #   Column           Non-Null Count  Dtype  \n",
      "---  ------           --------------  -----  \n",
      " 0   id               45 non-null     int64  \n",
      " 1   first_name       45 non-null     object \n",
      " 2   last_name        45 non-null     object \n",
      " 3   email            45 non-null     object \n",
      " 4   role_id          45 non-null     int64  \n",
      " 5   organisation_id  44 non-null     float64\n",
      " 6   picture_name     39 non-null     object \n",
      " 7   position         44 non-null     object \n",
      " 8   gender           45 non-null     object \n",
      " 9   city             0 non-null      float64\n",
      " 10  country          0 non-null      float64\n",
      " 11  state            0 non-null      float64\n",
      " 12  created          45 non-null     int64  \n",
      " 13  phone_number     0 non-null      float64\n",
      " 14  linkedin_url     0 non-null      float64\n",
      " 15  description      0 non-null      float64\n",
      "dtypes: float64(7), int64(3), object(6)\n",
      "memory usage: 5.8+ KB\n"
     ]
    }
   ],
   "source": [
    "users_database = pd.read_csv('/kaggle/input/recommendation-system-dataset/users.tsv', sep='\\t')\n",
    "users_database.info()"
   ]
  },
  {
   "cell_type": "code",
   "execution_count": 3,
   "id": "64b11ea1",
   "metadata": {
    "execution": {
     "iopub.execute_input": "2024-05-19T05:48:15.435559Z",
     "iopub.status.busy": "2024-05-19T05:48:15.434750Z",
     "iopub.status.idle": "2024-05-19T05:48:15.459437Z",
     "shell.execute_reply": "2024-05-19T05:48:15.458116Z"
    },
    "papermill": {
     "duration": 0.037415,
     "end_time": "2024-05-19T05:48:15.463831",
     "exception": false,
     "start_time": "2024-05-19T05:48:15.426416",
     "status": "completed"
    },
    "tags": []
   },
   "outputs": [
    {
     "name": "stdout",
     "output_type": "stream",
     "text": [
      "<class 'pandas.core.frame.DataFrame'>\n",
      "RangeIndex: 45 entries, 0 to 44\n",
      "Data columns (total 10 columns):\n",
      " #   Column           Non-Null Count  Dtype  \n",
      "---  ------           --------------  -----  \n",
      " 0   id               45 non-null     int64  \n",
      " 1   first_name       45 non-null     object \n",
      " 2   last_name        45 non-null     object \n",
      " 3   email            45 non-null     object \n",
      " 4   role_id          45 non-null     int64  \n",
      " 5   organisation_id  44 non-null     float64\n",
      " 6   picture_name     39 non-null     object \n",
      " 7   position         44 non-null     object \n",
      " 8   gender           45 non-null     object \n",
      " 9   created          45 non-null     int64  \n",
      "dtypes: float64(1), int64(3), object(6)\n",
      "memory usage: 3.6+ KB\n"
     ]
    }
   ],
   "source": [
    "# Drop the ['city', 'country', 'state', 'phone_number', 'linkedin_url', 'description'] columns as it's no longer needed (Empty)\n",
    "users_database = users_database.drop(columns=['city', 'country', 'state', 'phone_number', 'linkedin_url', 'description'])\n",
    "\n",
    "users_database.info()"
   ]
  },
  {
   "cell_type": "markdown",
   "id": "3464c214",
   "metadata": {
    "papermill": {
     "duration": 0.008888,
     "end_time": "2024-05-19T05:48:15.480183",
     "exception": false,
     "start_time": "2024-05-19T05:48:15.471295",
     "status": "completed"
    },
    "tags": []
   },
   "source": [
    "# Clean the content dataset"
   ]
  },
  {
   "cell_type": "code",
   "execution_count": 4,
   "id": "8bc12935",
   "metadata": {
    "execution": {
     "iopub.execute_input": "2024-05-19T05:48:15.498350Z",
     "iopub.status.busy": "2024-05-19T05:48:15.497314Z",
     "iopub.status.idle": "2024-05-19T05:48:15.522448Z",
     "shell.execute_reply": "2024-05-19T05:48:15.519931Z"
    },
    "papermill": {
     "duration": 0.036642,
     "end_time": "2024-05-19T05:48:15.525755",
     "exception": false,
     "start_time": "2024-05-19T05:48:15.489113",
     "status": "completed"
    },
    "tags": []
   },
   "outputs": [
    {
     "name": "stdout",
     "output_type": "stream",
     "text": [
      "<class 'pandas.core.frame.DataFrame'>\n",
      "RangeIndex: 142 entries, 0 to 141\n",
      "Data columns (total 9 columns):\n",
      " #   Column            Non-Null Count  Dtype  \n",
      "---  ------            --------------  -----  \n",
      " 0   id                141 non-null    float64\n",
      " 1   title             142 non-null    object \n",
      " 2    description      141 non-null    object \n",
      " 3   content_type      141 non-null    object \n",
      " 4   organisation_id   1 non-null      float64\n",
      " 5   url               141 non-null    object \n",
      " 6   creator_id        7 non-null      float64\n",
      " 7   created           140 non-null    float64\n",
      " 8   publication_date  133 non-null    object \n",
      "dtypes: float64(4), object(5)\n",
      "memory usage: 10.1+ KB\n"
     ]
    }
   ],
   "source": [
    "content_database = pd.read_csv('/kaggle/input/recommendation-system-dataset/content.tsv', sep='\\t')\n",
    "content_database.info()"
   ]
  },
  {
   "cell_type": "code",
   "execution_count": 5,
   "id": "785256ca",
   "metadata": {
    "execution": {
     "iopub.execute_input": "2024-05-19T05:48:15.540501Z",
     "iopub.status.busy": "2024-05-19T05:48:15.539395Z",
     "iopub.status.idle": "2024-05-19T05:48:15.560517Z",
     "shell.execute_reply": "2024-05-19T05:48:15.558663Z"
    },
    "papermill": {
     "duration": 0.031153,
     "end_time": "2024-05-19T05:48:15.563152",
     "exception": false,
     "start_time": "2024-05-19T05:48:15.531999",
     "status": "completed"
    },
    "tags": []
   },
   "outputs": [
    {
     "name": "stdout",
     "output_type": "stream",
     "text": [
      "<class 'pandas.core.frame.DataFrame'>\n",
      "Index: 141 entries, 0 to 141\n",
      "Data columns (total 6 columns):\n",
      " #   Column            Non-Null Count  Dtype  \n",
      "---  ------            --------------  -----  \n",
      " 0   id                141 non-null    int64  \n",
      " 1   title             141 non-null    object \n",
      " 2   description       141 non-null    object \n",
      " 3   url               140 non-null    object \n",
      " 4   created           140 non-null    float64\n",
      " 5   publication_date  133 non-null    object \n",
      "dtypes: float64(1), int64(1), object(4)\n",
      "memory usage: 7.7+ KB\n"
     ]
    }
   ],
   "source": [
    "# Rename the column to remove leading whitespace (description column has leading whitespace)\n",
    "content_database = content_database.rename(columns=lambda x: x.strip())\n",
    "\n",
    "# Drop the 'organisation_id' and 'creator_id' columns as it's no longer needed (Empty)\n",
    "# 'content_type' same value for all not important\n",
    "content_database = content_database.drop(columns=['organisation_id', 'creator_id', 'content_type'])\n",
    "\n",
    "# Remove row that doesn't has id\n",
    "content_database = content_database.dropna(subset=['id'])\n",
    "\n",
    "# Convert the id type to integer instead of float\n",
    "content_database['id'] = content_database['id'].astype(int)\n",
    "\n",
    "content_database.info()"
   ]
  },
  {
   "cell_type": "code",
   "execution_count": 6,
   "id": "e64210cb",
   "metadata": {
    "execution": {
     "iopub.execute_input": "2024-05-19T05:48:15.579432Z",
     "iopub.status.busy": "2024-05-19T05:48:15.578807Z",
     "iopub.status.idle": "2024-05-19T05:48:15.601703Z",
     "shell.execute_reply": "2024-05-19T05:48:15.600523Z"
    },
    "papermill": {
     "duration": 0.03523,
     "end_time": "2024-05-19T05:48:15.604812",
     "exception": false,
     "start_time": "2024-05-19T05:48:15.569582",
     "status": "completed"
    },
    "tags": []
   },
   "outputs": [
    {
     "data": {
      "text/html": [
       "<div>\n",
       "<style scoped>\n",
       "    .dataframe tbody tr th:only-of-type {\n",
       "        vertical-align: middle;\n",
       "    }\n",
       "\n",
       "    .dataframe tbody tr th {\n",
       "        vertical-align: top;\n",
       "    }\n",
       "\n",
       "    .dataframe thead th {\n",
       "        text-align: right;\n",
       "    }\n",
       "</style>\n",
       "<table border=\"1\" class=\"dataframe\">\n",
       "  <thead>\n",
       "    <tr style=\"text-align: right;\">\n",
       "      <th></th>\n",
       "      <th>id</th>\n",
       "      <th>title</th>\n",
       "      <th>description</th>\n",
       "      <th>url</th>\n",
       "      <th>created</th>\n",
       "      <th>publication_date</th>\n",
       "    </tr>\n",
       "  </thead>\n",
       "  <tbody>\n",
       "    <tr>\n",
       "      <th>0</th>\n",
       "      <td>1</td>\n",
       "      <td>Justice Department Researcher Questions 0.3% T...</td>\n",
       "      <td>The 0.3 percent THC threshold in the federal d...</td>\n",
       "      <td>https://www.marijuanamoment.net/justice-depart...</td>\n",
       "      <td>1.714286e+09</td>\n",
       "      <td>NaN</td>\n",
       "    </tr>\n",
       "    <tr>\n",
       "      <th>1</th>\n",
       "      <td>2</td>\n",
       "      <td>Cannabis operator Canopy raising $35 million i...</td>\n",
       "      <td>Canadian cannabis company Canopy Growth Corp. ...</td>\n",
       "      <td>https://mjbizdaily.com/cannabis-operator-canop...</td>\n",
       "      <td>1.714286e+09</td>\n",
       "      <td>NaN</td>\n",
       "    </tr>\n",
       "    <tr>\n",
       "      <th>2</th>\n",
       "      <td>3</td>\n",
       "      <td>Global Cannabis Legalization: A Comprehensive ...</td>\n",
       "      <td>This article provides an overview of the evolv...</td>\n",
       "      <td>https://thecannabiswatcher.com/pages/articles/...</td>\n",
       "      <td>1.714286e+09</td>\n",
       "      <td>NaN</td>\n",
       "    </tr>\n",
       "    <tr>\n",
       "      <th>3</th>\n",
       "      <td>4</td>\n",
       "      <td>Top Biden Health Official In Touch With DEA Ab...</td>\n",
       "      <td>The U.S. Department of Health and Human Servic...</td>\n",
       "      <td>https://www.marijuanamoment.net/top-biden-heal...</td>\n",
       "      <td>1.714286e+09</td>\n",
       "      <td>NaN</td>\n",
       "    </tr>\n",
       "    <tr>\n",
       "      <th>4</th>\n",
       "      <td>5</td>\n",
       "      <td>Regulated marijuana offers new chance at equit...</td>\n",
       "      <td>Martin Luther King III, co-founder of the Drum...</td>\n",
       "      <td>https://mjbizdaily.com/marijuana-social-equity...</td>\n",
       "      <td>1.714286e+09</td>\n",
       "      <td>NaN</td>\n",
       "    </tr>\n",
       "  </tbody>\n",
       "</table>\n",
       "</div>"
      ],
      "text/plain": [
       "   id                                              title  \\\n",
       "0   1  Justice Department Researcher Questions 0.3% T...   \n",
       "1   2  Cannabis operator Canopy raising $35 million i...   \n",
       "2   3  Global Cannabis Legalization: A Comprehensive ...   \n",
       "3   4  Top Biden Health Official In Touch With DEA Ab...   \n",
       "4   5  Regulated marijuana offers new chance at equit...   \n",
       "\n",
       "                                         description  \\\n",
       "0  The 0.3 percent THC threshold in the federal d...   \n",
       "1  Canadian cannabis company Canopy Growth Corp. ...   \n",
       "2  This article provides an overview of the evolv...   \n",
       "3  The U.S. Department of Health and Human Servic...   \n",
       "4  Martin Luther King III, co-founder of the Drum...   \n",
       "\n",
       "                                                 url       created  \\\n",
       "0  https://www.marijuanamoment.net/justice-depart...  1.714286e+09   \n",
       "1  https://mjbizdaily.com/cannabis-operator-canop...  1.714286e+09   \n",
       "2  https://thecannabiswatcher.com/pages/articles/...  1.714286e+09   \n",
       "3  https://www.marijuanamoment.net/top-biden-heal...  1.714286e+09   \n",
       "4  https://mjbizdaily.com/marijuana-social-equity...  1.714286e+09   \n",
       "\n",
       "  publication_date  \n",
       "0              NaN  \n",
       "1              NaN  \n",
       "2              NaN  \n",
       "3              NaN  \n",
       "4              NaN  "
      ]
     },
     "execution_count": 6,
     "metadata": {},
     "output_type": "execute_result"
    }
   ],
   "source": [
    "content_database.head()"
   ]
  },
  {
   "cell_type": "markdown",
   "id": "5ddecf5d",
   "metadata": {
    "papermill": {
     "duration": 0.008425,
     "end_time": "2024-05-19T05:48:15.619862",
     "exception": false,
     "start_time": "2024-05-19T05:48:15.611437",
     "status": "completed"
    },
    "tags": []
   },
   "source": [
    "# Recommendation System Preprocessing"
   ]
  },
  {
   "cell_type": "code",
   "execution_count": 7,
   "id": "90bde449",
   "metadata": {
    "execution": {
     "iopub.execute_input": "2024-05-19T05:48:15.638399Z",
     "iopub.status.busy": "2024-05-19T05:48:15.637889Z",
     "iopub.status.idle": "2024-05-19T05:48:15.662268Z",
     "shell.execute_reply": "2024-05-19T05:48:15.660283Z"
    },
    "papermill": {
     "duration": 0.037637,
     "end_time": "2024-05-19T05:48:15.665133",
     "exception": false,
     "start_time": "2024-05-19T05:48:15.627496",
     "status": "completed"
    },
    "tags": []
   },
   "outputs": [],
   "source": [
    "# Read the recommendations file\n",
    "recommendations_file_path = '/kaggle/input/recommendation-system-dataset/recommendations.tsv'\n",
    "df = pd.read_csv(recommendations_file_path, sep='\\t')"
   ]
  },
  {
   "cell_type": "code",
   "execution_count": 8,
   "id": "06caadb3",
   "metadata": {
    "execution": {
     "iopub.execute_input": "2024-05-19T05:48:15.682504Z",
     "iopub.status.busy": "2024-05-19T05:48:15.681741Z",
     "iopub.status.idle": "2024-05-19T05:48:15.694786Z",
     "shell.execute_reply": "2024-05-19T05:48:15.693228Z"
    },
    "papermill": {
     "duration": 0.025871,
     "end_time": "2024-05-19T05:48:15.697872",
     "exception": false,
     "start_time": "2024-05-19T05:48:15.672001",
     "status": "completed"
    },
    "tags": []
   },
   "outputs": [
    {
     "name": "stdout",
     "output_type": "stream",
     "text": [
      "<class 'pandas.core.frame.DataFrame'>\n",
      "RangeIndex: 658 entries, 0 to 657\n",
      "Data columns (total 14 columns):\n",
      " #   Column           Non-Null Count  Dtype  \n",
      "---  ------           --------------  -----  \n",
      " 0   id               658 non-null    int64  \n",
      " 1   title            658 non-null    object \n",
      " 2   asset_type       658 non-null    object \n",
      " 3   asset_id         658 non-null    int64  \n",
      " 4   organisation_id  658 non-null    int64  \n",
      " 5   user_id          658 non-null    int64  \n",
      " 6   creator_id       658 non-null    int64  \n",
      " 7   system_score     658 non-null    float64\n",
      " 8   user_score       0 non-null      float64\n",
      " 9   created          658 non-null    int64  \n",
      " 10  opened           625 non-null    float64\n",
      " 11  deleted          403 non-null    float64\n",
      " 12  saved            338 non-null    float64\n",
      " 13  clicked_out      414 non-null    float64\n",
      "dtypes: float64(6), int64(6), object(2)\n",
      "memory usage: 72.1+ KB\n"
     ]
    }
   ],
   "source": [
    "df.info()"
   ]
  },
  {
   "cell_type": "markdown",
   "id": "7f6c4737",
   "metadata": {
    "papermill": {
     "duration": 0.006398,
     "end_time": "2024-05-19T05:48:15.713087",
     "exception": false,
     "start_time": "2024-05-19T05:48:15.706689",
     "status": "completed"
    },
    "tags": []
   },
   "source": [
    "\n",
    "### Required Columns for Collaborative Filtering Recommendation System\n",
    "\n",
    "To implement a collaborative filtering recommendation system, the following columns are necessary:\n",
    "\n",
    "1. `user_id`\n",
    "2. `content_id`\n",
    "3. `system_score`\n",
    "\n"
   ]
  },
  {
   "cell_type": "code",
   "execution_count": 9,
   "id": "7dd9c3f2",
   "metadata": {
    "execution": {
     "iopub.execute_input": "2024-05-19T05:48:15.729054Z",
     "iopub.status.busy": "2024-05-19T05:48:15.728544Z",
     "iopub.status.idle": "2024-05-19T05:48:15.750703Z",
     "shell.execute_reply": "2024-05-19T05:48:15.748968Z"
    },
    "papermill": {
     "duration": 0.033738,
     "end_time": "2024-05-19T05:48:15.753466",
     "exception": false,
     "start_time": "2024-05-19T05:48:15.719728",
     "status": "completed"
    },
    "tags": []
   },
   "outputs": [
    {
     "name": "stdout",
     "output_type": "stream",
     "text": [
      "Content Statistics:\n",
      "Mean: 0.308 Median: 0.3 Number of samples: 218\n"
     ]
    }
   ],
   "source": [
    "# Assuming df is your DataFrame after loading your data\n",
    "# Filter the required columns\n",
    "filtered_df = df[['asset_type', 'asset_id', 'user_id', 'system_score']]\n",
    "\n",
    "# Divide the dataset based on 'asset_type'\n",
    "content_df = filtered_df[filtered_df['asset_type'] == 'content']\n",
    "\n",
    "# Drop the 'asset_type' column as it's no longer needed\n",
    "content_df = content_df.drop(columns=['asset_type'])\n",
    "\n",
    "# Perform basic statistics for each group\n",
    "content_stats = content_df['system_score'].describe()\n",
    "\n",
    "\n",
    "# Additional analysis if needed (mean, median, count)\n",
    "content_mean = round(content_df['system_score'].mean(), 3)\n",
    "content_median = content_df['system_score'].median()\n",
    "content_count = content_df['system_score'].count()\n",
    "\n",
    "\n",
    "print(\"Content Statistics:\")\n",
    "print(\"Mean:\", content_mean, \"Median:\", content_median, \"Number of samples:\", content_count)\n",
    "\n"
   ]
  },
  {
   "cell_type": "markdown",
   "id": "b4fae91f",
   "metadata": {
    "papermill": {
     "duration": 0.007067,
     "end_time": "2024-05-19T05:48:15.767821",
     "exception": false,
     "start_time": "2024-05-19T05:48:15.760754",
     "status": "completed"
    },
    "tags": []
   },
   "source": [
    "# Content Recommendation System Matrix"
   ]
  },
  {
   "cell_type": "code",
   "execution_count": 10,
   "id": "51b8b2e7",
   "metadata": {
    "execution": {
     "iopub.execute_input": "2024-05-19T05:48:15.785292Z",
     "iopub.status.busy": "2024-05-19T05:48:15.784830Z",
     "iopub.status.idle": "2024-05-19T05:48:15.839148Z",
     "shell.execute_reply": "2024-05-19T05:48:15.838173Z"
    },
    "papermill": {
     "duration": 0.067284,
     "end_time": "2024-05-19T05:48:15.841780",
     "exception": false,
     "start_time": "2024-05-19T05:48:15.774496",
     "status": "completed"
    },
    "tags": []
   },
   "outputs": [
    {
     "name": "stdout",
     "output_type": "stream",
     "text": [
      "<class 'pandas.core.frame.DataFrame'>\n",
      "RangeIndex: 6345 entries, 0 to 6344\n",
      "Data columns (total 3 columns):\n",
      " #   Column        Non-Null Count  Dtype  \n",
      "---  ------        --------------  -----  \n",
      " 0   user_id       6345 non-null   int64  \n",
      " 1   content_id    6345 non-null   int64  \n",
      " 2   system_score  218 non-null    float64\n",
      "dtypes: float64(1), int64(2)\n",
      "memory usage: 148.8 KB\n"
     ]
    }
   ],
   "source": [
    "# Extract unique IDs\n",
    "unique_user_ids = users_database['id'].unique()\n",
    "unique_content_ids = content_database['id'].unique()\n",
    "\n",
    "\n",
    "# Create all combinations of user_id and content_id\n",
    "all_combinations = pd.DataFrame(product(unique_user_ids, unique_content_ids), columns=['user_id', 'content_id'])\n",
    "\n",
    "# Merge all_combinations with content_df on the appropriate columns\n",
    "# Since 'content_id' in all_combinations corresponds to 'asset_id' in content_df\n",
    "merged_df = all_combinations.merge(content_df[['user_id', 'asset_id', 'system_score']], \n",
    "                                   left_on=['user_id', 'content_id'], \n",
    "                                   right_on=['user_id', 'asset_id'], \n",
    "                                   how='left')\n",
    "\n",
    "# Drop the 'asset_id' column as it is redundant with 'content_id'\n",
    "merged_df.drop(columns=['asset_id'], inplace=True)\n",
    "\n",
    "\n",
    "merged_df.info()"
   ]
  },
  {
   "cell_type": "markdown",
   "id": "063edfe9",
   "metadata": {
    "papermill": {
     "duration": 0.006876,
     "end_time": "2024-05-19T05:48:15.855795",
     "exception": false,
     "start_time": "2024-05-19T05:48:15.848919",
     "status": "completed"
    },
    "tags": []
   },
   "source": [
    "## Evaluating sparsity\n",
    "Here, we calculate sparsity by dividing the number of stored elements by total number of elements. The number of stored (non-empty) elements in our matrix (nnz) is equivalent to the number of ratings in our dataset.\n",
    "- If sparsity more than 0.1 then you can make the recommendation system \n",
    "- Every user must have rated at least one piece of content rated\n",
    "- Every piece of content must have been rated by at least one user"
   ]
  },
  {
   "cell_type": "code",
   "execution_count": 11,
   "id": "d20bdee5",
   "metadata": {
    "execution": {
     "iopub.execute_input": "2024-05-19T05:48:15.874627Z",
     "iopub.status.busy": "2024-05-19T05:48:15.874178Z",
     "iopub.status.idle": "2024-05-19T05:48:15.883513Z",
     "shell.execute_reply": "2024-05-19T05:48:15.881908Z"
    },
    "papermill": {
     "duration": 0.024612,
     "end_time": "2024-05-19T05:48:15.887827",
     "exception": false,
     "start_time": "2024-05-19T05:48:15.863215",
     "status": "completed"
    },
    "tags": []
   },
   "outputs": [
    {
     "name": "stdout",
     "output_type": "stream",
     "text": [
      "Matrix sparsity: 3.44%\n"
     ]
    }
   ],
   "source": [
    "n_total = len(merged_df)\n",
    "n_ratings = merged_df['system_score'].notna().sum()\n",
    "sparsity = n_ratings/n_total\n",
    "print(f\"Matrix sparsity: {round(sparsity*100,2)}%\")"
   ]
  },
  {
   "cell_type": "code",
   "execution_count": 12,
   "id": "68be2c0e",
   "metadata": {
    "execution": {
     "iopub.execute_input": "2024-05-19T05:48:15.907128Z",
     "iopub.status.busy": "2024-05-19T05:48:15.906684Z",
     "iopub.status.idle": "2024-05-19T05:48:15.918245Z",
     "shell.execute_reply": "2024-05-19T05:48:15.916243Z"
    },
    "papermill": {
     "duration": 0.025375,
     "end_time": "2024-05-19T05:48:15.921384",
     "exception": false,
     "start_time": "2024-05-19T05:48:15.896009",
     "status": "completed"
    },
    "tags": []
   },
   "outputs": [
    {
     "name": "stdout",
     "output_type": "stream",
     "text": [
      "Minimum number of ratings by any user: 0\n"
     ]
    }
   ],
   "source": [
    "# Group by user_id and count non-null system scores for each user\n",
    "user_ratings_count = merged_df.groupby('user_id')['system_score'].count()\n",
    "\n",
    "# Get the minimum number of ratings among all users\n",
    "min_ratings = user_ratings_count.min()\n",
    "\n",
    "print(\"Minimum number of ratings by any user:\", min_ratings)\n"
   ]
  },
  {
   "cell_type": "code",
   "execution_count": 13,
   "id": "8dd2e7db",
   "metadata": {
    "execution": {
     "iopub.execute_input": "2024-05-19T05:48:15.939208Z",
     "iopub.status.busy": "2024-05-19T05:48:15.938746Z",
     "iopub.status.idle": "2024-05-19T05:48:15.949790Z",
     "shell.execute_reply": "2024-05-19T05:48:15.948031Z"
    },
    "papermill": {
     "duration": 0.022474,
     "end_time": "2024-05-19T05:48:15.952554",
     "exception": false,
     "start_time": "2024-05-19T05:48:15.930080",
     "status": "completed"
    },
    "tags": []
   },
   "outputs": [
    {
     "name": "stdout",
     "output_type": "stream",
     "text": [
      "Minimum number of ratings by any content: 0\n"
     ]
    }
   ],
   "source": [
    "# Group by content_id and count non-null system scores for each content\n",
    "content_ratings_count = merged_df.groupby('content_id')['system_score'].count()\n",
    "\n",
    "# Get the minimum number of ratings among all contents\n",
    "min_ratings = content_ratings_count.min()\n",
    "\n",
    "print(\"Minimum number of ratings by any content:\", min_ratings)\n"
   ]
  },
  {
   "cell_type": "markdown",
   "id": "f6958201",
   "metadata": {
    "papermill": {
     "duration": 0.007148,
     "end_time": "2024-05-19T05:48:15.967024",
     "exception": false,
     "start_time": "2024-05-19T05:48:15.959876",
     "status": "completed"
    },
    "tags": []
   },
   "source": [
    "## Building the Recommendation System"
   ]
  },
  {
   "cell_type": "code",
   "execution_count": 14,
   "id": "543dcc46",
   "metadata": {
    "execution": {
     "iopub.execute_input": "2024-05-19T05:48:15.983768Z",
     "iopub.status.busy": "2024-05-19T05:48:15.983307Z",
     "iopub.status.idle": "2024-05-19T05:48:16.018862Z",
     "shell.execute_reply": "2024-05-19T05:48:16.017433Z"
    },
    "papermill": {
     "duration": 0.047537,
     "end_time": "2024-05-19T05:48:16.021708",
     "exception": false,
     "start_time": "2024-05-19T05:48:15.974171",
     "status": "completed"
    },
    "tags": []
   },
   "outputs": [],
   "source": [
    "# Fill missing values with 0 (can change based on strategy)\n",
    "# it just will take the users and contents that has at least one rated value\n",
    "utility_matrix = merged_df.pivot_table(index='user_id', columns='content_id', values='system_score', fill_value=0)\n",
    "\n",
    "# Convert to sparse matrix for efficient calculations\n",
    "sparse_matrix = csr_matrix(utility_matrix.values)\n",
    "\n",
    "# Compute cosine similarity between users\n",
    "user_similarity = cosine_similarity(sparse_matrix)\n",
    "\n",
    "# Compute cosine similarity between items\n",
    "item_similarity = cosine_similarity(sparse_matrix.T)\n"
   ]
  },
  {
   "cell_type": "code",
   "execution_count": 15,
   "id": "080dd7f6",
   "metadata": {
    "execution": {
     "iopub.execute_input": "2024-05-19T05:48:16.037588Z",
     "iopub.status.busy": "2024-05-19T05:48:16.037159Z",
     "iopub.status.idle": "2024-05-19T05:48:16.049970Z",
     "shell.execute_reply": "2024-05-19T05:48:16.048372Z"
    },
    "papermill": {
     "duration": 0.024409,
     "end_time": "2024-05-19T05:48:16.053006",
     "exception": false,
     "start_time": "2024-05-19T05:48:16.028597",
     "status": "completed"
    },
    "tags": []
   },
   "outputs": [
    {
     "name": "stdout",
     "output_type": "stream",
     "text": [
      "Top 5 content recommendations for user: [21, 131, 127, 124, 123]\n"
     ]
    }
   ],
   "source": [
    "def recommend_content_for_user(user_id, top_n=5):\n",
    "    if user_id not in utility_matrix.index:\n",
    "        raise Exception(\"User ID not found in the dataset\")\n",
    "    \n",
    "    user_index = utility_matrix.index.tolist().index(user_id)\n",
    "    similar_scores = user_similarity[user_index]\n",
    "    similar_users = np.argsort(-similar_scores)\n",
    "    \n",
    "    # Get the content items already rated by the user\n",
    "    rated_content = set(utility_matrix.loc[user_id][utility_matrix.loc[user_id] > 0].index)\n",
    "    \n",
    "    recommended_content = {}\n",
    "    for i in similar_users:\n",
    "        for content_id in utility_matrix.columns[np.argsort(-utility_matrix.iloc[i].values)]:\n",
    "            if content_id not in rated_content and content_id not in recommended_content:\n",
    "                recommended_content[content_id] = utility_matrix.iloc[i][content_id]\n",
    "            if len(recommended_content) == top_n:\n",
    "                return list(recommended_content.keys())\n",
    "    return list(recommended_content.keys())\n",
    "\n",
    "# Example usage:\n",
    "user_recommendations = recommend_content_for_user(user_id=96)\n",
    "print(\"Top 5 content recommendations for user:\", user_recommendations)\n"
   ]
  },
  {
   "cell_type": "code",
   "execution_count": 16,
   "id": "eafd0003",
   "metadata": {
    "execution": {
     "iopub.execute_input": "2024-05-19T05:48:16.073998Z",
     "iopub.status.busy": "2024-05-19T05:48:16.073439Z",
     "iopub.status.idle": "2024-05-19T05:48:16.082748Z",
     "shell.execute_reply": "2024-05-19T05:48:16.081023Z"
    },
    "papermill": {
     "duration": 0.023697,
     "end_time": "2024-05-19T05:48:16.085282",
     "exception": false,
     "start_time": "2024-05-19T05:48:16.061585",
     "status": "completed"
    },
    "tags": []
   },
   "outputs": [
    {
     "name": "stdout",
     "output_type": "stream",
     "text": [
      "Top 5 content recommendations for content: [70, 76, 137, 82, 124]\n"
     ]
    }
   ],
   "source": [
    "def recommend_similar_content(content_id, top_n=5):\n",
    "    if content_id not in utility_matrix.columns:\n",
    "        raise Exception(\"Content ID not found in the dataset\")\n",
    "    \n",
    "    content_index = utility_matrix.columns.tolist().index(content_id)\n",
    "    similar_scores = item_similarity[content_index]\n",
    "    similar_content_indices = np.argsort(-similar_scores)[1:top_n+1]  # Exclude the content itself\n",
    "    \n",
    "    similar_content_ids = utility_matrix.columns[similar_content_indices]\n",
    "    return list(similar_content_ids)\n",
    "\n",
    "# Example usage:\n",
    "content_id = 86\n",
    "content_recommendations = recommend_similar_content(content_id=content_id)\n",
    "print(\"Top 5 content recommendations for content:\", content_recommendations)\n"
   ]
  },
  {
   "cell_type": "code",
   "execution_count": 17,
   "id": "321a58fd",
   "metadata": {
    "execution": {
     "iopub.execute_input": "2024-05-19T05:48:16.101623Z",
     "iopub.status.busy": "2024-05-19T05:48:16.101128Z",
     "iopub.status.idle": "2024-05-19T05:48:16.117283Z",
     "shell.execute_reply": "2024-05-19T05:48:16.115588Z"
    },
    "papermill": {
     "duration": 0.027703,
     "end_time": "2024-05-19T05:48:16.120117",
     "exception": false,
     "start_time": "2024-05-19T05:48:16.092414",
     "status": "completed"
    },
    "tags": []
   },
   "outputs": [
    {
     "name": "stdout",
     "output_type": "stream",
     "text": [
      "Details for content_id 86:\n",
      "Title: Jushi looks to boost efficiency as it awaits new adult-use cannabis markets\n",
      "Description: Multistate operator Jushi Holdings is trying to improve its efficiency and margins as it hopes for new adult-use cannabis markets in 2024.\n",
      "\n",
      "\n",
      "Details for other similar contents\n",
      "#####\n",
      "Id: 70\n",
      "Title: Canadian cannabis producer Organigram enters US, plans CA$25 million raise\n",
      "Description: Organigram Holdings has dipped into its strategic investment pool to pick up a minority stake in Roxboro, North Carolina-based Open Book Extracts as part of its plan to target emerging cannabis markets in the United States and elsewhere.\n",
      "\n",
      "#####\n",
      "Id: 76\n",
      "Title: 280E, new markets and wholesale revenue highlight cannabis earnings season\n",
      "Description: Tax strategies took the spotlight in fourth-quarter financial reports from publicly traded U.S. cannabis companies.\n",
      "\n",
      "#####\n",
      "Id: 82\n",
      "Title: How R&D cannabis lines help cultivators conduct market research\n",
      "Description: R&D cannabis lines  or limited-edition, small-batch flower  can create a line of communication between cultivators and consumers, enabling marijuana operators to conduct market research while still bringing in revenue.\n",
      "\n",
      "#####\n",
      "Id: 124\n",
      "Title: Opinion: What to consider when buying a Florida medical cannabis business license\n",
      "Description: When Florida legalizes adult use, medical cannabis business licenses likely will become valuable, but prospective buyers should perform significant diligence before committing.\n",
      "\n",
      "#####\n",
      "Id: 137\n",
      "Title: Largest cannabis MSOs lay out modest expansion plans for 2024\n",
      "Description: Several of the nations largest cannabis companies have already mapped out their retail expansion plans in 2024, a consequence of licensing caps, limited new market opportunities and ongoing capital concerns.\n",
      "\n"
     ]
    }
   ],
   "source": [
    "# Get details for the specific content_id\n",
    "content_details = content_database[content_database['id'] == content_id][['id', 'title', 'description']].iloc[0]\n",
    "    \n",
    "# Get details for the other content IDs in the provided list\n",
    "other_content_details = content_database[content_database['id'].isin(content_recommendations)][['id', 'title', 'description']]\n",
    "\n",
    "\n",
    "print(f\"Details for content_id {content_id}:\")\n",
    "print(f\"Title: {content_details['title']}\")\n",
    "print(f\"Description: {content_details['description']}\\n\")\n",
    "\n",
    "\n",
    "print(\"\\nDetails for other similar contents\")\n",
    "\n",
    "for _, content in other_content_details.iterrows():\n",
    "    print('#####')\n",
    "    print(f\"Id: {content['id']}\")\n",
    "    print(f\"Title: {content['title']}\")\n",
    "    print(f\"Description: {content['description']}\\n\")\n",
    "    \n",
    "    "
   ]
  }
 ],
 "metadata": {
  "kaggle": {
   "accelerator": "none",
   "dataSources": [
    {
     "datasetId": 5035196,
     "sourceId": 8449491,
     "sourceType": "datasetVersion"
    }
   ],
   "dockerImageVersionId": 30698,
   "isGpuEnabled": false,
   "isInternetEnabled": true,
   "language": "python",
   "sourceType": "notebook"
  },
  "kernelspec": {
   "display_name": "Python 3",
   "language": "python",
   "name": "python3"
  },
  "language_info": {
   "codemirror_mode": {
    "name": "ipython",
    "version": 3
   },
   "file_extension": ".py",
   "mimetype": "text/x-python",
   "name": "python",
   "nbconvert_exporter": "python",
   "pygments_lexer": "ipython3",
   "version": "3.10.13"
  },
  "papermill": {
   "default_parameters": {},
   "duration": 7.508338,
   "end_time": "2024-05-19T05:48:16.852002",
   "environment_variables": {},
   "exception": null,
   "input_path": "__notebook__.ipynb",
   "output_path": "__notebook__.ipynb",
   "parameters": {},
   "start_time": "2024-05-19T05:48:09.343664",
   "version": "2.5.0"
  }
 },
 "nbformat": 4,
 "nbformat_minor": 5
}
