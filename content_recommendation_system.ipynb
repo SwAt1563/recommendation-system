{
 "cells": [
  {
   "cell_type": "markdown",
   "id": "035bf5d3",
   "metadata": {
    "papermill": {
     "duration": 0.008551,
     "end_time": "2024-05-19T05:45:35.316240",
     "exception": false,
     "start_time": "2024-05-19T05:45:35.307689",
     "status": "completed"
    },
    "tags": []
   },
   "source": [
    "# Load the libraries "
   ]
  },
  {
   "cell_type": "code",
   "execution_count": 1,
   "id": "9396b06f",
   "metadata": {
    "_cell_guid": "b1076dfc-b9ad-4769-8c92-a6c4dae69d19",
    "_uuid": "8f2839f25d086af736a60e9eeb907d3b93b6e0e5",
    "execution": {
     "iopub.execute_input": "2024-05-19T05:45:35.334457Z",
     "iopub.status.busy": "2024-05-19T05:45:35.334062Z",
     "iopub.status.idle": "2024-05-19T05:45:38.141048Z",
     "shell.execute_reply": "2024-05-19T05:45:38.139650Z"
    },
    "papermill": {
     "duration": 2.819869,
     "end_time": "2024-05-19T05:45:38.144169",
     "exception": false,
     "start_time": "2024-05-19T05:45:35.324300",
     "status": "completed"
    },
    "tags": []
   },
   "outputs": [],
   "source": [
    "import numpy as np \n",
    "import pandas as pd \n",
    "from itertools import product\n",
    "from sklearn.metrics.pairwise import cosine_similarity\n",
    "from scipy.sparse import csr_matrix"
   ]
  },
  {
   "cell_type": "markdown",
   "id": "64948e92",
   "metadata": {
    "papermill": {
     "duration": 0.007576,
     "end_time": "2024-05-19T05:45:38.159974",
     "exception": false,
     "start_time": "2024-05-19T05:45:38.152398",
     "status": "completed"
    },
    "tags": []
   },
   "source": [
    "# Clean the users dataset"
   ]
  },
  {
   "cell_type": "code",
   "execution_count": 2,
   "id": "9b08c23e",
   "metadata": {
    "execution": {
     "iopub.execute_input": "2024-05-19T05:45:38.178554Z",
     "iopub.status.busy": "2024-05-19T05:45:38.177948Z",
     "iopub.status.idle": "2024-05-19T05:45:38.237740Z",
     "shell.execute_reply": "2024-05-19T05:45:38.236053Z"
    },
    "papermill": {
     "duration": 0.073886,
     "end_time": "2024-05-19T05:45:38.242074",
     "exception": false,
     "start_time": "2024-05-19T05:45:38.168188",
     "status": "completed"
    },
    "tags": []
   },
   "outputs": [
    {
     "name": "stdout",
     "output_type": "stream",
     "text": [
      "<class 'pandas.core.frame.DataFrame'>\n",
      "RangeIndex: 45 entries, 0 to 44\n",
      "Data columns (total 16 columns):\n",
      " #   Column           Non-Null Count  Dtype  \n",
      "---  ------           --------------  -----  \n",
      " 0   id               45 non-null     int64  \n",
      " 1   first_name       45 non-null     object \n",
      " 2   last_name        45 non-null     object \n",
      " 3   email            45 non-null     object \n",
      " 4   role_id          45 non-null     int64  \n",
      " 5   organisation_id  44 non-null     float64\n",
      " 6   picture_name     39 non-null     object \n",
      " 7   position         44 non-null     object \n",
      " 8   gender           45 non-null     object \n",
      " 9   city             0 non-null      float64\n",
      " 10  country          0 non-null      float64\n",
      " 11  state            0 non-null      float64\n",
      " 12  created          45 non-null     int64  \n",
      " 13  phone_number     0 non-null      float64\n",
      " 14  linkedin_url     0 non-null      float64\n",
      " 15  description      0 non-null      float64\n",
      "dtypes: float64(7), int64(3), object(6)\n",
      "memory usage: 5.8+ KB\n"
     ]
    }
   ],
   "source": [
    "users_database = pd.read_csv('/kaggle/input/recommendation-system-dataset/users.tsv', sep='\\t')\n",
    "users_database.info()"
   ]
  },
  {
   "cell_type": "code",
   "execution_count": 3,
   "id": "074b3488",
   "metadata": {
    "execution": {
     "iopub.execute_input": "2024-05-19T05:45:38.260205Z",
     "iopub.status.busy": "2024-05-19T05:45:38.259791Z",
     "iopub.status.idle": "2024-05-19T05:45:38.276380Z",
     "shell.execute_reply": "2024-05-19T05:45:38.275085Z"
    },
    "papermill": {
     "duration": 0.029312,
     "end_time": "2024-05-19T05:45:38.279592",
     "exception": false,
     "start_time": "2024-05-19T05:45:38.250280",
     "status": "completed"
    },
    "tags": []
   },
   "outputs": [
    {
     "name": "stdout",
     "output_type": "stream",
     "text": [
      "<class 'pandas.core.frame.DataFrame'>\n",
      "RangeIndex: 45 entries, 0 to 44\n",
      "Data columns (total 10 columns):\n",
      " #   Column           Non-Null Count  Dtype  \n",
      "---  ------           --------------  -----  \n",
      " 0   id               45 non-null     int64  \n",
      " 1   first_name       45 non-null     object \n",
      " 2   last_name        45 non-null     object \n",
      " 3   email            45 non-null     object \n",
      " 4   role_id          45 non-null     int64  \n",
      " 5   organisation_id  44 non-null     float64\n",
      " 6   picture_name     39 non-null     object \n",
      " 7   position         44 non-null     object \n",
      " 8   gender           45 non-null     object \n",
      " 9   created          45 non-null     int64  \n",
      "dtypes: float64(1), int64(3), object(6)\n",
      "memory usage: 3.6+ KB\n"
     ]
    }
   ],
   "source": [
    "# Drop the ['city', 'country', 'state', 'phone_number', 'linkedin_url', 'description'] columns as it's no longer needed (Empty)\n",
    "users_database = users_database.drop(columns=['city', 'country', 'state', 'phone_number', 'linkedin_url', 'description'])\n",
    "\n",
    "users_database.info()"
   ]
  },
  {
   "cell_type": "markdown",
   "id": "f62c0817",
   "metadata": {
    "papermill": {
     "duration": 0.008026,
     "end_time": "2024-05-19T05:45:38.296339",
     "exception": false,
     "start_time": "2024-05-19T05:45:38.288313",
     "status": "completed"
    },
    "tags": []
   },
   "source": [
    "# Clean the content dataset"
   ]
  },
  {
   "cell_type": "code",
   "execution_count": 4,
   "id": "defa0253",
   "metadata": {
    "execution": {
     "iopub.execute_input": "2024-05-19T05:45:38.314668Z",
     "iopub.status.busy": "2024-05-19T05:45:38.314266Z",
     "iopub.status.idle": "2024-05-19T05:45:38.336714Z",
     "shell.execute_reply": "2024-05-19T05:45:38.335621Z"
    },
    "papermill": {
     "duration": 0.034421,
     "end_time": "2024-05-19T05:45:38.338976",
     "exception": false,
     "start_time": "2024-05-19T05:45:38.304555",
     "status": "completed"
    },
    "tags": []
   },
   "outputs": [
    {
     "name": "stdout",
     "output_type": "stream",
     "text": [
      "<class 'pandas.core.frame.DataFrame'>\n",
      "RangeIndex: 142 entries, 0 to 141\n",
      "Data columns (total 9 columns):\n",
      " #   Column            Non-Null Count  Dtype  \n",
      "---  ------            --------------  -----  \n",
      " 0   id                141 non-null    float64\n",
      " 1   title             142 non-null    object \n",
      " 2    description      141 non-null    object \n",
      " 3   content_type      141 non-null    object \n",
      " 4   organisation_id   1 non-null      float64\n",
      " 5   url               141 non-null    object \n",
      " 6   creator_id        7 non-null      float64\n",
      " 7   created           140 non-null    float64\n",
      " 8   publication_date  133 non-null    object \n",
      "dtypes: float64(4), object(5)\n",
      "memory usage: 10.1+ KB\n"
     ]
    }
   ],
   "source": [
    "content_database = pd.read_csv('/kaggle/input/recommendation-system-dataset/content.tsv', sep='\\t')\n",
    "content_database.info()"
   ]
  },
  {
   "cell_type": "code",
   "execution_count": 5,
   "id": "ea6f33bc",
   "metadata": {
    "execution": {
     "iopub.execute_input": "2024-05-19T05:45:38.358020Z",
     "iopub.status.busy": "2024-05-19T05:45:38.357576Z",
     "iopub.status.idle": "2024-05-19T05:45:38.379595Z",
     "shell.execute_reply": "2024-05-19T05:45:38.378275Z"
    },
    "papermill": {
     "duration": 0.03501,
     "end_time": "2024-05-19T05:45:38.382422",
     "exception": false,
     "start_time": "2024-05-19T05:45:38.347412",
     "status": "completed"
    },
    "tags": []
   },
   "outputs": [
    {
     "name": "stdout",
     "output_type": "stream",
     "text": [
      "<class 'pandas.core.frame.DataFrame'>\n",
      "Index: 141 entries, 0 to 141\n",
      "Data columns (total 6 columns):\n",
      " #   Column            Non-Null Count  Dtype  \n",
      "---  ------            --------------  -----  \n",
      " 0   id                141 non-null    int64  \n",
      " 1   title             141 non-null    object \n",
      " 2   description       141 non-null    object \n",
      " 3   url               140 non-null    object \n",
      " 4   created           140 non-null    float64\n",
      " 5   publication_date  133 non-null    object \n",
      "dtypes: float64(1), int64(1), object(4)\n",
      "memory usage: 7.7+ KB\n"
     ]
    }
   ],
   "source": [
    "# Rename the column to remove leading whitespace (description column has leading whitespace)\n",
    "content_database = content_database.rename(columns=lambda x: x.strip())\n",
    "\n",
    "# Drop the 'organisation_id' and 'creator_id' columns as it's no longer needed (Empty)\n",
    "# 'content_type' same value for all not important\n",
    "content_database = content_database.drop(columns=['organisation_id', 'creator_id', 'content_type'])\n",
    "\n",
    "# Remove row that doesn't has id\n",
    "content_database = content_database.dropna(subset=['id'])\n",
    "\n",
    "# Convert the id type to integer instead of float\n",
    "content_database['id'] = content_database['id'].astype(int)\n",
    "\n",
    "content_database.info()"
   ]
  },
  {
   "cell_type": "code",
   "execution_count": 6,
   "id": "e31bf9bc",
   "metadata": {
    "execution": {
     "iopub.execute_input": "2024-05-19T05:45:38.402133Z",
     "iopub.status.busy": "2024-05-19T05:45:38.401693Z",
     "iopub.status.idle": "2024-05-19T05:45:38.423547Z",
     "shell.execute_reply": "2024-05-19T05:45:38.422655Z"
    },
    "papermill": {
     "duration": 0.034911,
     "end_time": "2024-05-19T05:45:38.426064",
     "exception": false,
     "start_time": "2024-05-19T05:45:38.391153",
     "status": "completed"
    },
    "tags": []
   },
   "outputs": [
    {
     "data": {
      "text/html": [
       "<div>\n",
       "<style scoped>\n",
       "    .dataframe tbody tr th:only-of-type {\n",
       "        vertical-align: middle;\n",
       "    }\n",
       "\n",
       "    .dataframe tbody tr th {\n",
       "        vertical-align: top;\n",
       "    }\n",
       "\n",
       "    .dataframe thead th {\n",
       "        text-align: right;\n",
       "    }\n",
       "</style>\n",
       "<table border=\"1\" class=\"dataframe\">\n",
       "  <thead>\n",
       "    <tr style=\"text-align: right;\">\n",
       "      <th></th>\n",
       "      <th>id</th>\n",
       "      <th>title</th>\n",
       "      <th>description</th>\n",
       "      <th>url</th>\n",
       "      <th>created</th>\n",
       "      <th>publication_date</th>\n",
       "    </tr>\n",
       "  </thead>\n",
       "  <tbody>\n",
       "    <tr>\n",
       "      <th>0</th>\n",
       "      <td>1</td>\n",
       "      <td>Justice Department Researcher Questions 0.3% T...</td>\n",
       "      <td>The 0.3 percent THC threshold in the federal d...</td>\n",
       "      <td>https://www.marijuanamoment.net/justice-depart...</td>\n",
       "      <td>1.714286e+09</td>\n",
       "      <td>NaN</td>\n",
       "    </tr>\n",
       "    <tr>\n",
       "      <th>1</th>\n",
       "      <td>2</td>\n",
       "      <td>Cannabis operator Canopy raising $35 million i...</td>\n",
       "      <td>Canadian cannabis company Canopy Growth Corp. ...</td>\n",
       "      <td>https://mjbizdaily.com/cannabis-operator-canop...</td>\n",
       "      <td>1.714286e+09</td>\n",
       "      <td>NaN</td>\n",
       "    </tr>\n",
       "    <tr>\n",
       "      <th>2</th>\n",
       "      <td>3</td>\n",
       "      <td>Global Cannabis Legalization: A Comprehensive ...</td>\n",
       "      <td>This article provides an overview of the evolv...</td>\n",
       "      <td>https://thecannabiswatcher.com/pages/articles/...</td>\n",
       "      <td>1.714286e+09</td>\n",
       "      <td>NaN</td>\n",
       "    </tr>\n",
       "    <tr>\n",
       "      <th>3</th>\n",
       "      <td>4</td>\n",
       "      <td>Top Biden Health Official In Touch With DEA Ab...</td>\n",
       "      <td>The U.S. Department of Health and Human Servic...</td>\n",
       "      <td>https://www.marijuanamoment.net/top-biden-heal...</td>\n",
       "      <td>1.714286e+09</td>\n",
       "      <td>NaN</td>\n",
       "    </tr>\n",
       "    <tr>\n",
       "      <th>4</th>\n",
       "      <td>5</td>\n",
       "      <td>Regulated marijuana offers new chance at equit...</td>\n",
       "      <td>Martin Luther King III, co-founder of the Drum...</td>\n",
       "      <td>https://mjbizdaily.com/marijuana-social-equity...</td>\n",
       "      <td>1.714286e+09</td>\n",
       "      <td>NaN</td>\n",
       "    </tr>\n",
       "  </tbody>\n",
       "</table>\n",
       "</div>"
      ],
      "text/plain": [
       "   id                                              title  \\\n",
       "0   1  Justice Department Researcher Questions 0.3% T...   \n",
       "1   2  Cannabis operator Canopy raising $35 million i...   \n",
       "2   3  Global Cannabis Legalization: A Comprehensive ...   \n",
       "3   4  Top Biden Health Official In Touch With DEA Ab...   \n",
       "4   5  Regulated marijuana offers new chance at equit...   \n",
       "\n",
       "                                         description  \\\n",
       "0  The 0.3 percent THC threshold in the federal d...   \n",
       "1  Canadian cannabis company Canopy Growth Corp. ...   \n",
       "2  This article provides an overview of the evolv...   \n",
       "3  The U.S. Department of Health and Human Servic...   \n",
       "4  Martin Luther King III, co-founder of the Drum...   \n",
       "\n",
       "                                                 url       created  \\\n",
       "0  https://www.marijuanamoment.net/justice-depart...  1.714286e+09   \n",
       "1  https://mjbizdaily.com/cannabis-operator-canop...  1.714286e+09   \n",
       "2  https://thecannabiswatcher.com/pages/articles/...  1.714286e+09   \n",
       "3  https://www.marijuanamoment.net/top-biden-heal...  1.714286e+09   \n",
       "4  https://mjbizdaily.com/marijuana-social-equity...  1.714286e+09   \n",
       "\n",
       "  publication_date  \n",
       "0              NaN  \n",
       "1              NaN  \n",
       "2              NaN  \n",
       "3              NaN  \n",
       "4              NaN  "
      ]
     },
     "execution_count": 6,
     "metadata": {},
     "output_type": "execute_result"
    }
   ],
   "source": [
    "content_database.head()"
   ]
  },
  {
   "cell_type": "markdown",
   "id": "869eb42e",
   "metadata": {
    "papermill": {
     "duration": 0.009509,
     "end_time": "2024-05-19T05:45:38.444615",
     "exception": false,
     "start_time": "2024-05-19T05:45:38.435106",
     "status": "completed"
    },
    "tags": []
   },
   "source": [
    "# Recommendation System Preprocessing"
   ]
  },
  {
   "cell_type": "code",
   "execution_count": 7,
   "id": "d74651ae",
   "metadata": {
    "execution": {
     "iopub.execute_input": "2024-05-19T05:45:38.464867Z",
     "iopub.status.busy": "2024-05-19T05:45:38.463609Z",
     "iopub.status.idle": "2024-05-19T05:45:38.485262Z",
     "shell.execute_reply": "2024-05-19T05:45:38.483893Z"
    },
    "papermill": {
     "duration": 0.034696,
     "end_time": "2024-05-19T05:45:38.488099",
     "exception": false,
     "start_time": "2024-05-19T05:45:38.453403",
     "status": "completed"
    },
    "tags": []
   },
   "outputs": [],
   "source": [
    "# Read the recommendations file\n",
    "recommendations_file_path = '/kaggle/input/recommendation-system-dataset/recommendations.tsv'\n",
    "df = pd.read_csv(recommendations_file_path, sep='\\t')"
   ]
  },
  {
   "cell_type": "code",
   "execution_count": 8,
   "id": "4356bd0a",
   "metadata": {
    "execution": {
     "iopub.execute_input": "2024-05-19T05:45:38.508660Z",
     "iopub.status.busy": "2024-05-19T05:45:38.508247Z",
     "iopub.status.idle": "2024-05-19T05:45:38.520973Z",
     "shell.execute_reply": "2024-05-19T05:45:38.519441Z"
    },
    "papermill": {
     "duration": 0.026376,
     "end_time": "2024-05-19T05:45:38.523617",
     "exception": false,
     "start_time": "2024-05-19T05:45:38.497241",
     "status": "completed"
    },
    "tags": []
   },
   "outputs": [
    {
     "name": "stdout",
     "output_type": "stream",
     "text": [
      "<class 'pandas.core.frame.DataFrame'>\n",
      "RangeIndex: 658 entries, 0 to 657\n",
      "Data columns (total 14 columns):\n",
      " #   Column           Non-Null Count  Dtype  \n",
      "---  ------           --------------  -----  \n",
      " 0   id               658 non-null    int64  \n",
      " 1   title            658 non-null    object \n",
      " 2   asset_type       658 non-null    object \n",
      " 3   asset_id         658 non-null    int64  \n",
      " 4   organisation_id  658 non-null    int64  \n",
      " 5   user_id          658 non-null    int64  \n",
      " 6   creator_id       658 non-null    int64  \n",
      " 7   system_score     658 non-null    float64\n",
      " 8   user_score       0 non-null      float64\n",
      " 9   created          658 non-null    int64  \n",
      " 10  opened           625 non-null    float64\n",
      " 11  deleted          403 non-null    float64\n",
      " 12  saved            338 non-null    float64\n",
      " 13  clicked_out      414 non-null    float64\n",
      "dtypes: float64(6), int64(6), object(2)\n",
      "memory usage: 72.1+ KB\n"
     ]
    }
   ],
   "source": [
    "df.info()"
   ]
  },
  {
   "cell_type": "markdown",
   "id": "8f65a8aa",
   "metadata": {
    "papermill": {
     "duration": 0.008778,
     "end_time": "2024-05-19T05:45:38.542120",
     "exception": false,
     "start_time": "2024-05-19T05:45:38.533342",
     "status": "completed"
    },
    "tags": []
   },
   "source": [
    "\n",
    "### Required Columns for Collaborative Filtering Recommendation System\n",
    "\n",
    "To implement a collaborative filtering recommendation system, the following columns are necessary:\n",
    "\n",
    "1. `user_id`\n",
    "2. `content_id`\n",
    "3. `system_score`\n",
    "\n"
   ]
  },
  {
   "cell_type": "code",
   "execution_count": 9,
   "id": "f46f7cae",
   "metadata": {
    "execution": {
     "iopub.execute_input": "2024-05-19T05:45:38.562655Z",
     "iopub.status.busy": "2024-05-19T05:45:38.561814Z",
     "iopub.status.idle": "2024-05-19T05:45:38.581289Z",
     "shell.execute_reply": "2024-05-19T05:45:38.579895Z"
    },
    "papermill": {
     "duration": 0.033043,
     "end_time": "2024-05-19T05:45:38.584140",
     "exception": false,
     "start_time": "2024-05-19T05:45:38.551097",
     "status": "completed"
    },
    "tags": []
   },
   "outputs": [
    {
     "name": "stdout",
     "output_type": "stream",
     "text": [
      "Content Statistics:\n",
      "Mean: 0.308 Median: 0.3 Number of samples: 218\n"
     ]
    }
   ],
   "source": [
    "# Assuming df is your DataFrame after loading your data\n",
    "# Filter the required columns\n",
    "filtered_df = df[['asset_type', 'asset_id', 'user_id', 'system_score']]\n",
    "\n",
    "# Divide the dataset based on 'asset_type'\n",
    "content_df = filtered_df[filtered_df['asset_type'] == 'content']\n",
    "\n",
    "# Drop the 'asset_type' column as it's no longer needed\n",
    "content_df = content_df.drop(columns=['asset_type'])\n",
    "\n",
    "# Perform basic statistics for each group\n",
    "content_stats = content_df['system_score'].describe()\n",
    "\n",
    "\n",
    "# Additional analysis if needed (mean, median, count)\n",
    "content_mean = round(content_df['system_score'].mean(), 3)\n",
    "content_median = content_df['system_score'].median()\n",
    "content_count = content_df['system_score'].count()\n",
    "\n",
    "\n",
    "print(\"Content Statistics:\")\n",
    "print(\"Mean:\", content_mean, \"Median:\", content_median, \"Number of samples:\", content_count)\n",
    "\n"
   ]
  },
  {
   "cell_type": "markdown",
   "id": "4159d5cb",
   "metadata": {
    "papermill": {
     "duration": 0.008831,
     "end_time": "2024-05-19T05:45:38.602237",
     "exception": false,
     "start_time": "2024-05-19T05:45:38.593406",
     "status": "completed"
    },
    "tags": []
   },
   "source": [
    "# Content Recommendation System Matrix"
   ]
  },
  {
   "cell_type": "code",
   "execution_count": 10,
   "id": "916e18c9",
   "metadata": {
    "execution": {
     "iopub.execute_input": "2024-05-19T05:45:38.622724Z",
     "iopub.status.busy": "2024-05-19T05:45:38.622261Z",
     "iopub.status.idle": "2024-05-19T05:45:38.700230Z",
     "shell.execute_reply": "2024-05-19T05:45:38.698902Z"
    },
    "papermill": {
     "duration": 0.091575,
     "end_time": "2024-05-19T05:45:38.702965",
     "exception": false,
     "start_time": "2024-05-19T05:45:38.611390",
     "status": "completed"
    },
    "tags": []
   },
   "outputs": [
    {
     "name": "stdout",
     "output_type": "stream",
     "text": [
      "<class 'pandas.core.frame.DataFrame'>\n",
      "RangeIndex: 6345 entries, 0 to 6344\n",
      "Data columns (total 3 columns):\n",
      " #   Column        Non-Null Count  Dtype  \n",
      "---  ------        --------------  -----  \n",
      " 0   user_id       6345 non-null   int64  \n",
      " 1   content_id    6345 non-null   int64  \n",
      " 2   system_score  218 non-null    float64\n",
      "dtypes: float64(1), int64(2)\n",
      "memory usage: 148.8 KB\n"
     ]
    }
   ],
   "source": [
    "# Extract unique IDs\n",
    "unique_user_ids = users_database['id'].unique()\n",
    "unique_content_ids = content_database['id'].unique()\n",
    "\n",
    "\n",
    "# Create all combinations of user_id and content_id\n",
    "all_combinations = pd.DataFrame(product(unique_user_ids, unique_content_ids), columns=['user_id', 'content_id'])\n",
    "\n",
    "# Merge all_combinations with content_df on the appropriate columns\n",
    "# Since 'content_id' in all_combinations corresponds to 'asset_id' in content_df\n",
    "merged_df = all_combinations.merge(content_df[['user_id', 'asset_id', 'system_score']], \n",
    "                                   left_on=['user_id', 'content_id'], \n",
    "                                   right_on=['user_id', 'asset_id'], \n",
    "                                   how='left')\n",
    "\n",
    "# Drop the 'asset_id' column as it is redundant with 'content_id'\n",
    "merged_df.drop(columns=['asset_id'], inplace=True)\n",
    "\n",
    "\n",
    "merged_df.info()"
   ]
  },
  {
   "cell_type": "markdown",
   "id": "044b3ec6",
   "metadata": {
    "papermill": {
     "duration": 0.008875,
     "end_time": "2024-05-19T05:45:38.721242",
     "exception": false,
     "start_time": "2024-05-19T05:45:38.712367",
     "status": "completed"
    },
    "tags": []
   },
   "source": [
    "## Evaluating sparsity\n",
    "Here, we calculate sparsity by dividing the number of stored elements by total number of elements. The number of stored (non-empty) elements in our matrix (nnz) is equivalent to the number of ratings in our dataset.\n",
    "- If sparsity more than 0.1 then you can make the recommendation system \n",
    "- Every user must have rated at least one piece of content rated\n",
    "- Every piece of content must have been rated by at least one user"
   ]
  },
  {
   "cell_type": "code",
   "execution_count": 11,
   "id": "a667ffd5",
   "metadata": {
    "execution": {
     "iopub.execute_input": "2024-05-19T05:45:38.741356Z",
     "iopub.status.busy": "2024-05-19T05:45:38.740914Z",
     "iopub.status.idle": "2024-05-19T05:45:38.747766Z",
     "shell.execute_reply": "2024-05-19T05:45:38.746472Z"
    },
    "papermill": {
     "duration": 0.020822,
     "end_time": "2024-05-19T05:45:38.751207",
     "exception": false,
     "start_time": "2024-05-19T05:45:38.730385",
     "status": "completed"
    },
    "tags": []
   },
   "outputs": [
    {
     "name": "stdout",
     "output_type": "stream",
     "text": [
      "Matrix sparsity: 3.44%\n"
     ]
    }
   ],
   "source": [
    "n_total = len(merged_df)\n",
    "n_ratings = merged_df['system_score'].notna().sum()\n",
    "sparsity = n_ratings/n_total\n",
    "print(f\"Matrix sparsity: {round(sparsity*100,2)}%\")"
   ]
  },
  {
   "cell_type": "code",
   "execution_count": 12,
   "id": "932c6b7b",
   "metadata": {
    "execution": {
     "iopub.execute_input": "2024-05-19T05:45:38.771801Z",
     "iopub.status.busy": "2024-05-19T05:45:38.771382Z",
     "iopub.status.idle": "2024-05-19T05:45:38.779466Z",
     "shell.execute_reply": "2024-05-19T05:45:38.777974Z"
    },
    "papermill": {
     "duration": 0.021402,
     "end_time": "2024-05-19T05:45:38.782072",
     "exception": false,
     "start_time": "2024-05-19T05:45:38.760670",
     "status": "completed"
    },
    "tags": []
   },
   "outputs": [
    {
     "name": "stdout",
     "output_type": "stream",
     "text": [
      "Minimum number of ratings by any user: 0\n"
     ]
    }
   ],
   "source": [
    "# Group by user_id and count non-null system scores for each user\n",
    "user_ratings_count = merged_df.groupby('user_id')['system_score'].count()\n",
    "\n",
    "# Get the minimum number of ratings among all users\n",
    "min_ratings = user_ratings_count.min()\n",
    "\n",
    "print(\"Minimum number of ratings by any user:\", min_ratings)\n"
   ]
  },
  {
   "cell_type": "code",
   "execution_count": 13,
   "id": "4e517229",
   "metadata": {
    "execution": {
     "iopub.execute_input": "2024-05-19T05:45:38.802696Z",
     "iopub.status.busy": "2024-05-19T05:45:38.802297Z",
     "iopub.status.idle": "2024-05-19T05:45:38.811226Z",
     "shell.execute_reply": "2024-05-19T05:45:38.809657Z"
    },
    "papermill": {
     "duration": 0.02226,
     "end_time": "2024-05-19T05:45:38.813814",
     "exception": false,
     "start_time": "2024-05-19T05:45:38.791554",
     "status": "completed"
    },
    "tags": []
   },
   "outputs": [
    {
     "name": "stdout",
     "output_type": "stream",
     "text": [
      "Minimum number of ratings by any content: 0\n"
     ]
    }
   ],
   "source": [
    "# Group by content_id and count non-null system scores for each content\n",
    "content_ratings_count = merged_df.groupby('content_id')['system_score'].count()\n",
    "\n",
    "# Get the minimum number of ratings among all contents\n",
    "min_ratings = content_ratings_count.min()\n",
    "\n",
    "print(\"Minimum number of ratings by any content:\", min_ratings)\n"
   ]
  },
  {
   "cell_type": "markdown",
   "id": "d8e2f8e8",
   "metadata": {
    "papermill": {
     "duration": 0.009341,
     "end_time": "2024-05-19T05:45:38.833182",
     "exception": false,
     "start_time": "2024-05-19T05:45:38.823841",
     "status": "completed"
    },
    "tags": []
   },
   "source": [
    "## Building the Recommendation System"
   ]
  },
  {
   "cell_type": "code",
   "execution_count": 14,
   "id": "e17c4cfc",
   "metadata": {
    "execution": {
     "iopub.execute_input": "2024-05-19T05:45:38.854427Z",
     "iopub.status.busy": "2024-05-19T05:45:38.854028Z",
     "iopub.status.idle": "2024-05-19T05:45:38.885523Z",
     "shell.execute_reply": "2024-05-19T05:45:38.884199Z"
    },
    "papermill": {
     "duration": 0.045454,
     "end_time": "2024-05-19T05:45:38.888374",
     "exception": false,
     "start_time": "2024-05-19T05:45:38.842920",
     "status": "completed"
    },
    "tags": []
   },
   "outputs": [],
   "source": [
    "# Fill missing values with 0 (can change based on strategy)\n",
    "# it just will take the users and contents that has at least one rated value\n",
    "utility_matrix = merged_df.pivot_table(index='user_id', columns='content_id', values='system_score', fill_value=0)\n",
    "\n",
    "# Convert to sparse matrix for efficient calculations\n",
    "sparse_matrix = csr_matrix(utility_matrix.values)\n",
    "\n",
    "# Compute cosine similarity between users\n",
    "user_similarity = cosine_similarity(sparse_matrix)\n",
    "\n",
    "# Compute cosine similarity between items\n",
    "item_similarity = cosine_similarity(sparse_matrix.T)\n"
   ]
  },
  {
   "cell_type": "code",
   "execution_count": 15,
   "id": "22121829",
   "metadata": {
    "execution": {
     "iopub.execute_input": "2024-05-19T05:45:38.909676Z",
     "iopub.status.busy": "2024-05-19T05:45:38.909272Z",
     "iopub.status.idle": "2024-05-19T05:45:38.921180Z",
     "shell.execute_reply": "2024-05-19T05:45:38.919923Z"
    },
    "papermill": {
     "duration": 0.025492,
     "end_time": "2024-05-19T05:45:38.923704",
     "exception": false,
     "start_time": "2024-05-19T05:45:38.898212",
     "status": "completed"
    },
    "tags": []
   },
   "outputs": [
    {
     "name": "stdout",
     "output_type": "stream",
     "text": [
      "Top 5 content recommendations for user: [21, 131, 127, 124, 123]\n"
     ]
    }
   ],
   "source": [
    "def recommend_content_for_user(user_id, top_n=5):\n",
    "    if user_id not in utility_matrix.index:\n",
    "        raise Exception(\"User ID not found in the dataset\")\n",
    "    \n",
    "    user_index = utility_matrix.index.tolist().index(user_id)\n",
    "    similar_scores = user_similarity[user_index]\n",
    "    similar_users = np.argsort(-similar_scores)\n",
    "    \n",
    "    # Get the content items already rated by the user\n",
    "    rated_content = set(utility_matrix.loc[user_id][utility_matrix.loc[user_id] > 0].index)\n",
    "    \n",
    "    recommended_content = {}\n",
    "    for i in similar_users:\n",
    "        for content_id in utility_matrix.columns[np.argsort(-utility_matrix.iloc[i].values)]:\n",
    "            if content_id not in rated_content and content_id not in recommended_content:\n",
    "                recommended_content[content_id] = utility_matrix.iloc[i][content_id]\n",
    "            if len(recommended_content) == top_n:\n",
    "                return list(recommended_content.keys())\n",
    "    return list(recommended_content.keys())\n",
    "\n",
    "# Example usage:\n",
    "user_recommendations = recommend_content_for_user(user_id=96)\n",
    "print(\"Top 5 content recommendations for user:\", user_recommendations)\n"
   ]
  },
  {
   "cell_type": "code",
   "execution_count": 16,
   "id": "7f7e673a",
   "metadata": {
    "execution": {
     "iopub.execute_input": "2024-05-19T05:45:38.945603Z",
     "iopub.status.busy": "2024-05-19T05:45:38.944601Z",
     "iopub.status.idle": "2024-05-19T05:45:38.953589Z",
     "shell.execute_reply": "2024-05-19T05:45:38.952472Z"
    },
    "papermill": {
     "duration": 0.022705,
     "end_time": "2024-05-19T05:45:38.956329",
     "exception": false,
     "start_time": "2024-05-19T05:45:38.933624",
     "status": "completed"
    },
    "tags": []
   },
   "outputs": [
    {
     "name": "stdout",
     "output_type": "stream",
     "text": [
      "Top 5 content recommendations for content: [70, 76, 137, 82, 124]\n"
     ]
    }
   ],
   "source": [
    "def recommend_similar_content(content_id, top_n=5):\n",
    "    if content_id not in utility_matrix.columns:\n",
    "        raise Exception(\"Content ID not found in the dataset\")\n",
    "    \n",
    "    content_index = utility_matrix.columns.tolist().index(content_id)\n",
    "    similar_scores = item_similarity[content_index]\n",
    "    similar_content_indices = np.argsort(-similar_scores)[1:top_n+1]  # Exclude the content itself\n",
    "    \n",
    "    similar_content_ids = utility_matrix.columns[similar_content_indices]\n",
    "    return list(similar_content_ids)\n",
    "\n",
    "# Example usage:\n",
    "content_id = 86\n",
    "content_recommendations = recommend_similar_content(content_id=content_id)\n",
    "print(\"Top 5 content recommendations for content:\", content_recommendations)\n"
   ]
  },
  {
   "cell_type": "code",
   "execution_count": 17,
   "id": "3d5dae68",
   "metadata": {
    "execution": {
     "iopub.execute_input": "2024-05-19T05:45:38.978068Z",
     "iopub.status.busy": "2024-05-19T05:45:38.977423Z",
     "iopub.status.idle": "2024-05-19T05:45:38.992371Z",
     "shell.execute_reply": "2024-05-19T05:45:38.991127Z"
    },
    "papermill": {
     "duration": 0.029374,
     "end_time": "2024-05-19T05:45:38.995494",
     "exception": false,
     "start_time": "2024-05-19T05:45:38.966120",
     "status": "completed"
    },
    "tags": []
   },
   "outputs": [
    {
     "name": "stdout",
     "output_type": "stream",
     "text": [
      "Details for content_id 86:\n",
      "Title: Jushi looks to boost efficiency as it awaits new adult-use cannabis markets\n",
      "Description: Multistate operator Jushi Holdings is trying to improve its efficiency and margins as it hopes for new adult-use cannabis markets in 2024.\n",
      "\n",
      "\n",
      "Details for other similar contents\n",
      "#####\n",
      "Id: 70\n",
      "Title: Canadian cannabis producer Organigram enters US, plans CA$25 million raise\n",
      "Description: Organigram Holdings has dipped into its strategic investment pool to pick up a minority stake in Roxboro, North Carolina-based Open Book Extracts as part of its plan to target emerging cannabis markets in the United States and elsewhere.\n",
      "\n",
      "#####\n",
      "Id: 76\n",
      "Title: 280E, new markets and wholesale revenue highlight cannabis earnings season\n",
      "Description: Tax strategies took the spotlight in fourth-quarter financial reports from publicly traded U.S. cannabis companies.\n",
      "\n",
      "#####\n",
      "Id: 82\n",
      "Title: How R&D cannabis lines help cultivators conduct market research\n",
      "Description: R&D cannabis lines  or limited-edition, small-batch flower  can create a line of communication between cultivators and consumers, enabling marijuana operators to conduct market research while still bringing in revenue.\n",
      "\n",
      "#####\n",
      "Id: 124\n",
      "Title: Opinion: What to consider when buying a Florida medical cannabis business license\n",
      "Description: When Florida legalizes adult use, medical cannabis business licenses likely will become valuable, but prospective buyers should perform significant diligence before committing.\n",
      "\n",
      "#####\n",
      "Id: 137\n",
      "Title: Largest cannabis MSOs lay out modest expansion plans for 2024\n",
      "Description: Several of the nations largest cannabis companies have already mapped out their retail expansion plans in 2024, a consequence of licensing caps, limited new market opportunities and ongoing capital concerns.\n",
      "\n"
     ]
    }
   ],
   "source": [
    "# Get details for the specific content_id\n",
    "content_details = content_database[content_database['id'] == content_id][['id', 'title', 'description']].iloc[0]\n",
    "    \n",
    "# Get details for the other content IDs in the provided list\n",
    "other_content_details = content_database[content_database['id'].isin(content_recommendations)][['id', 'title', 'description']]\n",
    "\n",
    "\n",
    "print(f\"Details for content_id {content_id}:\")\n",
    "print(f\"Title: {content_details['title']}\")\n",
    "print(f\"Description: {content_details['description']}\\n\")\n",
    "\n",
    "\n",
    "print(\"\\nDetails for other similar contents\")\n",
    "\n",
    "for _, content in other_content_details.iterrows():\n",
    "    print('#####')\n",
    "    print(f\"Id: {content['id']}\")\n",
    "    print(f\"Title: {content['title']}\")\n",
    "    print(f\"Description: {content['description']}\\n\")\n",
    "    \n",
    "    "
   ]
  }
 ],
 "metadata": {
  "kaggle": {
   "accelerator": "none",
   "dataSources": [
    {
     "datasetId": 5035196,
     "sourceId": 8449491,
     "sourceType": "datasetVersion"
    }
   ],
   "dockerImageVersionId": 30698,
   "isGpuEnabled": false,
   "isInternetEnabled": true,
   "language": "python",
   "sourceType": "notebook"
  },
  "kernelspec": {
   "display_name": "Python 3",
   "language": "python",
   "name": "python3"
  },
  "language_info": {
   "codemirror_mode": {
    "name": "ipython",
    "version": 3
   },
   "file_extension": ".py",
   "mimetype": "text/x-python",
   "name": "python",
   "nbconvert_exporter": "python",
   "pygments_lexer": "ipython3",
   "version": "3.10.13"
  },
  "papermill": {
   "default_parameters": {},
   "duration": 7.828723,
   "end_time": "2024-05-19T05:45:39.628331",
   "environment_variables": {},
   "exception": null,
   "input_path": "__notebook__.ipynb",
   "output_path": "__notebook__.ipynb",
   "parameters": {},
   "start_time": "2024-05-19T05:45:31.799608",
   "version": "2.5.0"
  }
 },
 "nbformat": 4,
 "nbformat_minor": 5
}
