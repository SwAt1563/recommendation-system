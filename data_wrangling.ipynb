{
 "cells": [
  {
   "cell_type": "markdown",
   "id": "81c9867f",
   "metadata": {
    "papermill": {
     "duration": 0.009774,
     "end_time": "2024-05-18T17:17:56.968516",
     "exception": false,
     "start_time": "2024-05-18T17:17:56.958742",
     "status": "completed"
    },
    "tags": []
   },
   "source": [
    "# Libraries"
   ]
  },
  {
   "cell_type": "code",
   "execution_count": 1,
   "id": "b9c74178",
   "metadata": {
    "_cell_guid": "b1076dfc-b9ad-4769-8c92-a6c4dae69d19",
    "_uuid": "8f2839f25d086af736a60e9eeb907d3b93b6e0e5",
    "execution": {
     "iopub.execute_input": "2024-05-18T17:17:56.988524Z",
     "iopub.status.busy": "2024-05-18T17:17:56.987738Z",
     "iopub.status.idle": "2024-05-18T17:17:57.910500Z",
     "shell.execute_reply": "2024-05-18T17:17:57.909233Z"
    },
    "papermill": {
     "duration": 0.936012,
     "end_time": "2024-05-18T17:17:57.913443",
     "exception": false,
     "start_time": "2024-05-18T17:17:56.977431",
     "status": "completed"
    },
    "tags": []
   },
   "outputs": [],
   "source": [
    "import numpy as np \n",
    "import pandas as pd "
   ]
  },
  {
   "cell_type": "markdown",
   "id": "1f0af285",
   "metadata": {
    "papermill": {
     "duration": 0.008594,
     "end_time": "2024-05-18T17:17:57.930975",
     "exception": false,
     "start_time": "2024-05-18T17:17:57.922381",
     "status": "completed"
    },
    "tags": []
   },
   "source": [
    "## Read the datasets\n",
    "- users\n",
    "- organisations\n",
    "- contents\n",
    "- events\n",
    "- contacts\n",
    "- recommendations"
   ]
  },
  {
   "cell_type": "code",
   "execution_count": 2,
   "id": "1ba6635b",
   "metadata": {
    "execution": {
     "iopub.execute_input": "2024-05-18T17:17:57.950694Z",
     "iopub.status.busy": "2024-05-18T17:17:57.949672Z",
     "iopub.status.idle": "2024-05-18T17:17:58.033222Z",
     "shell.execute_reply": "2024-05-18T17:17:58.031978Z"
    },
    "papermill": {
     "duration": 0.096556,
     "end_time": "2024-05-18T17:17:58.036302",
     "exception": false,
     "start_time": "2024-05-18T17:17:57.939746",
     "status": "completed"
    },
    "tags": []
   },
   "outputs": [],
   "source": [
    "# Read the datasets\n",
    "users_df = pd.read_csv('/kaggle/input/recommendation-system-dataset/users.tsv', sep='\\t')\n",
    "organisations_df = pd.read_csv('/kaggle/input/recommendation-system-dataset/organisations.tsv', sep='\\t')\n",
    "contents_df = pd.read_csv('/kaggle/input/recommendation-system-dataset/content.tsv', sep='\\t')\n",
    "events_df = pd.read_csv('/kaggle/input/recommendation-system-dataset/events.tsv', sep='\\t')\n",
    "contacts_df = pd.read_csv('/kaggle/input/recommendation-system-dataset/contacts.tsv', sep='\\t')\n",
    "recommendations_df = pd.read_csv('/kaggle/input/recommendation-system-dataset/recommendations.tsv', sep='\\t')"
   ]
  },
  {
   "cell_type": "markdown",
   "id": "9dacb524",
   "metadata": {
    "papermill": {
     "duration": 0.008423,
     "end_time": "2024-05-18T17:17:58.054182",
     "exception": false,
     "start_time": "2024-05-18T17:17:58.045759",
     "status": "completed"
    },
    "tags": []
   },
   "source": [
    "### Preprocessing the users table\n",
    "- remove the empty columns (city, country, state, phone_number, linkedin_url and description)"
   ]
  },
  {
   "cell_type": "code",
   "execution_count": 3,
   "id": "dc59e3a4",
   "metadata": {
    "execution": {
     "iopub.execute_input": "2024-05-18T17:17:58.073775Z",
     "iopub.status.busy": "2024-05-18T17:17:58.073375Z",
     "iopub.status.idle": "2024-05-18T17:17:58.107673Z",
     "shell.execute_reply": "2024-05-18T17:17:58.106242Z"
    },
    "papermill": {
     "duration": 0.047279,
     "end_time": "2024-05-18T17:17:58.110323",
     "exception": false,
     "start_time": "2024-05-18T17:17:58.063044",
     "status": "completed"
    },
    "tags": []
   },
   "outputs": [
    {
     "name": "stdout",
     "output_type": "stream",
     "text": [
      "<class 'pandas.core.frame.DataFrame'>\n",
      "RangeIndex: 45 entries, 0 to 44\n",
      "Data columns (total 16 columns):\n",
      " #   Column           Non-Null Count  Dtype  \n",
      "---  ------           --------------  -----  \n",
      " 0   id               45 non-null     int64  \n",
      " 1   first_name       45 non-null     object \n",
      " 2   last_name        45 non-null     object \n",
      " 3   email            45 non-null     object \n",
      " 4   role_id          45 non-null     int64  \n",
      " 5   organisation_id  44 non-null     float64\n",
      " 6   picture_name     39 non-null     object \n",
      " 7   position         44 non-null     object \n",
      " 8   gender           45 non-null     object \n",
      " 9   city             0 non-null      float64\n",
      " 10  country          0 non-null      float64\n",
      " 11  state            0 non-null      float64\n",
      " 12  created          45 non-null     int64  \n",
      " 13  phone_number     0 non-null      float64\n",
      " 14  linkedin_url     0 non-null      float64\n",
      " 15  description      0 non-null      float64\n",
      "dtypes: float64(7), int64(3), object(6)\n",
      "memory usage: 5.8+ KB\n"
     ]
    }
   ],
   "source": [
    "users_df.info()"
   ]
  },
  {
   "cell_type": "code",
   "execution_count": 4,
   "id": "40f76a65",
   "metadata": {
    "execution": {
     "iopub.execute_input": "2024-05-18T17:17:58.130090Z",
     "iopub.status.busy": "2024-05-18T17:17:58.129639Z",
     "iopub.status.idle": "2024-05-18T17:17:58.145330Z",
     "shell.execute_reply": "2024-05-18T17:17:58.144128Z"
    },
    "papermill": {
     "duration": 0.029069,
     "end_time": "2024-05-18T17:17:58.148356",
     "exception": false,
     "start_time": "2024-05-18T17:17:58.119287",
     "status": "completed"
    },
    "tags": []
   },
   "outputs": [
    {
     "name": "stdout",
     "output_type": "stream",
     "text": [
      "<class 'pandas.core.frame.DataFrame'>\n",
      "RangeIndex: 45 entries, 0 to 44\n",
      "Data columns (total 10 columns):\n",
      " #   Column           Non-Null Count  Dtype  \n",
      "---  ------           --------------  -----  \n",
      " 0   id               45 non-null     int64  \n",
      " 1   first_name       45 non-null     object \n",
      " 2   last_name        45 non-null     object \n",
      " 3   email            45 non-null     object \n",
      " 4   role_id          45 non-null     int64  \n",
      " 5   organisation_id  44 non-null     float64\n",
      " 6   picture_name     39 non-null     object \n",
      " 7   position         44 non-null     object \n",
      " 8   gender           45 non-null     object \n",
      " 9   created          45 non-null     int64  \n",
      "dtypes: float64(1), int64(3), object(6)\n",
      "memory usage: 3.6+ KB\n"
     ]
    }
   ],
   "source": [
    "# Drop the columns as it's no longer needed (Empty)\n",
    "users_df = users_df.drop(columns=['city', 'country', 'state', 'phone_number', 'linkedin_url', 'description'])\n",
    "users_df.info()"
   ]
  },
  {
   "cell_type": "markdown",
   "id": "21a48442",
   "metadata": {
    "papermill": {
     "duration": 0.009811,
     "end_time": "2024-05-18T17:17:58.167602",
     "exception": false,
     "start_time": "2024-05-18T17:17:58.157791",
     "status": "completed"
    },
    "tags": []
   },
   "source": [
    "### Preprocessing the organisations table\n",
    "- remove the empty columns (email, year_founded, phone_number, and linkedin_url)"
   ]
  },
  {
   "cell_type": "code",
   "execution_count": 5,
   "id": "c6fbceb8",
   "metadata": {
    "execution": {
     "iopub.execute_input": "2024-05-18T17:17:58.188123Z",
     "iopub.status.busy": "2024-05-18T17:17:58.187306Z",
     "iopub.status.idle": "2024-05-18T17:17:58.199309Z",
     "shell.execute_reply": "2024-05-18T17:17:58.197776Z"
    },
    "papermill": {
     "duration": 0.024915,
     "end_time": "2024-05-18T17:17:58.201582",
     "exception": false,
     "start_time": "2024-05-18T17:17:58.176667",
     "status": "completed"
    },
    "tags": []
   },
   "outputs": [
    {
     "name": "stdout",
     "output_type": "stream",
     "text": [
      "<class 'pandas.core.frame.DataFrame'>\n",
      "RangeIndex: 19 entries, 0 to 18\n",
      "Data columns (total 14 columns):\n",
      " #   Column        Non-Null Count  Dtype  \n",
      "---  ------        --------------  -----  \n",
      " 0   id            19 non-null     int64  \n",
      " 1   name          19 non-null     object \n",
      " 2   city          16 non-null     object \n",
      " 3   state         19 non-null     object \n",
      " 4   country       19 non-null     object \n",
      " 5   industry      19 non-null     object \n",
      " 6   profile       19 non-null     object \n",
      " 7   created       19 non-null     int64  \n",
      " 8   description   19 non-null     object \n",
      " 9   linkedin_url  0 non-null      float64\n",
      " 10  phone_number  0 non-null      float64\n",
      " 11  email         0 non-null      float64\n",
      " 12  year_founded  0 non-null      float64\n",
      " 13  logo_name     19 non-null     object \n",
      "dtypes: float64(4), int64(2), object(8)\n",
      "memory usage: 2.2+ KB\n"
     ]
    }
   ],
   "source": [
    "organisations_df.info()"
   ]
  },
  {
   "cell_type": "code",
   "execution_count": 6,
   "id": "79f06b9b",
   "metadata": {
    "execution": {
     "iopub.execute_input": "2024-05-18T17:17:58.221489Z",
     "iopub.status.busy": "2024-05-18T17:17:58.221107Z",
     "iopub.status.idle": "2024-05-18T17:17:58.233398Z",
     "shell.execute_reply": "2024-05-18T17:17:58.232216Z"
    },
    "papermill": {
     "duration": 0.025837,
     "end_time": "2024-05-18T17:17:58.236597",
     "exception": false,
     "start_time": "2024-05-18T17:17:58.210760",
     "status": "completed"
    },
    "tags": []
   },
   "outputs": [
    {
     "name": "stdout",
     "output_type": "stream",
     "text": [
      "<class 'pandas.core.frame.DataFrame'>\n",
      "RangeIndex: 19 entries, 0 to 18\n",
      "Data columns (total 10 columns):\n",
      " #   Column       Non-Null Count  Dtype \n",
      "---  ------       --------------  ----- \n",
      " 0   id           19 non-null     int64 \n",
      " 1   name         19 non-null     object\n",
      " 2   city         16 non-null     object\n",
      " 3   state        19 non-null     object\n",
      " 4   country      19 non-null     object\n",
      " 5   industry     19 non-null     object\n",
      " 6   profile      19 non-null     object\n",
      " 7   created      19 non-null     int64 \n",
      " 8   description  19 non-null     object\n",
      " 9   logo_name    19 non-null     object\n",
      "dtypes: int64(2), object(8)\n",
      "memory usage: 1.6+ KB\n"
     ]
    }
   ],
   "source": [
    "# Drop the columns as it's no longer needed (Empty)\n",
    "organisations_df = organisations_df.drop(columns=['email', 'year_founded',  'phone_number', 'linkedin_url'])\n",
    "organisations_df.info()"
   ]
  },
  {
   "cell_type": "markdown",
   "id": "71997bd0",
   "metadata": {
    "papermill": {
     "duration": 0.009586,
     "end_time": "2024-05-18T17:17:58.255617",
     "exception": false,
     "start_time": "2024-05-18T17:17:58.246031",
     "status": "completed"
    },
    "tags": []
   },
   "source": [
    "### Preprocessing the contents table\n",
    "- remove the empty columns (organisation_id, and creator_id)\n",
    "- remove unhelpful content_type column (all records have same value)\n",
    "- casting the id column from float to integer type\n",
    "- remove the leading spaces for the columns names\n",
    "- drop the null records that doesn't has id value"
   ]
  },
  {
   "cell_type": "code",
   "execution_count": 7,
   "id": "f087aa6e",
   "metadata": {
    "execution": {
     "iopub.execute_input": "2024-05-18T17:17:58.277196Z",
     "iopub.status.busy": "2024-05-18T17:17:58.276732Z",
     "iopub.status.idle": "2024-05-18T17:17:58.288843Z",
     "shell.execute_reply": "2024-05-18T17:17:58.287207Z"
    },
    "papermill": {
     "duration": 0.026094,
     "end_time": "2024-05-18T17:17:58.291732",
     "exception": false,
     "start_time": "2024-05-18T17:17:58.265638",
     "status": "completed"
    },
    "tags": []
   },
   "outputs": [
    {
     "name": "stdout",
     "output_type": "stream",
     "text": [
      "<class 'pandas.core.frame.DataFrame'>\n",
      "RangeIndex: 142 entries, 0 to 141\n",
      "Data columns (total 9 columns):\n",
      " #   Column            Non-Null Count  Dtype  \n",
      "---  ------            --------------  -----  \n",
      " 0   id                141 non-null    float64\n",
      " 1   title             142 non-null    object \n",
      " 2    description      141 non-null    object \n",
      " 3   content_type      141 non-null    object \n",
      " 4   organisation_id   1 non-null      float64\n",
      " 5   url               141 non-null    object \n",
      " 6   creator_id        7 non-null      float64\n",
      " 7   created           140 non-null    float64\n",
      " 8   publication_date  133 non-null    object \n",
      "dtypes: float64(4), object(5)\n",
      "memory usage: 10.1+ KB\n"
     ]
    }
   ],
   "source": [
    "contents_df.info()"
   ]
  },
  {
   "cell_type": "code",
   "execution_count": 8,
   "id": "21bcea1f",
   "metadata": {
    "execution": {
     "iopub.execute_input": "2024-05-18T17:17:58.313322Z",
     "iopub.status.busy": "2024-05-18T17:17:58.312890Z",
     "iopub.status.idle": "2024-05-18T17:17:58.332397Z",
     "shell.execute_reply": "2024-05-18T17:17:58.331285Z"
    },
    "papermill": {
     "duration": 0.032629,
     "end_time": "2024-05-18T17:17:58.334478",
     "exception": false,
     "start_time": "2024-05-18T17:17:58.301849",
     "status": "completed"
    },
    "tags": []
   },
   "outputs": [
    {
     "name": "stdout",
     "output_type": "stream",
     "text": [
      "<class 'pandas.core.frame.DataFrame'>\n",
      "Index: 141 entries, 0 to 141\n",
      "Data columns (total 6 columns):\n",
      " #   Column            Non-Null Count  Dtype  \n",
      "---  ------            --------------  -----  \n",
      " 0   id                141 non-null    int64  \n",
      " 1   title             141 non-null    object \n",
      " 2   description       141 non-null    object \n",
      " 3   url               140 non-null    object \n",
      " 4   created           140 non-null    float64\n",
      " 5   publication_date  133 non-null    object \n",
      "dtypes: float64(1), int64(1), object(4)\n",
      "memory usage: 7.7+ KB\n"
     ]
    }
   ],
   "source": [
    "# Rename the column to remove leading whitespace (description column has leading whitespace)\n",
    "contents_df = contents_df.rename(columns=lambda x: x.strip())\n",
    "\n",
    "# Drop the 'organisation_id' and 'creator_id' columns as it's no longer needed (Empty)\n",
    "# 'content_type' has same value for all records (not important)\n",
    "contents_df = contents_df.drop(columns=['organisation_id', 'creator_id', 'content_type'])\n",
    "\n",
    "# Remove row that doesn't has id\n",
    "contents_df = contents_df.dropna(subset=['id'])\n",
    "\n",
    "# Convert the id type to integer\n",
    "contents_df['id'] = contents_df['id'].astype(int)\n",
    "\n",
    "contents_df.info()"
   ]
  },
  {
   "cell_type": "markdown",
   "id": "ce9f6484",
   "metadata": {
    "papermill": {
     "duration": 0.009293,
     "end_time": "2024-05-18T17:17:58.353558",
     "exception": false,
     "start_time": "2024-05-18T17:17:58.344265",
     "status": "completed"
    },
    "tags": []
   },
   "source": [
    "### Preprocessing the events table\n",
    "- remove the empty column (organisation_id)\n",
    "- handle the format value of 'Price' column, the Free value convert it to 0, and string value to fload else None\n"
   ]
  },
  {
   "cell_type": "code",
   "execution_count": 9,
   "id": "e2b055ef",
   "metadata": {
    "execution": {
     "iopub.execute_input": "2024-05-18T17:17:58.374348Z",
     "iopub.status.busy": "2024-05-18T17:17:58.373912Z",
     "iopub.status.idle": "2024-05-18T17:17:58.387087Z",
     "shell.execute_reply": "2024-05-18T17:17:58.384987Z"
    },
    "papermill": {
     "duration": 0.026445,
     "end_time": "2024-05-18T17:17:58.389553",
     "exception": false,
     "start_time": "2024-05-18T17:17:58.363108",
     "status": "completed"
    },
    "tags": []
   },
   "outputs": [
    {
     "name": "stdout",
     "output_type": "stream",
     "text": [
      "<class 'pandas.core.frame.DataFrame'>\n",
      "RangeIndex: 266 entries, 0 to 265\n",
      "Data columns (total 14 columns):\n",
      " #   Column           Non-Null Count  Dtype  \n",
      "---  ------           --------------  -----  \n",
      " 0   id               266 non-null    int64  \n",
      " 1   title            266 non-null    object \n",
      " 2   event_type       266 non-null    object \n",
      " 3   description      262 non-null    object \n",
      " 4   start            259 non-null    object \n",
      " 5   end              259 non-null    object \n",
      " 6   location         266 non-null    object \n",
      " 7   url              265 non-null    object \n",
      " 8   price            183 non-null    object \n",
      " 9   organisation_id  1 non-null      float64\n",
      " 10  created          266 non-null    float64\n",
      " 11  last_modified    187 non-null    float64\n",
      " 12  lon              185 non-null    float64\n",
      " 13  lat              185 non-null    float64\n",
      "dtypes: float64(5), int64(1), object(8)\n",
      "memory usage: 29.2+ KB\n"
     ]
    }
   ],
   "source": [
    "events_df.info()"
   ]
  },
  {
   "cell_type": "code",
   "execution_count": 10,
   "id": "dac50b4d",
   "metadata": {
    "execution": {
     "iopub.execute_input": "2024-05-18T17:17:58.410970Z",
     "iopub.status.busy": "2024-05-18T17:17:58.410555Z",
     "iopub.status.idle": "2024-05-18T17:17:58.427259Z",
     "shell.execute_reply": "2024-05-18T17:17:58.426060Z"
    },
    "papermill": {
     "duration": 0.030263,
     "end_time": "2024-05-18T17:17:58.429666",
     "exception": false,
     "start_time": "2024-05-18T17:17:58.399403",
     "status": "completed"
    },
    "tags": []
   },
   "outputs": [
    {
     "name": "stdout",
     "output_type": "stream",
     "text": [
      "<class 'pandas.core.frame.DataFrame'>\n",
      "RangeIndex: 266 entries, 0 to 265\n",
      "Data columns (total 13 columns):\n",
      " #   Column         Non-Null Count  Dtype  \n",
      "---  ------         --------------  -----  \n",
      " 0   id             266 non-null    int64  \n",
      " 1   title          266 non-null    object \n",
      " 2   event_type     266 non-null    object \n",
      " 3   description    262 non-null    object \n",
      " 4   start          259 non-null    object \n",
      " 5   end            259 non-null    object \n",
      " 6   location       266 non-null    object \n",
      " 7   url            265 non-null    object \n",
      " 8   price          183 non-null    float64\n",
      " 9   created        266 non-null    float64\n",
      " 10  last_modified  187 non-null    float64\n",
      " 11  lon            185 non-null    float64\n",
      " 12  lat            185 non-null    float64\n",
      "dtypes: float64(5), int64(1), object(7)\n",
      "memory usage: 27.1+ KB\n"
     ]
    }
   ],
   "source": [
    "# Drop the 'organisation_id' column as it's no longer needed (Empty)\n",
    "events_df = events_df.drop(columns=['organisation_id'])\n",
    "\n",
    "\n",
    "# Function to convert \"From $number\" to number\n",
    "def handle_price_format(value):\n",
    "    if value is np.nan:\n",
    "        return np.nan\n",
    "    elif value.lower() == 'free':\n",
    "        return 0\n",
    "\n",
    "    return float(value.replace('From $', ''))\n",
    "\n",
    "# Apply the conversion function to the 'price' column\n",
    "events_df['price'] = events_df['price'].apply(handle_price_format)\n",
    "\n",
    "\n",
    "events_df.info()"
   ]
  },
  {
   "cell_type": "markdown",
   "id": "c0b2c4e2",
   "metadata": {
    "papermill": {
     "duration": 0.012152,
     "end_time": "2024-05-18T17:17:58.451687",
     "exception": false,
     "start_time": "2024-05-18T17:17:58.439535",
     "status": "completed"
    },
    "tags": []
   },
   "source": [
    "### Preprocessing the contacts table\n",
    "- remove the empty columns (organisation_id, picture_name, position, gender and phone_number)\n",
    "- remove unhelpful role_id column (all records have same value)\n",
    "\n"
   ]
  },
  {
   "cell_type": "code",
   "execution_count": 11,
   "id": "f646ee28",
   "metadata": {
    "execution": {
     "iopub.execute_input": "2024-05-18T17:17:58.473986Z",
     "iopub.status.busy": "2024-05-18T17:17:58.473557Z",
     "iopub.status.idle": "2024-05-18T17:17:58.487151Z",
     "shell.execute_reply": "2024-05-18T17:17:58.485978Z"
    },
    "papermill": {
     "duration": 0.027346,
     "end_time": "2024-05-18T17:17:58.489438",
     "exception": false,
     "start_time": "2024-05-18T17:17:58.462092",
     "status": "completed"
    },
    "tags": []
   },
   "outputs": [
    {
     "name": "stdout",
     "output_type": "stream",
     "text": [
      "<class 'pandas.core.frame.DataFrame'>\n",
      "RangeIndex: 300 entries, 0 to 299\n",
      "Data columns (total 16 columns):\n",
      " #   Column           Non-Null Count  Dtype  \n",
      "---  ------           --------------  -----  \n",
      " 0   id               300 non-null    int64  \n",
      " 1   first_name       300 non-null    object \n",
      " 2   last_name        300 non-null    object \n",
      " 3   email            300 non-null    object \n",
      " 4   role_id          300 non-null    int64  \n",
      " 5   organisation_id  0 non-null      float64\n",
      " 6   picture_name     0 non-null      float64\n",
      " 7   position         0 non-null      float64\n",
      " 8   gender           0 non-null      float64\n",
      " 9   city             290 non-null    object \n",
      " 10  country          300 non-null    object \n",
      " 11  state            295 non-null    object \n",
      " 12  created          300 non-null    int64  \n",
      " 13  phone_number     0 non-null      float64\n",
      " 14  linkedin_url     300 non-null    object \n",
      " 15  description      298 non-null    object \n",
      "dtypes: float64(5), int64(3), object(8)\n",
      "memory usage: 37.6+ KB\n"
     ]
    }
   ],
   "source": [
    "contacts_df.info()"
   ]
  },
  {
   "cell_type": "code",
   "execution_count": 12,
   "id": "e0531492",
   "metadata": {
    "execution": {
     "iopub.execute_input": "2024-05-18T17:17:58.510928Z",
     "iopub.status.busy": "2024-05-18T17:17:58.510519Z",
     "iopub.status.idle": "2024-05-18T17:17:58.523850Z",
     "shell.execute_reply": "2024-05-18T17:17:58.522607Z"
    },
    "papermill": {
     "duration": 0.027838,
     "end_time": "2024-05-18T17:17:58.527124",
     "exception": false,
     "start_time": "2024-05-18T17:17:58.499286",
     "status": "completed"
    },
    "tags": []
   },
   "outputs": [
    {
     "name": "stdout",
     "output_type": "stream",
     "text": [
      "<class 'pandas.core.frame.DataFrame'>\n",
      "RangeIndex: 300 entries, 0 to 299\n",
      "Data columns (total 10 columns):\n",
      " #   Column        Non-Null Count  Dtype \n",
      "---  ------        --------------  ----- \n",
      " 0   id            300 non-null    int64 \n",
      " 1   first_name    300 non-null    object\n",
      " 2   last_name     300 non-null    object\n",
      " 3   email         300 non-null    object\n",
      " 4   city          290 non-null    object\n",
      " 5   country       300 non-null    object\n",
      " 6   state         295 non-null    object\n",
      " 7   created       300 non-null    int64 \n",
      " 8   linkedin_url  300 non-null    object\n",
      " 9   description   298 non-null    object\n",
      "dtypes: int64(2), object(8)\n",
      "memory usage: 23.6+ KB\n"
     ]
    }
   ],
   "source": [
    "# Drop the columns as it's no longer needed (Empty)\n",
    "# 'role_id' has same value for all records (not important)\n",
    "contacts_df = contacts_df.drop(columns=['organisation_id', 'picture_name', 'position', 'gender', 'phone_number', 'role_id'])\n",
    "\n",
    "contacts_df.info()"
   ]
  },
  {
   "cell_type": "markdown",
   "id": "f19f0324",
   "metadata": {
    "papermill": {
     "duration": 0.010122,
     "end_time": "2024-05-18T17:17:58.547528",
     "exception": false,
     "start_time": "2024-05-18T17:17:58.537406",
     "status": "completed"
    },
    "tags": []
   },
   "source": [
    "### Preprocessing the recommendation table\n",
    "- remove the empty column (user_score)\n"
   ]
  },
  {
   "cell_type": "code",
   "execution_count": 13,
   "id": "7e149409",
   "metadata": {
    "execution": {
     "iopub.execute_input": "2024-05-18T17:17:58.569624Z",
     "iopub.status.busy": "2024-05-18T17:17:58.569227Z",
     "iopub.status.idle": "2024-05-18T17:17:58.582855Z",
     "shell.execute_reply": "2024-05-18T17:17:58.581756Z"
    },
    "papermill": {
     "duration": 0.027966,
     "end_time": "2024-05-18T17:17:58.585369",
     "exception": false,
     "start_time": "2024-05-18T17:17:58.557403",
     "status": "completed"
    },
    "tags": []
   },
   "outputs": [
    {
     "name": "stdout",
     "output_type": "stream",
     "text": [
      "<class 'pandas.core.frame.DataFrame'>\n",
      "RangeIndex: 658 entries, 0 to 657\n",
      "Data columns (total 14 columns):\n",
      " #   Column           Non-Null Count  Dtype  \n",
      "---  ------           --------------  -----  \n",
      " 0   id               658 non-null    int64  \n",
      " 1   title            658 non-null    object \n",
      " 2   asset_type       658 non-null    object \n",
      " 3   asset_id         658 non-null    int64  \n",
      " 4   organisation_id  658 non-null    int64  \n",
      " 5   user_id          658 non-null    int64  \n",
      " 6   creator_id       658 non-null    int64  \n",
      " 7   system_score     658 non-null    float64\n",
      " 8   user_score       0 non-null      float64\n",
      " 9   created          658 non-null    int64  \n",
      " 10  opened           625 non-null    float64\n",
      " 11  deleted          403 non-null    float64\n",
      " 12  saved            338 non-null    float64\n",
      " 13  clicked_out      414 non-null    float64\n",
      "dtypes: float64(6), int64(6), object(2)\n",
      "memory usage: 72.1+ KB\n"
     ]
    }
   ],
   "source": [
    "recommendations_df.info()"
   ]
  },
  {
   "cell_type": "code",
   "execution_count": 14,
   "id": "5f31ebd0",
   "metadata": {
    "execution": {
     "iopub.execute_input": "2024-05-18T17:17:58.607633Z",
     "iopub.status.busy": "2024-05-18T17:17:58.607249Z",
     "iopub.status.idle": "2024-05-18T17:17:58.620526Z",
     "shell.execute_reply": "2024-05-18T17:17:58.619205Z"
    },
    "papermill": {
     "duration": 0.027399,
     "end_time": "2024-05-18T17:17:58.623098",
     "exception": false,
     "start_time": "2024-05-18T17:17:58.595699",
     "status": "completed"
    },
    "tags": []
   },
   "outputs": [
    {
     "name": "stdout",
     "output_type": "stream",
     "text": [
      "<class 'pandas.core.frame.DataFrame'>\n",
      "RangeIndex: 658 entries, 0 to 657\n",
      "Data columns (total 13 columns):\n",
      " #   Column           Non-Null Count  Dtype  \n",
      "---  ------           --------------  -----  \n",
      " 0   id               658 non-null    int64  \n",
      " 1   title            658 non-null    object \n",
      " 2   asset_type       658 non-null    object \n",
      " 3   asset_id         658 non-null    int64  \n",
      " 4   organisation_id  658 non-null    int64  \n",
      " 5   user_id          658 non-null    int64  \n",
      " 6   creator_id       658 non-null    int64  \n",
      " 7   system_score     658 non-null    float64\n",
      " 8   created          658 non-null    int64  \n",
      " 9   opened           625 non-null    float64\n",
      " 10  deleted          403 non-null    float64\n",
      " 11  saved            338 non-null    float64\n",
      " 12  clicked_out      414 non-null    float64\n",
      "dtypes: float64(5), int64(6), object(2)\n",
      "memory usage: 67.0+ KB\n"
     ]
    }
   ],
   "source": [
    "# Drop the 'user_score' column as it's no longer needed (Empty)\n",
    "recommendations_df = recommendations_df.drop(columns=['user_score'])\n",
    "\n",
    "recommendations_df.info()"
   ]
  },
  {
   "cell_type": "markdown",
   "id": "e235ce74",
   "metadata": {
    "papermill": {
     "duration": 0.010036,
     "end_time": "2024-05-18T17:17:58.643538",
     "exception": false,
     "start_time": "2024-05-18T17:17:58.633502",
     "status": "completed"
    },
    "tags": []
   },
   "source": [
    "# Categorizing Recommendations\n",
    "### Divide the recommendation table into three categories:\n",
    "- **Content**\n",
    "- **Event**\n",
    "- **Contact**"
   ]
  },
  {
   "cell_type": "code",
   "execution_count": 15,
   "id": "67aaf1c7",
   "metadata": {
    "execution": {
     "iopub.execute_input": "2024-05-18T17:17:58.665929Z",
     "iopub.status.busy": "2024-05-18T17:17:58.665531Z",
     "iopub.status.idle": "2024-05-18T17:17:58.678738Z",
     "shell.execute_reply": "2024-05-18T17:17:58.677555Z"
    },
    "papermill": {
     "duration": 0.027462,
     "end_time": "2024-05-18T17:17:58.681367",
     "exception": false,
     "start_time": "2024-05-18T17:17:58.653905",
     "status": "completed"
    },
    "tags": []
   },
   "outputs": [],
   "source": [
    "# Divide the DataFrame into three categories\n",
    "content_recommendations_df = recommendations_df[recommendations_df['asset_type'] == 'content'].rename(columns={'asset_id': 'content_id'}).drop(columns=['asset_type'])\n",
    "event_recommendations_df = recommendations_df[recommendations_df['asset_type'] == 'event'].rename(columns={'asset_id': 'event_id'}).drop(columns=['asset_type'])\n",
    "contact_recommendations_df = recommendations_df[recommendations_df['asset_type'] == 'contact'].rename(columns={'asset_id': 'contact_id'}).drop(columns=['asset_type'])"
   ]
  },
  {
   "cell_type": "code",
   "execution_count": 16,
   "id": "5f562470",
   "metadata": {
    "execution": {
     "iopub.execute_input": "2024-05-18T17:17:58.703695Z",
     "iopub.status.busy": "2024-05-18T17:17:58.703307Z",
     "iopub.status.idle": "2024-05-18T17:17:58.715587Z",
     "shell.execute_reply": "2024-05-18T17:17:58.714272Z"
    },
    "papermill": {
     "duration": 0.026663,
     "end_time": "2024-05-18T17:17:58.718211",
     "exception": false,
     "start_time": "2024-05-18T17:17:58.691548",
     "status": "completed"
    },
    "tags": []
   },
   "outputs": [
    {
     "name": "stdout",
     "output_type": "stream",
     "text": [
      "<class 'pandas.core.frame.DataFrame'>\n",
      "Index: 218 entries, 0 to 647\n",
      "Data columns (total 12 columns):\n",
      " #   Column           Non-Null Count  Dtype  \n",
      "---  ------           --------------  -----  \n",
      " 0   id               218 non-null    int64  \n",
      " 1   title            218 non-null    object \n",
      " 2   content_id       218 non-null    int64  \n",
      " 3   organisation_id  218 non-null    int64  \n",
      " 4   user_id          218 non-null    int64  \n",
      " 5   creator_id       218 non-null    int64  \n",
      " 6   system_score     218 non-null    float64\n",
      " 7   created          218 non-null    int64  \n",
      " 8   opened           209 non-null    float64\n",
      " 9   deleted          138 non-null    float64\n",
      " 10  saved            99 non-null     float64\n",
      " 11  clicked_out      130 non-null    float64\n",
      "dtypes: float64(5), int64(6), object(1)\n",
      "memory usage: 22.1+ KB\n"
     ]
    }
   ],
   "source": [
    "content_recommendations_df.info()"
   ]
  },
  {
   "cell_type": "code",
   "execution_count": 17,
   "id": "a6583271",
   "metadata": {
    "execution": {
     "iopub.execute_input": "2024-05-18T17:17:58.740588Z",
     "iopub.status.busy": "2024-05-18T17:17:58.740224Z",
     "iopub.status.idle": "2024-05-18T17:17:58.752131Z",
     "shell.execute_reply": "2024-05-18T17:17:58.751010Z"
    },
    "papermill": {
     "duration": 0.026099,
     "end_time": "2024-05-18T17:17:58.754661",
     "exception": false,
     "start_time": "2024-05-18T17:17:58.728562",
     "status": "completed"
    },
    "tags": []
   },
   "outputs": [
    {
     "name": "stdout",
     "output_type": "stream",
     "text": [
      "<class 'pandas.core.frame.DataFrame'>\n",
      "Index: 220 entries, 10 to 657\n",
      "Data columns (total 12 columns):\n",
      " #   Column           Non-Null Count  Dtype  \n",
      "---  ------           --------------  -----  \n",
      " 0   id               220 non-null    int64  \n",
      " 1   title            220 non-null    object \n",
      " 2   event_id         220 non-null    int64  \n",
      " 3   organisation_id  220 non-null    int64  \n",
      " 4   user_id          220 non-null    int64  \n",
      " 5   creator_id       220 non-null    int64  \n",
      " 6   system_score     220 non-null    float64\n",
      " 7   created          220 non-null    int64  \n",
      " 8   opened           211 non-null    float64\n",
      " 9   deleted          130 non-null    float64\n",
      " 10  saved            119 non-null    float64\n",
      " 11  clicked_out      145 non-null    float64\n",
      "dtypes: float64(5), int64(6), object(1)\n",
      "memory usage: 22.3+ KB\n"
     ]
    }
   ],
   "source": [
    "event_recommendations_df.info()"
   ]
  },
  {
   "cell_type": "code",
   "execution_count": 18,
   "id": "5cdaf6d2",
   "metadata": {
    "execution": {
     "iopub.execute_input": "2024-05-18T17:17:58.777720Z",
     "iopub.status.busy": "2024-05-18T17:17:58.776920Z",
     "iopub.status.idle": "2024-05-18T17:17:58.788374Z",
     "shell.execute_reply": "2024-05-18T17:17:58.787410Z"
    },
    "papermill": {
     "duration": 0.025413,
     "end_time": "2024-05-18T17:17:58.790529",
     "exception": false,
     "start_time": "2024-05-18T17:17:58.765116",
     "status": "completed"
    },
    "tags": []
   },
   "outputs": [
    {
     "name": "stdout",
     "output_type": "stream",
     "text": [
      "<class 'pandas.core.frame.DataFrame'>\n",
      "Index: 220 entries, 5 to 652\n",
      "Data columns (total 12 columns):\n",
      " #   Column           Non-Null Count  Dtype  \n",
      "---  ------           --------------  -----  \n",
      " 0   id               220 non-null    int64  \n",
      " 1   title            220 non-null    object \n",
      " 2   contact_id       220 non-null    int64  \n",
      " 3   organisation_id  220 non-null    int64  \n",
      " 4   user_id          220 non-null    int64  \n",
      " 5   creator_id       220 non-null    int64  \n",
      " 6   system_score     220 non-null    float64\n",
      " 7   created          220 non-null    int64  \n",
      " 8   opened           205 non-null    float64\n",
      " 9   deleted          135 non-null    float64\n",
      " 10  saved            120 non-null    float64\n",
      " 11  clicked_out      139 non-null    float64\n",
      "dtypes: float64(5), int64(6), object(1)\n",
      "memory usage: 22.3+ KB\n"
     ]
    }
   ],
   "source": [
    "contact_recommendations_df.info()"
   ]
  },
  {
   "cell_type": "markdown",
   "id": "a815e84b",
   "metadata": {
    "papermill": {
     "duration": 0.010155,
     "end_time": "2024-05-18T17:17:58.811360",
     "exception": false,
     "start_time": "2024-05-18T17:17:58.801205",
     "status": "completed"
    },
    "tags": []
   },
   "source": [
    "# Data Export Post-Cleanup"
   ]
  },
  {
   "cell_type": "code",
   "execution_count": 19,
   "id": "12aad281",
   "metadata": {
    "execution": {
     "iopub.execute_input": "2024-05-18T17:17:58.835165Z",
     "iopub.status.busy": "2024-05-18T17:17:58.834740Z",
     "iopub.status.idle": "2024-05-18T17:17:58.880527Z",
     "shell.execute_reply": "2024-05-18T17:17:58.879293Z"
    },
    "papermill": {
     "duration": 0.061085,
     "end_time": "2024-05-18T17:17:58.883413",
     "exception": false,
     "start_time": "2024-05-18T17:17:58.822328",
     "status": "completed"
    },
    "tags": []
   },
   "outputs": [],
   "source": [
    "users_df.to_csv('users.csv', index=False)\n",
    "organisations_df.to_csv('organisations.csv', index=False)\n",
    "contents_df.to_csv('contents.csv', index=False)\n",
    "events_df.to_csv('events.csv', index=False)\n",
    "contacts_df.to_csv('contacts.csv', index=False)\n",
    "\n",
    "content_recommendations_df.to_csv('content_recommendations.csv', index=False)\n",
    "event_recommendations_df.to_csv('event_recommendations.csv', index=False)\n",
    "contact_recommendations_df.to_csv('contact_recommendations.csv', index=False)"
   ]
  }
 ],
 "metadata": {
  "kaggle": {
   "accelerator": "none",
   "dataSources": [
    {
     "datasetId": 5035196,
     "sourceId": 8449491,
     "sourceType": "datasetVersion"
    }
   ],
   "dockerImageVersionId": 30698,
   "isGpuEnabled": false,
   "isInternetEnabled": true,
   "language": "python",
   "sourceType": "notebook"
  },
  "kernelspec": {
   "display_name": "Python 3",
   "language": "python",
   "name": "python3"
  },
  "language_info": {
   "codemirror_mode": {
    "name": "ipython",
    "version": 3
   },
   "file_extension": ".py",
   "mimetype": "text/x-python",
   "name": "python",
   "nbconvert_exporter": "python",
   "pygments_lexer": "ipython3",
   "version": "3.10.13"
  },
  "papermill": {
   "default_parameters": {},
   "duration": 5.377414,
   "end_time": "2024-05-18T17:17:59.314469",
   "environment_variables": {},
   "exception": null,
   "input_path": "__notebook__.ipynb",
   "output_path": "__notebook__.ipynb",
   "parameters": {},
   "start_time": "2024-05-18T17:17:53.937055",
   "version": "2.5.0"
  }
 },
 "nbformat": 4,
 "nbformat_minor": 5
}
