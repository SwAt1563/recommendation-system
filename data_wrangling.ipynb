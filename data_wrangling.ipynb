{
 "cells": [
  {
   "cell_type": "markdown",
   "id": "94a2f0c2",
   "metadata": {
    "papermill": {
     "duration": 0.009621,
     "end_time": "2024-05-19T03:39:52.684137",
     "exception": false,
     "start_time": "2024-05-19T03:39:52.674516",
     "status": "completed"
    },
    "tags": []
   },
   "source": [
    "# Libraries"
   ]
  },
  {
   "cell_type": "code",
   "execution_count": 1,
   "id": "1aec253f",
   "metadata": {
    "_cell_guid": "b1076dfc-b9ad-4769-8c92-a6c4dae69d19",
    "_uuid": "8f2839f25d086af736a60e9eeb907d3b93b6e0e5",
    "execution": {
     "iopub.execute_input": "2024-05-19T03:39:52.704319Z",
     "iopub.status.busy": "2024-05-19T03:39:52.703839Z",
     "iopub.status.idle": "2024-05-19T03:39:53.616467Z",
     "shell.execute_reply": "2024-05-19T03:39:53.615259Z"
    },
    "papermill": {
     "duration": 0.926662,
     "end_time": "2024-05-19T03:39:53.619836",
     "exception": false,
     "start_time": "2024-05-19T03:39:52.693174",
     "status": "completed"
    },
    "tags": []
   },
   "outputs": [],
   "source": [
    "import numpy as np \n",
    "import pandas as pd \n",
    "import re"
   ]
  },
  {
   "cell_type": "markdown",
   "id": "0dae0ecd",
   "metadata": {
    "papermill": {
     "duration": 0.009314,
     "end_time": "2024-05-19T03:39:53.638340",
     "exception": false,
     "start_time": "2024-05-19T03:39:53.629026",
     "status": "completed"
    },
    "tags": []
   },
   "source": [
    "## Read the datasets\n",
    "- users\n",
    "- organisations\n",
    "- contents\n",
    "- events\n",
    "- contacts\n",
    "- recommendations"
   ]
  },
  {
   "cell_type": "code",
   "execution_count": 2,
   "id": "b8953c64",
   "metadata": {
    "execution": {
     "iopub.execute_input": "2024-05-19T03:39:53.658394Z",
     "iopub.status.busy": "2024-05-19T03:39:53.657852Z",
     "iopub.status.idle": "2024-05-19T03:39:53.747956Z",
     "shell.execute_reply": "2024-05-19T03:39:53.747083Z"
    },
    "papermill": {
     "duration": 0.103497,
     "end_time": "2024-05-19T03:39:53.750944",
     "exception": false,
     "start_time": "2024-05-19T03:39:53.647447",
     "status": "completed"
    },
    "tags": []
   },
   "outputs": [],
   "source": [
    "# Read the datasets\n",
    "users_df = pd.read_csv('/kaggle/input/recommendation-system-dataset/users.tsv', sep='\\t')\n",
    "organisations_df = pd.read_csv('/kaggle/input/recommendation-system-dataset/organisations.tsv', sep='\\t')\n",
    "contents_df = pd.read_csv('/kaggle/input/recommendation-system-dataset/content.tsv', sep='\\t')\n",
    "events_df = pd.read_csv('/kaggle/input/recommendation-system-dataset/events.tsv', sep='\\t')\n",
    "contacts_df = pd.read_csv('/kaggle/input/recommendation-system-dataset/contacts.tsv', sep='\\t')\n",
    "recommendations_df = pd.read_csv('/kaggle/input/recommendation-system-dataset/recommendations.tsv', sep='\\t')"
   ]
  },
  {
   "cell_type": "markdown",
   "id": "c4243abf",
   "metadata": {
    "papermill": {
     "duration": 0.008768,
     "end_time": "2024-05-19T03:39:53.769345",
     "exception": false,
     "start_time": "2024-05-19T03:39:53.760577",
     "status": "completed"
    },
    "tags": []
   },
   "source": [
    "### Preprocessing the users table\n",
    "- remove the empty columns (city, country, state, phone_number, linkedin_url and description)"
   ]
  },
  {
   "cell_type": "code",
   "execution_count": 3,
   "id": "3610e75e",
   "metadata": {
    "execution": {
     "iopub.execute_input": "2024-05-19T03:39:53.788994Z",
     "iopub.status.busy": "2024-05-19T03:39:53.788641Z",
     "iopub.status.idle": "2024-05-19T03:39:53.817567Z",
     "shell.execute_reply": "2024-05-19T03:39:53.816771Z"
    },
    "papermill": {
     "duration": 0.041777,
     "end_time": "2024-05-19T03:39:53.820104",
     "exception": false,
     "start_time": "2024-05-19T03:39:53.778327",
     "status": "completed"
    },
    "tags": []
   },
   "outputs": [
    {
     "name": "stdout",
     "output_type": "stream",
     "text": [
      "<class 'pandas.core.frame.DataFrame'>\n",
      "RangeIndex: 45 entries, 0 to 44\n",
      "Data columns (total 16 columns):\n",
      " #   Column           Non-Null Count  Dtype  \n",
      "---  ------           --------------  -----  \n",
      " 0   id               45 non-null     int64  \n",
      " 1   first_name       45 non-null     object \n",
      " 2   last_name        45 non-null     object \n",
      " 3   email            45 non-null     object \n",
      " 4   role_id          45 non-null     int64  \n",
      " 5   organisation_id  44 non-null     float64\n",
      " 6   picture_name     39 non-null     object \n",
      " 7   position         44 non-null     object \n",
      " 8   gender           45 non-null     object \n",
      " 9   city             0 non-null      float64\n",
      " 10  country          0 non-null      float64\n",
      " 11  state            0 non-null      float64\n",
      " 12  created          45 non-null     int64  \n",
      " 13  phone_number     0 non-null      float64\n",
      " 14  linkedin_url     0 non-null      float64\n",
      " 15  description      0 non-null      float64\n",
      "dtypes: float64(7), int64(3), object(6)\n",
      "memory usage: 5.8+ KB\n"
     ]
    }
   ],
   "source": [
    "users_df.info()"
   ]
  },
  {
   "cell_type": "code",
   "execution_count": 4,
   "id": "65b9168a",
   "metadata": {
    "execution": {
     "iopub.execute_input": "2024-05-19T03:39:53.840871Z",
     "iopub.status.busy": "2024-05-19T03:39:53.840474Z",
     "iopub.status.idle": "2024-05-19T03:39:53.854888Z",
     "shell.execute_reply": "2024-05-19T03:39:53.853843Z"
    },
    "papermill": {
     "duration": 0.028376,
     "end_time": "2024-05-19T03:39:53.857706",
     "exception": false,
     "start_time": "2024-05-19T03:39:53.829330",
     "status": "completed"
    },
    "tags": []
   },
   "outputs": [
    {
     "name": "stdout",
     "output_type": "stream",
     "text": [
      "<class 'pandas.core.frame.DataFrame'>\n",
      "RangeIndex: 45 entries, 0 to 44\n",
      "Data columns (total 10 columns):\n",
      " #   Column           Non-Null Count  Dtype  \n",
      "---  ------           --------------  -----  \n",
      " 0   id               45 non-null     int64  \n",
      " 1   first_name       45 non-null     object \n",
      " 2   last_name        45 non-null     object \n",
      " 3   email            45 non-null     object \n",
      " 4   role_id          45 non-null     int64  \n",
      " 5   organisation_id  44 non-null     float64\n",
      " 6   picture_name     39 non-null     object \n",
      " 7   position         44 non-null     object \n",
      " 8   gender           45 non-null     object \n",
      " 9   created          45 non-null     int64  \n",
      "dtypes: float64(1), int64(3), object(6)\n",
      "memory usage: 3.6+ KB\n"
     ]
    }
   ],
   "source": [
    "# Drop the columns as it's no longer needed (Empty)\n",
    "users_df = users_df.drop(columns=['city', 'country', 'state', 'phone_number', 'linkedin_url', 'description'])\n",
    "users_df.info()"
   ]
  },
  {
   "cell_type": "markdown",
   "id": "5c2ca5c6",
   "metadata": {
    "papermill": {
     "duration": 0.009819,
     "end_time": "2024-05-19T03:39:53.877024",
     "exception": false,
     "start_time": "2024-05-19T03:39:53.867205",
     "status": "completed"
    },
    "tags": []
   },
   "source": [
    "### Preprocessing the organisations table\n",
    "- remove the empty columns (email, year_founded, phone_number, and linkedin_url)"
   ]
  },
  {
   "cell_type": "code",
   "execution_count": 5,
   "id": "5cf0b933",
   "metadata": {
    "execution": {
     "iopub.execute_input": "2024-05-19T03:39:53.898926Z",
     "iopub.status.busy": "2024-05-19T03:39:53.897853Z",
     "iopub.status.idle": "2024-05-19T03:39:53.909824Z",
     "shell.execute_reply": "2024-05-19T03:39:53.908662Z"
    },
    "papermill": {
     "duration": 0.02633,
     "end_time": "2024-05-19T03:39:53.912582",
     "exception": false,
     "start_time": "2024-05-19T03:39:53.886252",
     "status": "completed"
    },
    "tags": []
   },
   "outputs": [
    {
     "name": "stdout",
     "output_type": "stream",
     "text": [
      "<class 'pandas.core.frame.DataFrame'>\n",
      "RangeIndex: 19 entries, 0 to 18\n",
      "Data columns (total 14 columns):\n",
      " #   Column        Non-Null Count  Dtype  \n",
      "---  ------        --------------  -----  \n",
      " 0   id            19 non-null     int64  \n",
      " 1   name          19 non-null     object \n",
      " 2   city          16 non-null     object \n",
      " 3   state         19 non-null     object \n",
      " 4   country       19 non-null     object \n",
      " 5   industry      19 non-null     object \n",
      " 6   profile       19 non-null     object \n",
      " 7   created       19 non-null     int64  \n",
      " 8   description   19 non-null     object \n",
      " 9   linkedin_url  0 non-null      float64\n",
      " 10  phone_number  0 non-null      float64\n",
      " 11  email         0 non-null      float64\n",
      " 12  year_founded  0 non-null      float64\n",
      " 13  logo_name     19 non-null     object \n",
      "dtypes: float64(4), int64(2), object(8)\n",
      "memory usage: 2.2+ KB\n"
     ]
    }
   ],
   "source": [
    "organisations_df.info()"
   ]
  },
  {
   "cell_type": "code",
   "execution_count": 6,
   "id": "c6bcbdac",
   "metadata": {
    "execution": {
     "iopub.execute_input": "2024-05-19T03:39:53.934084Z",
     "iopub.status.busy": "2024-05-19T03:39:53.932838Z",
     "iopub.status.idle": "2024-05-19T03:39:53.945645Z",
     "shell.execute_reply": "2024-05-19T03:39:53.944253Z"
    },
    "papermill": {
     "duration": 0.026004,
     "end_time": "2024-05-19T03:39:53.948140",
     "exception": false,
     "start_time": "2024-05-19T03:39:53.922136",
     "status": "completed"
    },
    "tags": []
   },
   "outputs": [
    {
     "name": "stdout",
     "output_type": "stream",
     "text": [
      "<class 'pandas.core.frame.DataFrame'>\n",
      "RangeIndex: 19 entries, 0 to 18\n",
      "Data columns (total 10 columns):\n",
      " #   Column       Non-Null Count  Dtype \n",
      "---  ------       --------------  ----- \n",
      " 0   id           19 non-null     int64 \n",
      " 1   name         19 non-null     object\n",
      " 2   city         16 non-null     object\n",
      " 3   state        19 non-null     object\n",
      " 4   country      19 non-null     object\n",
      " 5   industry     19 non-null     object\n",
      " 6   profile      19 non-null     object\n",
      " 7   created      19 non-null     int64 \n",
      " 8   description  19 non-null     object\n",
      " 9   logo_name    19 non-null     object\n",
      "dtypes: int64(2), object(8)\n",
      "memory usage: 1.6+ KB\n"
     ]
    }
   ],
   "source": [
    "# Drop the columns as it's no longer needed (Empty)\n",
    "organisations_df = organisations_df.drop(columns=['email', 'year_founded',  'phone_number', 'linkedin_url'])\n",
    "organisations_df.info()"
   ]
  },
  {
   "cell_type": "markdown",
   "id": "abd11ef6",
   "metadata": {
    "papermill": {
     "duration": 0.009207,
     "end_time": "2024-05-19T03:39:53.967161",
     "exception": false,
     "start_time": "2024-05-19T03:39:53.957954",
     "status": "completed"
    },
    "tags": []
   },
   "source": [
    "### Preprocessing the contents table\n",
    "- remove the empty columns (organisation_id, and creator_id)\n",
    "- remove unhelpful content_type column (all records have same value)\n",
    "- casting the id column from float to integer type\n",
    "- remove the leading spaces for the columns names\n",
    "- drop the null records that doesn't has id value"
   ]
  },
  {
   "cell_type": "code",
   "execution_count": 7,
   "id": "eb50c73f",
   "metadata": {
    "execution": {
     "iopub.execute_input": "2024-05-19T03:39:53.987929Z",
     "iopub.status.busy": "2024-05-19T03:39:53.987504Z",
     "iopub.status.idle": "2024-05-19T03:39:54.000157Z",
     "shell.execute_reply": "2024-05-19T03:39:53.998592Z"
    },
    "papermill": {
     "duration": 0.025976,
     "end_time": "2024-05-19T03:39:54.002671",
     "exception": false,
     "start_time": "2024-05-19T03:39:53.976695",
     "status": "completed"
    },
    "tags": []
   },
   "outputs": [
    {
     "name": "stdout",
     "output_type": "stream",
     "text": [
      "<class 'pandas.core.frame.DataFrame'>\n",
      "RangeIndex: 142 entries, 0 to 141\n",
      "Data columns (total 9 columns):\n",
      " #   Column            Non-Null Count  Dtype  \n",
      "---  ------            --------------  -----  \n",
      " 0   id                141 non-null    float64\n",
      " 1   title             142 non-null    object \n",
      " 2    description      141 non-null    object \n",
      " 3   content_type      141 non-null    object \n",
      " 4   organisation_id   1 non-null      float64\n",
      " 5   url               141 non-null    object \n",
      " 6   creator_id        7 non-null      float64\n",
      " 7   created           140 non-null    float64\n",
      " 8   publication_date  133 non-null    object \n",
      "dtypes: float64(4), object(5)\n",
      "memory usage: 10.1+ KB\n"
     ]
    }
   ],
   "source": [
    "contents_df.info()"
   ]
  },
  {
   "cell_type": "code",
   "execution_count": 8,
   "id": "60d0b791",
   "metadata": {
    "execution": {
     "iopub.execute_input": "2024-05-19T03:39:54.024879Z",
     "iopub.status.busy": "2024-05-19T03:39:54.024498Z",
     "iopub.status.idle": "2024-05-19T03:39:54.045667Z",
     "shell.execute_reply": "2024-05-19T03:39:54.044137Z"
    },
    "papermill": {
     "duration": 0.035856,
     "end_time": "2024-05-19T03:39:54.048253",
     "exception": false,
     "start_time": "2024-05-19T03:39:54.012397",
     "status": "completed"
    },
    "tags": []
   },
   "outputs": [
    {
     "name": "stdout",
     "output_type": "stream",
     "text": [
      "<class 'pandas.core.frame.DataFrame'>\n",
      "Index: 141 entries, 0 to 141\n",
      "Data columns (total 6 columns):\n",
      " #   Column            Non-Null Count  Dtype  \n",
      "---  ------            --------------  -----  \n",
      " 0   id                141 non-null    int64  \n",
      " 1   title             141 non-null    object \n",
      " 2   description       141 non-null    object \n",
      " 3   url               140 non-null    object \n",
      " 4   created           140 non-null    float64\n",
      " 5   publication_date  133 non-null    object \n",
      "dtypes: float64(1), int64(1), object(4)\n",
      "memory usage: 7.7+ KB\n"
     ]
    }
   ],
   "source": [
    "# Rename the column to remove leading whitespace (description column has leading whitespace)\n",
    "contents_df = contents_df.rename(columns=lambda x: x.strip())\n",
    "\n",
    "# Drop the 'organisation_id' and 'creator_id' columns as it's no longer needed (Empty)\n",
    "# 'content_type' has same value for all records (not important)\n",
    "contents_df = contents_df.drop(columns=['organisation_id', 'creator_id', 'content_type'])\n",
    "\n",
    "# Remove row that doesn't has id\n",
    "contents_df = contents_df.dropna(subset=['id'])\n",
    "\n",
    "# Convert the id type to integer\n",
    "contents_df['id'] = contents_df['id'].astype(int)\n",
    "\n",
    "contents_df.info()"
   ]
  },
  {
   "cell_type": "markdown",
   "id": "eaf61fa0",
   "metadata": {
    "papermill": {
     "duration": 0.009675,
     "end_time": "2024-05-19T03:39:54.068216",
     "exception": false,
     "start_time": "2024-05-19T03:39:54.058541",
     "status": "completed"
    },
    "tags": []
   },
   "source": [
    "### Preprocessing the events table\n",
    "- remove the empty column (organisation_id)\n",
    "- edit the value of row of id (854) for the location column from ',' to 'online'\n",
    "- process the row of id (438) that has 68 records in title field\n",
    "- handle the format value of 'Price' column, the Free value convert it to 0, and string value to fload else None\n",
    "- reformat the location column into three columns, so we can know if the event is onsite or online in addition to the state and city of the event if onsite\n"
   ]
  },
  {
   "cell_type": "code",
   "execution_count": 9,
   "id": "8a7d72e5",
   "metadata": {
    "execution": {
     "iopub.execute_input": "2024-05-19T03:39:54.089294Z",
     "iopub.status.busy": "2024-05-19T03:39:54.088883Z",
     "iopub.status.idle": "2024-05-19T03:39:54.101223Z",
     "shell.execute_reply": "2024-05-19T03:39:54.100366Z"
    },
    "papermill": {
     "duration": 0.025832,
     "end_time": "2024-05-19T03:39:54.103745",
     "exception": false,
     "start_time": "2024-05-19T03:39:54.077913",
     "status": "completed"
    },
    "tags": []
   },
   "outputs": [
    {
     "name": "stdout",
     "output_type": "stream",
     "text": [
      "<class 'pandas.core.frame.DataFrame'>\n",
      "RangeIndex: 266 entries, 0 to 265\n",
      "Data columns (total 14 columns):\n",
      " #   Column           Non-Null Count  Dtype  \n",
      "---  ------           --------------  -----  \n",
      " 0   id               266 non-null    int64  \n",
      " 1   title            266 non-null    object \n",
      " 2   event_type       266 non-null    object \n",
      " 3   description      262 non-null    object \n",
      " 4   start            259 non-null    object \n",
      " 5   end              259 non-null    object \n",
      " 6   location         266 non-null    object \n",
      " 7   url              265 non-null    object \n",
      " 8   price            183 non-null    object \n",
      " 9   organisation_id  1 non-null      float64\n",
      " 10  created          266 non-null    float64\n",
      " 11  last_modified    187 non-null    float64\n",
      " 12  lon              185 non-null    float64\n",
      " 13  lat              185 non-null    float64\n",
      "dtypes: float64(5), int64(1), object(8)\n",
      "memory usage: 29.2+ KB\n"
     ]
    }
   ],
   "source": [
    "events_df.info()"
   ]
  },
  {
   "cell_type": "code",
   "execution_count": 10,
   "id": "ac2e0bdf",
   "metadata": {
    "execution": {
     "iopub.execute_input": "2024-05-19T03:39:54.125608Z",
     "iopub.status.busy": "2024-05-19T03:39:54.125229Z",
     "iopub.status.idle": "2024-05-19T03:39:54.337092Z",
     "shell.execute_reply": "2024-05-19T03:39:54.335899Z"
    },
    "papermill": {
     "duration": 0.226259,
     "end_time": "2024-05-19T03:39:54.339990",
     "exception": false,
     "start_time": "2024-05-19T03:39:54.113731",
     "status": "completed"
    },
    "tags": []
   },
   "outputs": [
    {
     "name": "stdout",
     "output_type": "stream",
     "text": [
      "<class 'pandas.core.frame.DataFrame'>\n",
      "RangeIndex: 333 entries, 0 to 332\n",
      "Data columns (total 15 columns):\n",
      " #   Column         Non-Null Count  Dtype  \n",
      "---  ------         --------------  -----  \n",
      " 0   id             333 non-null    int64  \n",
      " 1   title          333 non-null    object \n",
      " 2   event_type     333 non-null    object \n",
      " 3   description    329 non-null    object \n",
      " 4   start          319 non-null    float64\n",
      " 5   end            319 non-null    float64\n",
      " 6   url            333 non-null    object \n",
      " 7   price          213 non-null    float64\n",
      " 8   created        332 non-null    float64\n",
      " 9   last_modified  254 non-null    float64\n",
      " 10  lon            249 non-null    float64\n",
      " 11  lat            249 non-null    float64\n",
      " 12  meeting        333 non-null    object \n",
      " 13  city           253 non-null    object \n",
      " 14  state          253 non-null    object \n",
      "dtypes: float64(7), int64(1), object(7)\n",
      "memory usage: 39.1+ KB\n"
     ]
    }
   ],
   "source": [
    "# # Drop the 'organisation_id' column as it's no longer needed (Empty)\n",
    "events_df = events_df.drop(columns=['organisation_id'])\n",
    "\n",
    "# Update the location to 'online' where id == 854\n",
    "events_df.loc[events_df['id'] == 854, 'location'] = 'online'\n",
    "\n",
    "\n",
    "\n",
    "# get the bad record data\n",
    "uncleaned_record = events_df.loc[events_df['id'] == 438].values.flatten().tolist()\n",
    "# Delete the row where id == 438\n",
    "events_df = events_df[events_df['id'] != 438]\n",
    "\n",
    "# divide the record data into parts\n",
    "first_record_id = uncleaned_record[0] # id field (it missed value for the first row in the title)\n",
    "all_records_before = uncleaned_record[1] # title field\n",
    "last_record_end_data = uncleaned_record[2:][:-2] # others, (-2) DON'T INCLUDE THE np.nan cuz it shifted (its missed values for the last row in the title)\n",
    "\n",
    "all_records_after = all_records_before.split('\\n') # divide the title into multiple records by '\\n'\n",
    "\n",
    "# make processing on each record to get its fields spliting by '\\t'\n",
    "all_records_tolist = [list(filter(lambda part: part != '', row.split('\\t'))) for row in all_records_after]\n",
    "\n",
    "\n",
    "all_records_tolist[0].insert(0, first_record_id) # add the missed value of the first record\n",
    "all_records_tolist[-1] += last_record_end_data # add the missed values of the last records\n",
    "\n",
    "\n",
    "\n",
    "\n",
    "# Process each row and add to new_records DataFrame\n",
    "for row in all_records_tolist:\n",
    "    if len(row) == 9:\n",
    "        # Add row with 9 elements\n",
    "        cols = ['id', 'title', 'event_type', 'description', 'location', 'url', 'price', 'created', 'last_modified']\n",
    "    elif len(row) == 10:\n",
    "        cols = ['id', 'title', 'event_type', 'description', 'location', 'url', 'created', 'last_modified', 'lon', 'lat']\n",
    "    elif len(row) == 11: # there are two types of data, based on the last value we can detect the record format\n",
    "        try: \n",
    "            int(row[-1])\n",
    "            cols = ['id', 'title', 'event_type', 'description', 'start', 'end', 'location', 'url', 'price', 'created', 'last_modified']\n",
    "        except ValueError:\n",
    "            cols = ['id', 'title', 'event_type', 'description', 'location', 'url', 'price', 'created', 'last_modified', 'lon', 'lat']\n",
    "\n",
    "    elif len(row) == 12:\n",
    "        cols = ['id', 'title', 'event_type', 'description', 'start', 'end', 'location', 'url', 'created', 'last_modified', 'lon', 'lat']\n",
    "    elif len(row) == 13:\n",
    "        cols = ['id', 'title', 'event_type', 'description', 'start', 'end', 'location', 'url', 'price', 'created', 'last_modified', 'lon', 'lat']\n",
    "    else:  # Assume 14\n",
    "        cols = ['id', 'title', 'event_type', 'description', 'start', 'end', 'location', 'url', 'price', 'organisation_id', 'created', 'last_modified', 'lon', 'lat']\n",
    "    \n",
    "    # Create a DataFrame for the new record\n",
    "    new_record_df = pd.DataFrame([row], columns=cols)\n",
    "\n",
    "    # Append new record to the existing DataFrame\n",
    "    events_df = pd.concat([events_df, new_record_df], ignore_index=True)\n",
    "\n",
    "\n",
    "\n",
    "\n",
    "# # Function to convert \"From $number\" to number\n",
    "def handle_price_format(value):\n",
    "    if value is np.nan:\n",
    "        return np.nan\n",
    "    elif value.lower() == 'free':\n",
    "        return 0\n",
    "\n",
    "    return float(value.replace('From $', ''))\n",
    "\n",
    "# # Apply the conversion function to the 'price' column\n",
    "events_df['price'] = events_df['price'].apply(handle_price_format)\n",
    "\n",
    "\n",
    "# Convert the id column to integer type\n",
    "events_df['id'] = events_df['id'].astype(int)\n",
    "\n",
    "events_df['start'] = events_df['start'].astype(float)\n",
    "events_df['end'] = events_df['end'].astype(float)\n",
    "events_df['created'] = events_df['created'].astype(float)\n",
    "events_df['last_modified'] = events_df['last_modified'].astype(float)\n",
    "events_df['lon'] = events_df['lon'].astype(float)\n",
    "events_df['lat'] = events_df['lat'].astype(float)\n",
    "\n",
    "\n",
    "# Create the 'meeting' column\n",
    "events_df['meeting'] = events_df['location'].apply(lambda x: 'online' if x == 'online' else 'onsite')\n",
    "\n",
    "# Create 'city' and 'state' columns\n",
    "events_df[['city', 'state']] = events_df.apply(\n",
    "    lambda row: pd.Series(row['location'].split(', ')) if row['location'] != 'online' else pd.Series([None, None]),\n",
    "    axis=1\n",
    ")\n",
    "\n",
    "\n",
    "# Drop the location column as it's no longer needed \n",
    "events_df = events_df.drop(columns=['location'])\n",
    "\n",
    "events_df.info()"
   ]
  },
  {
   "cell_type": "markdown",
   "id": "6449b523",
   "metadata": {
    "papermill": {
     "duration": 0.009598,
     "end_time": "2024-05-19T03:39:54.359815",
     "exception": false,
     "start_time": "2024-05-19T03:39:54.350217",
     "status": "completed"
    },
    "tags": []
   },
   "source": [
    "### Preprocessing the contacts table\n",
    "- remove the empty columns (organisation_id, picture_name, position, gender and phone_number)\n",
    "- remove unhelpful role_id column (all records have same value)\n",
    "\n"
   ]
  },
  {
   "cell_type": "code",
   "execution_count": 11,
   "id": "27514c41",
   "metadata": {
    "execution": {
     "iopub.execute_input": "2024-05-19T03:39:54.381865Z",
     "iopub.status.busy": "2024-05-19T03:39:54.381218Z",
     "iopub.status.idle": "2024-05-19T03:39:54.393315Z",
     "shell.execute_reply": "2024-05-19T03:39:54.392041Z"
    },
    "papermill": {
     "duration": 0.026272,
     "end_time": "2024-05-19T03:39:54.396122",
     "exception": false,
     "start_time": "2024-05-19T03:39:54.369850",
     "status": "completed"
    },
    "tags": []
   },
   "outputs": [
    {
     "name": "stdout",
     "output_type": "stream",
     "text": [
      "<class 'pandas.core.frame.DataFrame'>\n",
      "RangeIndex: 300 entries, 0 to 299\n",
      "Data columns (total 16 columns):\n",
      " #   Column           Non-Null Count  Dtype  \n",
      "---  ------           --------------  -----  \n",
      " 0   id               300 non-null    int64  \n",
      " 1   first_name       300 non-null    object \n",
      " 2   last_name        300 non-null    object \n",
      " 3   email            300 non-null    object \n",
      " 4   role_id          300 non-null    int64  \n",
      " 5   organisation_id  0 non-null      float64\n",
      " 6   picture_name     0 non-null      float64\n",
      " 7   position         0 non-null      float64\n",
      " 8   gender           0 non-null      float64\n",
      " 9   city             290 non-null    object \n",
      " 10  country          300 non-null    object \n",
      " 11  state            295 non-null    object \n",
      " 12  created          300 non-null    int64  \n",
      " 13  phone_number     0 non-null      float64\n",
      " 14  linkedin_url     300 non-null    object \n",
      " 15  description      298 non-null    object \n",
      "dtypes: float64(5), int64(3), object(8)\n",
      "memory usage: 37.6+ KB\n"
     ]
    }
   ],
   "source": [
    "contacts_df.info()"
   ]
  },
  {
   "cell_type": "code",
   "execution_count": 12,
   "id": "1ef94522",
   "metadata": {
    "execution": {
     "iopub.execute_input": "2024-05-19T03:39:54.418384Z",
     "iopub.status.busy": "2024-05-19T03:39:54.417964Z",
     "iopub.status.idle": "2024-05-19T03:39:54.431646Z",
     "shell.execute_reply": "2024-05-19T03:39:54.430519Z"
    },
    "papermill": {
     "duration": 0.027938,
     "end_time": "2024-05-19T03:39:54.434422",
     "exception": false,
     "start_time": "2024-05-19T03:39:54.406484",
     "status": "completed"
    },
    "tags": []
   },
   "outputs": [
    {
     "name": "stdout",
     "output_type": "stream",
     "text": [
      "<class 'pandas.core.frame.DataFrame'>\n",
      "RangeIndex: 300 entries, 0 to 299\n",
      "Data columns (total 10 columns):\n",
      " #   Column        Non-Null Count  Dtype \n",
      "---  ------        --------------  ----- \n",
      " 0   id            300 non-null    int64 \n",
      " 1   first_name    300 non-null    object\n",
      " 2   last_name     300 non-null    object\n",
      " 3   email         300 non-null    object\n",
      " 4   city          290 non-null    object\n",
      " 5   country       300 non-null    object\n",
      " 6   state         295 non-null    object\n",
      " 7   created       300 non-null    int64 \n",
      " 8   linkedin_url  300 non-null    object\n",
      " 9   description   298 non-null    object\n",
      "dtypes: int64(2), object(8)\n",
      "memory usage: 23.6+ KB\n"
     ]
    }
   ],
   "source": [
    "# Drop the columns as it's no longer needed (Empty)\n",
    "# 'role_id' has same value for all records (not important)\n",
    "contacts_df = contacts_df.drop(columns=['organisation_id', 'picture_name', 'position', 'gender', 'phone_number', 'role_id'])\n",
    "\n",
    "contacts_df.info()"
   ]
  },
  {
   "cell_type": "markdown",
   "id": "1f5783bc",
   "metadata": {
    "papermill": {
     "duration": 0.0101,
     "end_time": "2024-05-19T03:39:54.454947",
     "exception": false,
     "start_time": "2024-05-19T03:39:54.444847",
     "status": "completed"
    },
    "tags": []
   },
   "source": [
    "### Preprocessing the recommendation table\n",
    "- remove the empty column (user_score)\n"
   ]
  },
  {
   "cell_type": "code",
   "execution_count": 13,
   "id": "d27b0c54",
   "metadata": {
    "execution": {
     "iopub.execute_input": "2024-05-19T03:39:54.476872Z",
     "iopub.status.busy": "2024-05-19T03:39:54.476471Z",
     "iopub.status.idle": "2024-05-19T03:39:54.489372Z",
     "shell.execute_reply": "2024-05-19T03:39:54.488071Z"
    },
    "papermill": {
     "duration": 0.026856,
     "end_time": "2024-05-19T03:39:54.492035",
     "exception": false,
     "start_time": "2024-05-19T03:39:54.465179",
     "status": "completed"
    },
    "tags": []
   },
   "outputs": [
    {
     "name": "stdout",
     "output_type": "stream",
     "text": [
      "<class 'pandas.core.frame.DataFrame'>\n",
      "RangeIndex: 658 entries, 0 to 657\n",
      "Data columns (total 14 columns):\n",
      " #   Column           Non-Null Count  Dtype  \n",
      "---  ------           --------------  -----  \n",
      " 0   id               658 non-null    int64  \n",
      " 1   title            658 non-null    object \n",
      " 2   asset_type       658 non-null    object \n",
      " 3   asset_id         658 non-null    int64  \n",
      " 4   organisation_id  658 non-null    int64  \n",
      " 5   user_id          658 non-null    int64  \n",
      " 6   creator_id       658 non-null    int64  \n",
      " 7   system_score     658 non-null    float64\n",
      " 8   user_score       0 non-null      float64\n",
      " 9   created          658 non-null    int64  \n",
      " 10  opened           625 non-null    float64\n",
      " 11  deleted          403 non-null    float64\n",
      " 12  saved            338 non-null    float64\n",
      " 13  clicked_out      414 non-null    float64\n",
      "dtypes: float64(6), int64(6), object(2)\n",
      "memory usage: 72.1+ KB\n"
     ]
    }
   ],
   "source": [
    "recommendations_df.info()"
   ]
  },
  {
   "cell_type": "code",
   "execution_count": 14,
   "id": "e4e01348",
   "metadata": {
    "execution": {
     "iopub.execute_input": "2024-05-19T03:39:54.514860Z",
     "iopub.status.busy": "2024-05-19T03:39:54.514100Z",
     "iopub.status.idle": "2024-05-19T03:39:54.527851Z",
     "shell.execute_reply": "2024-05-19T03:39:54.526179Z"
    },
    "papermill": {
     "duration": 0.027778,
     "end_time": "2024-05-19T03:39:54.530423",
     "exception": false,
     "start_time": "2024-05-19T03:39:54.502645",
     "status": "completed"
    },
    "tags": []
   },
   "outputs": [
    {
     "name": "stdout",
     "output_type": "stream",
     "text": [
      "<class 'pandas.core.frame.DataFrame'>\n",
      "RangeIndex: 658 entries, 0 to 657\n",
      "Data columns (total 13 columns):\n",
      " #   Column           Non-Null Count  Dtype  \n",
      "---  ------           --------------  -----  \n",
      " 0   id               658 non-null    int64  \n",
      " 1   title            658 non-null    object \n",
      " 2   asset_type       658 non-null    object \n",
      " 3   asset_id         658 non-null    int64  \n",
      " 4   organisation_id  658 non-null    int64  \n",
      " 5   user_id          658 non-null    int64  \n",
      " 6   creator_id       658 non-null    int64  \n",
      " 7   system_score     658 non-null    float64\n",
      " 8   created          658 non-null    int64  \n",
      " 9   opened           625 non-null    float64\n",
      " 10  deleted          403 non-null    float64\n",
      " 11  saved            338 non-null    float64\n",
      " 12  clicked_out      414 non-null    float64\n",
      "dtypes: float64(5), int64(6), object(2)\n",
      "memory usage: 67.0+ KB\n"
     ]
    }
   ],
   "source": [
    "# Drop the 'user_score' column as it's no longer needed (Empty)\n",
    "recommendations_df = recommendations_df.drop(columns=['user_score'])\n",
    "\n",
    "recommendations_df.info()"
   ]
  },
  {
   "cell_type": "markdown",
   "id": "761a13e5",
   "metadata": {
    "papermill": {
     "duration": 0.010047,
     "end_time": "2024-05-19T03:39:54.551019",
     "exception": false,
     "start_time": "2024-05-19T03:39:54.540972",
     "status": "completed"
    },
    "tags": []
   },
   "source": [
    "# Categorizing Recommendations\n",
    "### Divide the recommendation table into three categories:\n",
    "- **Content**\n",
    "- **Event**\n",
    "- **Contact**"
   ]
  },
  {
   "cell_type": "code",
   "execution_count": 15,
   "id": "711eb711",
   "metadata": {
    "execution": {
     "iopub.execute_input": "2024-05-19T03:39:54.573613Z",
     "iopub.status.busy": "2024-05-19T03:39:54.572856Z",
     "iopub.status.idle": "2024-05-19T03:39:54.584761Z",
     "shell.execute_reply": "2024-05-19T03:39:54.583907Z"
    },
    "papermill": {
     "duration": 0.025426,
     "end_time": "2024-05-19T03:39:54.586842",
     "exception": false,
     "start_time": "2024-05-19T03:39:54.561416",
     "status": "completed"
    },
    "tags": []
   },
   "outputs": [],
   "source": [
    "# Divide the DataFrame into three categories\n",
    "content_recommendations_df = recommendations_df[recommendations_df['asset_type'] == 'content'].rename(columns={'asset_id': 'content_id'}).drop(columns=['asset_type'])\n",
    "event_recommendations_df = recommendations_df[recommendations_df['asset_type'] == 'event'].rename(columns={'asset_id': 'event_id'}).drop(columns=['asset_type'])\n",
    "contact_recommendations_df = recommendations_df[recommendations_df['asset_type'] == 'contact'].rename(columns={'asset_id': 'contact_id'}).drop(columns=['asset_type'])"
   ]
  },
  {
   "cell_type": "code",
   "execution_count": 16,
   "id": "c0c12506",
   "metadata": {
    "execution": {
     "iopub.execute_input": "2024-05-19T03:39:54.609558Z",
     "iopub.status.busy": "2024-05-19T03:39:54.609163Z",
     "iopub.status.idle": "2024-05-19T03:39:54.620087Z",
     "shell.execute_reply": "2024-05-19T03:39:54.619142Z"
    },
    "papermill": {
     "duration": 0.025199,
     "end_time": "2024-05-19T03:39:54.622518",
     "exception": false,
     "start_time": "2024-05-19T03:39:54.597319",
     "status": "completed"
    },
    "tags": []
   },
   "outputs": [
    {
     "name": "stdout",
     "output_type": "stream",
     "text": [
      "<class 'pandas.core.frame.DataFrame'>\n",
      "Index: 218 entries, 0 to 647\n",
      "Data columns (total 12 columns):\n",
      " #   Column           Non-Null Count  Dtype  \n",
      "---  ------           --------------  -----  \n",
      " 0   id               218 non-null    int64  \n",
      " 1   title            218 non-null    object \n",
      " 2   content_id       218 non-null    int64  \n",
      " 3   organisation_id  218 non-null    int64  \n",
      " 4   user_id          218 non-null    int64  \n",
      " 5   creator_id       218 non-null    int64  \n",
      " 6   system_score     218 non-null    float64\n",
      " 7   created          218 non-null    int64  \n",
      " 8   opened           209 non-null    float64\n",
      " 9   deleted          138 non-null    float64\n",
      " 10  saved            99 non-null     float64\n",
      " 11  clicked_out      130 non-null    float64\n",
      "dtypes: float64(5), int64(6), object(1)\n",
      "memory usage: 22.1+ KB\n"
     ]
    }
   ],
   "source": [
    "content_recommendations_df.info()"
   ]
  },
  {
   "cell_type": "code",
   "execution_count": 17,
   "id": "c9523bda",
   "metadata": {
    "execution": {
     "iopub.execute_input": "2024-05-19T03:39:54.645424Z",
     "iopub.status.busy": "2024-05-19T03:39:54.645001Z",
     "iopub.status.idle": "2024-05-19T03:39:54.657278Z",
     "shell.execute_reply": "2024-05-19T03:39:54.656103Z"
    },
    "papermill": {
     "duration": 0.026541,
     "end_time": "2024-05-19T03:39:54.659754",
     "exception": false,
     "start_time": "2024-05-19T03:39:54.633213",
     "status": "completed"
    },
    "tags": []
   },
   "outputs": [
    {
     "name": "stdout",
     "output_type": "stream",
     "text": [
      "<class 'pandas.core.frame.DataFrame'>\n",
      "Index: 220 entries, 10 to 657\n",
      "Data columns (total 12 columns):\n",
      " #   Column           Non-Null Count  Dtype  \n",
      "---  ------           --------------  -----  \n",
      " 0   id               220 non-null    int64  \n",
      " 1   title            220 non-null    object \n",
      " 2   event_id         220 non-null    int64  \n",
      " 3   organisation_id  220 non-null    int64  \n",
      " 4   user_id          220 non-null    int64  \n",
      " 5   creator_id       220 non-null    int64  \n",
      " 6   system_score     220 non-null    float64\n",
      " 7   created          220 non-null    int64  \n",
      " 8   opened           211 non-null    float64\n",
      " 9   deleted          130 non-null    float64\n",
      " 10  saved            119 non-null    float64\n",
      " 11  clicked_out      145 non-null    float64\n",
      "dtypes: float64(5), int64(6), object(1)\n",
      "memory usage: 22.3+ KB\n"
     ]
    }
   ],
   "source": [
    "event_recommendations_df.info()"
   ]
  },
  {
   "cell_type": "code",
   "execution_count": 18,
   "id": "f77a967c",
   "metadata": {
    "execution": {
     "iopub.execute_input": "2024-05-19T03:39:54.682991Z",
     "iopub.status.busy": "2024-05-19T03:39:54.682628Z",
     "iopub.status.idle": "2024-05-19T03:39:54.693617Z",
     "shell.execute_reply": "2024-05-19T03:39:54.692517Z"
    },
    "papermill": {
     "duration": 0.026096,
     "end_time": "2024-05-19T03:39:54.696644",
     "exception": false,
     "start_time": "2024-05-19T03:39:54.670548",
     "status": "completed"
    },
    "tags": []
   },
   "outputs": [
    {
     "name": "stdout",
     "output_type": "stream",
     "text": [
      "<class 'pandas.core.frame.DataFrame'>\n",
      "Index: 220 entries, 5 to 652\n",
      "Data columns (total 12 columns):\n",
      " #   Column           Non-Null Count  Dtype  \n",
      "---  ------           --------------  -----  \n",
      " 0   id               220 non-null    int64  \n",
      " 1   title            220 non-null    object \n",
      " 2   contact_id       220 non-null    int64  \n",
      " 3   organisation_id  220 non-null    int64  \n",
      " 4   user_id          220 non-null    int64  \n",
      " 5   creator_id       220 non-null    int64  \n",
      " 6   system_score     220 non-null    float64\n",
      " 7   created          220 non-null    int64  \n",
      " 8   opened           205 non-null    float64\n",
      " 9   deleted          135 non-null    float64\n",
      " 10  saved            120 non-null    float64\n",
      " 11  clicked_out      139 non-null    float64\n",
      "dtypes: float64(5), int64(6), object(1)\n",
      "memory usage: 22.3+ KB\n"
     ]
    }
   ],
   "source": [
    "contact_recommendations_df.info()"
   ]
  },
  {
   "cell_type": "markdown",
   "id": "fd0d1a70",
   "metadata": {
    "papermill": {
     "duration": 0.010827,
     "end_time": "2024-05-19T03:39:54.718814",
     "exception": false,
     "start_time": "2024-05-19T03:39:54.707987",
     "status": "completed"
    },
    "tags": []
   },
   "source": [
    "# Data Export Post-Cleanup"
   ]
  },
  {
   "cell_type": "code",
   "execution_count": 19,
   "id": "01de8830",
   "metadata": {
    "execution": {
     "iopub.execute_input": "2024-05-19T03:39:54.742833Z",
     "iopub.status.busy": "2024-05-19T03:39:54.741744Z",
     "iopub.status.idle": "2024-05-19T03:39:54.789648Z",
     "shell.execute_reply": "2024-05-19T03:39:54.788525Z"
    },
    "papermill": {
     "duration": 0.062637,
     "end_time": "2024-05-19T03:39:54.792356",
     "exception": false,
     "start_time": "2024-05-19T03:39:54.729719",
     "status": "completed"
    },
    "tags": []
   },
   "outputs": [],
   "source": [
    "users_df.to_csv('users.csv', index=False)\n",
    "organisations_df.to_csv('organisations.csv', index=False)\n",
    "contents_df.to_csv('contents.csv', index=False)\n",
    "events_df.to_csv('events.csv', index=False)\n",
    "contacts_df.to_csv('contacts.csv', index=False)\n",
    "\n",
    "content_recommendations_df.to_csv('content_recommendations.csv', index=False)\n",
    "event_recommendations_df.to_csv('event_recommendations.csv', index=False)\n",
    "contact_recommendations_df.to_csv('contact_recommendations.csv', index=False)"
   ]
  }
 ],
 "metadata": {
  "kaggle": {
   "accelerator": "none",
   "dataSources": [
    {
     "datasetId": 5035196,
     "sourceId": 8449491,
     "sourceType": "datasetVersion"
    }
   ],
   "dockerImageVersionId": 30698,
   "isGpuEnabled": false,
   "isInternetEnabled": true,
   "language": "python",
   "sourceType": "notebook"
  },
  "kernelspec": {
   "display_name": "Python 3",
   "language": "python",
   "name": "python3"
  },
  "language_info": {
   "codemirror_mode": {
    "name": "ipython",
    "version": 3
   },
   "file_extension": ".py",
   "mimetype": "text/x-python",
   "name": "python",
   "nbconvert_exporter": "python",
   "pygments_lexer": "ipython3",
   "version": "3.10.13"
  },
  "papermill": {
   "default_parameters": {},
   "duration": 5.696264,
   "end_time": "2024-05-19T03:39:55.324199",
   "environment_variables": {},
   "exception": null,
   "input_path": "__notebook__.ipynb",
   "output_path": "__notebook__.ipynb",
   "parameters": {},
   "start_time": "2024-05-19T03:39:49.627935",
   "version": "2.5.0"
  }
 },
 "nbformat": 4,
 "nbformat_minor": 5
}
