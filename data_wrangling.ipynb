{
 "cells": [
  {
   "cell_type": "markdown",
   "id": "5a36e391",
   "metadata": {
    "papermill": {
     "duration": 0.006951,
     "end_time": "2024-05-18T21:33:36.640199",
     "exception": false,
     "start_time": "2024-05-18T21:33:36.633248",
     "status": "completed"
    },
    "tags": []
   },
   "source": [
    "# Libraries"
   ]
  },
  {
   "cell_type": "code",
   "execution_count": 1,
   "id": "54b1201c",
   "metadata": {
    "_cell_guid": "b1076dfc-b9ad-4769-8c92-a6c4dae69d19",
    "_uuid": "8f2839f25d086af736a60e9eeb907d3b93b6e0e5",
    "execution": {
     "iopub.execute_input": "2024-05-18T21:33:36.655150Z",
     "iopub.status.busy": "2024-05-18T21:33:36.654762Z",
     "iopub.status.idle": "2024-05-18T21:33:37.526807Z",
     "shell.execute_reply": "2024-05-18T21:33:37.525689Z"
    },
    "papermill": {
     "duration": 0.882758,
     "end_time": "2024-05-18T21:33:37.529592",
     "exception": false,
     "start_time": "2024-05-18T21:33:36.646834",
     "status": "completed"
    },
    "tags": []
   },
   "outputs": [],
   "source": [
    "import numpy as np \n",
    "import pandas as pd \n",
    "import re"
   ]
  },
  {
   "cell_type": "markdown",
   "id": "89dae1f1",
   "metadata": {
    "papermill": {
     "duration": 0.006159,
     "end_time": "2024-05-18T21:33:37.542277",
     "exception": false,
     "start_time": "2024-05-18T21:33:37.536118",
     "status": "completed"
    },
    "tags": []
   },
   "source": [
    "## Read the datasets\n",
    "- users\n",
    "- organisations\n",
    "- contents\n",
    "- events\n",
    "- contacts\n",
    "- recommendations"
   ]
  },
  {
   "cell_type": "code",
   "execution_count": 2,
   "id": "442b8ee2",
   "metadata": {
    "execution": {
     "iopub.execute_input": "2024-05-18T21:33:37.557587Z",
     "iopub.status.busy": "2024-05-18T21:33:37.557081Z",
     "iopub.status.idle": "2024-05-18T21:33:37.626908Z",
     "shell.execute_reply": "2024-05-18T21:33:37.626038Z"
    },
    "papermill": {
     "duration": 0.080203,
     "end_time": "2024-05-18T21:33:37.629332",
     "exception": false,
     "start_time": "2024-05-18T21:33:37.549129",
     "status": "completed"
    },
    "tags": []
   },
   "outputs": [],
   "source": [
    "# Read the datasets\n",
    "users_df = pd.read_csv('/kaggle/input/recommendation-system-dataset/users.tsv', sep='\\t')\n",
    "organisations_df = pd.read_csv('/kaggle/input/recommendation-system-dataset/organisations.tsv', sep='\\t')\n",
    "contents_df = pd.read_csv('/kaggle/input/recommendation-system-dataset/content.tsv', sep='\\t')\n",
    "events_df = pd.read_csv('/kaggle/input/recommendation-system-dataset/events.tsv', sep='\\t')\n",
    "contacts_df = pd.read_csv('/kaggle/input/recommendation-system-dataset/contacts.tsv', sep='\\t')\n",
    "recommendations_df = pd.read_csv('/kaggle/input/recommendation-system-dataset/recommendations.tsv', sep='\\t')"
   ]
  },
  {
   "cell_type": "markdown",
   "id": "a45b5bed",
   "metadata": {
    "papermill": {
     "duration": 0.005993,
     "end_time": "2024-05-18T21:33:37.641831",
     "exception": false,
     "start_time": "2024-05-18T21:33:37.635838",
     "status": "completed"
    },
    "tags": []
   },
   "source": [
    "### Preprocessing the users table\n",
    "- remove the empty columns (city, country, state, phone_number, linkedin_url and description)"
   ]
  },
  {
   "cell_type": "code",
   "execution_count": 3,
   "id": "c6547f31",
   "metadata": {
    "execution": {
     "iopub.execute_input": "2024-05-18T21:33:37.657222Z",
     "iopub.status.busy": "2024-05-18T21:33:37.656589Z",
     "iopub.status.idle": "2024-05-18T21:33:37.685756Z",
     "shell.execute_reply": "2024-05-18T21:33:37.684682Z"
    },
    "papermill": {
     "duration": 0.039432,
     "end_time": "2024-05-18T21:33:37.687976",
     "exception": false,
     "start_time": "2024-05-18T21:33:37.648544",
     "status": "completed"
    },
    "tags": []
   },
   "outputs": [
    {
     "name": "stdout",
     "output_type": "stream",
     "text": [
      "<class 'pandas.core.frame.DataFrame'>\n",
      "RangeIndex: 45 entries, 0 to 44\n",
      "Data columns (total 16 columns):\n",
      " #   Column           Non-Null Count  Dtype  \n",
      "---  ------           --------------  -----  \n",
      " 0   id               45 non-null     int64  \n",
      " 1   first_name       45 non-null     object \n",
      " 2   last_name        45 non-null     object \n",
      " 3   email            45 non-null     object \n",
      " 4   role_id          45 non-null     int64  \n",
      " 5   organisation_id  44 non-null     float64\n",
      " 6   picture_name     39 non-null     object \n",
      " 7   position         44 non-null     object \n",
      " 8   gender           45 non-null     object \n",
      " 9   city             0 non-null      float64\n",
      " 10  country          0 non-null      float64\n",
      " 11  state            0 non-null      float64\n",
      " 12  created          45 non-null     int64  \n",
      " 13  phone_number     0 non-null      float64\n",
      " 14  linkedin_url     0 non-null      float64\n",
      " 15  description      0 non-null      float64\n",
      "dtypes: float64(7), int64(3), object(6)\n",
      "memory usage: 5.8+ KB\n"
     ]
    }
   ],
   "source": [
    "users_df.info()"
   ]
  },
  {
   "cell_type": "code",
   "execution_count": 4,
   "id": "3f5a1060",
   "metadata": {
    "execution": {
     "iopub.execute_input": "2024-05-18T21:33:37.702879Z",
     "iopub.status.busy": "2024-05-18T21:33:37.702227Z",
     "iopub.status.idle": "2024-05-18T21:33:37.716873Z",
     "shell.execute_reply": "2024-05-18T21:33:37.715672Z"
    },
    "papermill": {
     "duration": 0.025323,
     "end_time": "2024-05-18T21:33:37.719756",
     "exception": false,
     "start_time": "2024-05-18T21:33:37.694433",
     "status": "completed"
    },
    "tags": []
   },
   "outputs": [
    {
     "name": "stdout",
     "output_type": "stream",
     "text": [
      "<class 'pandas.core.frame.DataFrame'>\n",
      "RangeIndex: 45 entries, 0 to 44\n",
      "Data columns (total 10 columns):\n",
      " #   Column           Non-Null Count  Dtype  \n",
      "---  ------           --------------  -----  \n",
      " 0   id               45 non-null     int64  \n",
      " 1   first_name       45 non-null     object \n",
      " 2   last_name        45 non-null     object \n",
      " 3   email            45 non-null     object \n",
      " 4   role_id          45 non-null     int64  \n",
      " 5   organisation_id  44 non-null     float64\n",
      " 6   picture_name     39 non-null     object \n",
      " 7   position         44 non-null     object \n",
      " 8   gender           45 non-null     object \n",
      " 9   created          45 non-null     int64  \n",
      "dtypes: float64(1), int64(3), object(6)\n",
      "memory usage: 3.6+ KB\n"
     ]
    }
   ],
   "source": [
    "# Drop the columns as it's no longer needed (Empty)\n",
    "users_df = users_df.drop(columns=['city', 'country', 'state', 'phone_number', 'linkedin_url', 'description'])\n",
    "users_df.info()"
   ]
  },
  {
   "cell_type": "markdown",
   "id": "ab4f090a",
   "metadata": {
    "papermill": {
     "duration": 0.007327,
     "end_time": "2024-05-18T21:33:37.733554",
     "exception": false,
     "start_time": "2024-05-18T21:33:37.726227",
     "status": "completed"
    },
    "tags": []
   },
   "source": [
    "### Preprocessing the organisations table\n",
    "- remove the empty columns (email, year_founded, phone_number, and linkedin_url)"
   ]
  },
  {
   "cell_type": "code",
   "execution_count": 5,
   "id": "367473e2",
   "metadata": {
    "execution": {
     "iopub.execute_input": "2024-05-18T21:33:37.748670Z",
     "iopub.status.busy": "2024-05-18T21:33:37.747948Z",
     "iopub.status.idle": "2024-05-18T21:33:37.758995Z",
     "shell.execute_reply": "2024-05-18T21:33:37.757639Z"
    },
    "papermill": {
     "duration": 0.021144,
     "end_time": "2024-05-18T21:33:37.761218",
     "exception": false,
     "start_time": "2024-05-18T21:33:37.740074",
     "status": "completed"
    },
    "tags": []
   },
   "outputs": [
    {
     "name": "stdout",
     "output_type": "stream",
     "text": [
      "<class 'pandas.core.frame.DataFrame'>\n",
      "RangeIndex: 19 entries, 0 to 18\n",
      "Data columns (total 14 columns):\n",
      " #   Column        Non-Null Count  Dtype  \n",
      "---  ------        --------------  -----  \n",
      " 0   id            19 non-null     int64  \n",
      " 1   name          19 non-null     object \n",
      " 2   city          16 non-null     object \n",
      " 3   state         19 non-null     object \n",
      " 4   country       19 non-null     object \n",
      " 5   industry      19 non-null     object \n",
      " 6   profile       19 non-null     object \n",
      " 7   created       19 non-null     int64  \n",
      " 8   description   19 non-null     object \n",
      " 9   linkedin_url  0 non-null      float64\n",
      " 10  phone_number  0 non-null      float64\n",
      " 11  email         0 non-null      float64\n",
      " 12  year_founded  0 non-null      float64\n",
      " 13  logo_name     19 non-null     object \n",
      "dtypes: float64(4), int64(2), object(8)\n",
      "memory usage: 2.2+ KB\n"
     ]
    }
   ],
   "source": [
    "organisations_df.info()"
   ]
  },
  {
   "cell_type": "code",
   "execution_count": 6,
   "id": "a6d8bb59",
   "metadata": {
    "execution": {
     "iopub.execute_input": "2024-05-18T21:33:37.776592Z",
     "iopub.status.busy": "2024-05-18T21:33:37.775978Z",
     "iopub.status.idle": "2024-05-18T21:33:37.787587Z",
     "shell.execute_reply": "2024-05-18T21:33:37.786371Z"
    },
    "papermill": {
     "duration": 0.02185,
     "end_time": "2024-05-18T21:33:37.789946",
     "exception": false,
     "start_time": "2024-05-18T21:33:37.768096",
     "status": "completed"
    },
    "tags": []
   },
   "outputs": [
    {
     "name": "stdout",
     "output_type": "stream",
     "text": [
      "<class 'pandas.core.frame.DataFrame'>\n",
      "RangeIndex: 19 entries, 0 to 18\n",
      "Data columns (total 10 columns):\n",
      " #   Column       Non-Null Count  Dtype \n",
      "---  ------       --------------  ----- \n",
      " 0   id           19 non-null     int64 \n",
      " 1   name         19 non-null     object\n",
      " 2   city         16 non-null     object\n",
      " 3   state        19 non-null     object\n",
      " 4   country      19 non-null     object\n",
      " 5   industry     19 non-null     object\n",
      " 6   profile      19 non-null     object\n",
      " 7   created      19 non-null     int64 \n",
      " 8   description  19 non-null     object\n",
      " 9   logo_name    19 non-null     object\n",
      "dtypes: int64(2), object(8)\n",
      "memory usage: 1.6+ KB\n"
     ]
    }
   ],
   "source": [
    "# Drop the columns as it's no longer needed (Empty)\n",
    "organisations_df = organisations_df.drop(columns=['email', 'year_founded',  'phone_number', 'linkedin_url'])\n",
    "organisations_df.info()"
   ]
  },
  {
   "cell_type": "markdown",
   "id": "53df1cae",
   "metadata": {
    "papermill": {
     "duration": 0.006434,
     "end_time": "2024-05-18T21:33:37.803123",
     "exception": false,
     "start_time": "2024-05-18T21:33:37.796689",
     "status": "completed"
    },
    "tags": []
   },
   "source": [
    "### Preprocessing the contents table\n",
    "- remove the empty columns (organisation_id, and creator_id)\n",
    "- remove unhelpful content_type column (all records have same value)\n",
    "- casting the id column from float to integer type\n",
    "- remove the leading spaces for the columns names\n",
    "- drop the null records that doesn't has id value"
   ]
  },
  {
   "cell_type": "code",
   "execution_count": 7,
   "id": "aee41a17",
   "metadata": {
    "execution": {
     "iopub.execute_input": "2024-05-18T21:33:37.818549Z",
     "iopub.status.busy": "2024-05-18T21:33:37.817827Z",
     "iopub.status.idle": "2024-05-18T21:33:37.828892Z",
     "shell.execute_reply": "2024-05-18T21:33:37.827624Z"
    },
    "papermill": {
     "duration": 0.021251,
     "end_time": "2024-05-18T21:33:37.831075",
     "exception": false,
     "start_time": "2024-05-18T21:33:37.809824",
     "status": "completed"
    },
    "tags": []
   },
   "outputs": [
    {
     "name": "stdout",
     "output_type": "stream",
     "text": [
      "<class 'pandas.core.frame.DataFrame'>\n",
      "RangeIndex: 142 entries, 0 to 141\n",
      "Data columns (total 9 columns):\n",
      " #   Column            Non-Null Count  Dtype  \n",
      "---  ------            --------------  -----  \n",
      " 0   id                141 non-null    float64\n",
      " 1   title             142 non-null    object \n",
      " 2    description      141 non-null    object \n",
      " 3   content_type      141 non-null    object \n",
      " 4   organisation_id   1 non-null      float64\n",
      " 5   url               141 non-null    object \n",
      " 6   creator_id        7 non-null      float64\n",
      " 7   created           140 non-null    float64\n",
      " 8   publication_date  133 non-null    object \n",
      "dtypes: float64(4), object(5)\n",
      "memory usage: 10.1+ KB\n"
     ]
    }
   ],
   "source": [
    "contents_df.info()"
   ]
  },
  {
   "cell_type": "code",
   "execution_count": 8,
   "id": "c2badde1",
   "metadata": {
    "execution": {
     "iopub.execute_input": "2024-05-18T21:33:37.846716Z",
     "iopub.status.busy": "2024-05-18T21:33:37.845985Z",
     "iopub.status.idle": "2024-05-18T21:33:37.862835Z",
     "shell.execute_reply": "2024-05-18T21:33:37.861699Z"
    },
    "papermill": {
     "duration": 0.027505,
     "end_time": "2024-05-18T21:33:37.865318",
     "exception": false,
     "start_time": "2024-05-18T21:33:37.837813",
     "status": "completed"
    },
    "tags": []
   },
   "outputs": [
    {
     "name": "stdout",
     "output_type": "stream",
     "text": [
      "<class 'pandas.core.frame.DataFrame'>\n",
      "Index: 141 entries, 0 to 141\n",
      "Data columns (total 6 columns):\n",
      " #   Column            Non-Null Count  Dtype  \n",
      "---  ------            --------------  -----  \n",
      " 0   id                141 non-null    int64  \n",
      " 1   title             141 non-null    object \n",
      " 2   description       141 non-null    object \n",
      " 3   url               140 non-null    object \n",
      " 4   created           140 non-null    float64\n",
      " 5   publication_date  133 non-null    object \n",
      "dtypes: float64(1), int64(1), object(4)\n",
      "memory usage: 7.7+ KB\n"
     ]
    }
   ],
   "source": [
    "# Rename the column to remove leading whitespace (description column has leading whitespace)\n",
    "contents_df = contents_df.rename(columns=lambda x: x.strip())\n",
    "\n",
    "# Drop the 'organisation_id' and 'creator_id' columns as it's no longer needed (Empty)\n",
    "# 'content_type' has same value for all records (not important)\n",
    "contents_df = contents_df.drop(columns=['organisation_id', 'creator_id', 'content_type'])\n",
    "\n",
    "# Remove row that doesn't has id\n",
    "contents_df = contents_df.dropna(subset=['id'])\n",
    "\n",
    "# Convert the id type to integer\n",
    "contents_df['id'] = contents_df['id'].astype(int)\n",
    "\n",
    "contents_df.info()"
   ]
  },
  {
   "cell_type": "markdown",
   "id": "22eac870",
   "metadata": {
    "papermill": {
     "duration": 0.006482,
     "end_time": "2024-05-18T21:33:37.878716",
     "exception": false,
     "start_time": "2024-05-18T21:33:37.872234",
     "status": "completed"
    },
    "tags": []
   },
   "source": [
    "### Preprocessing the events table\n",
    "- remove the empty column (organisation_id)\n",
    "- edit the value of row of id (854) for the location column from ',' to 'online'\n",
    "- process the row of id (438) that has 68 records in title field\n",
    "- handle the format value of 'Price' column, the Free value convert it to 0, and string value to fload else None\n",
    "\n"
   ]
  },
  {
   "cell_type": "code",
   "execution_count": 9,
   "id": "bd72a19d",
   "metadata": {
    "execution": {
     "iopub.execute_input": "2024-05-18T21:33:37.894282Z",
     "iopub.status.busy": "2024-05-18T21:33:37.893683Z",
     "iopub.status.idle": "2024-05-18T21:33:37.904765Z",
     "shell.execute_reply": "2024-05-18T21:33:37.903461Z"
    },
    "papermill": {
     "duration": 0.021694,
     "end_time": "2024-05-18T21:33:37.907231",
     "exception": false,
     "start_time": "2024-05-18T21:33:37.885537",
     "status": "completed"
    },
    "tags": []
   },
   "outputs": [
    {
     "name": "stdout",
     "output_type": "stream",
     "text": [
      "<class 'pandas.core.frame.DataFrame'>\n",
      "RangeIndex: 266 entries, 0 to 265\n",
      "Data columns (total 14 columns):\n",
      " #   Column           Non-Null Count  Dtype  \n",
      "---  ------           --------------  -----  \n",
      " 0   id               266 non-null    int64  \n",
      " 1   title            266 non-null    object \n",
      " 2   event_type       266 non-null    object \n",
      " 3   description      262 non-null    object \n",
      " 4   start            259 non-null    object \n",
      " 5   end              259 non-null    object \n",
      " 6   location         266 non-null    object \n",
      " 7   url              265 non-null    object \n",
      " 8   price            183 non-null    object \n",
      " 9   organisation_id  1 non-null      float64\n",
      " 10  created          266 non-null    float64\n",
      " 11  last_modified    187 non-null    float64\n",
      " 12  lon              185 non-null    float64\n",
      " 13  lat              185 non-null    float64\n",
      "dtypes: float64(5), int64(1), object(8)\n",
      "memory usage: 29.2+ KB\n"
     ]
    }
   ],
   "source": [
    "events_df.info()"
   ]
  },
  {
   "cell_type": "code",
   "execution_count": 10,
   "id": "aa5043cd",
   "metadata": {
    "execution": {
     "iopub.execute_input": "2024-05-18T21:33:37.923915Z",
     "iopub.status.busy": "2024-05-18T21:33:37.923519Z",
     "iopub.status.idle": "2024-05-18T21:33:38.052968Z",
     "shell.execute_reply": "2024-05-18T21:33:38.051680Z"
    },
    "papermill": {
     "duration": 0.14072,
     "end_time": "2024-05-18T21:33:38.055320",
     "exception": false,
     "start_time": "2024-05-18T21:33:37.914600",
     "status": "completed"
    },
    "tags": []
   },
   "outputs": [
    {
     "name": "stdout",
     "output_type": "stream",
     "text": [
      "<class 'pandas.core.frame.DataFrame'>\n",
      "RangeIndex: 333 entries, 0 to 332\n",
      "Data columns (total 13 columns):\n",
      " #   Column         Non-Null Count  Dtype  \n",
      "---  ------         --------------  -----  \n",
      " 0   id             333 non-null    int64  \n",
      " 1   title          333 non-null    object \n",
      " 2   event_type     333 non-null    object \n",
      " 3   description    329 non-null    object \n",
      " 4   start          319 non-null    float64\n",
      " 5   end            319 non-null    float64\n",
      " 6   location       333 non-null    object \n",
      " 7   url            333 non-null    object \n",
      " 8   price          213 non-null    float64\n",
      " 9   created        332 non-null    float64\n",
      " 10  last_modified  254 non-null    float64\n",
      " 11  lon            249 non-null    float64\n",
      " 12  lat            249 non-null    float64\n",
      "dtypes: float64(7), int64(1), object(5)\n",
      "memory usage: 33.9+ KB\n"
     ]
    }
   ],
   "source": [
    "# # Drop the 'organisation_id' column as it's no longer needed (Empty)\n",
    "events_df = events_df.drop(columns=['organisation_id'])\n",
    "\n",
    "# Update the location to 'online' where id == 854\n",
    "events_df.loc[events_df['id'] == 854, 'location'] = 'online'\n",
    "\n",
    "\n",
    "\n",
    "# get the bad record data\n",
    "uncleaned_record = events_df.loc[events_df['id'] == 438].values.flatten().tolist()\n",
    "# Delete the row where id == 438\n",
    "events_df = events_df[events_df['id'] != 438]\n",
    "\n",
    "# divide the record data into parts\n",
    "first_record_id = uncleaned_record[0] # id field (it missed value for the first row in the title)\n",
    "all_records_before = uncleaned_record[1] # title field\n",
    "last_record_end_data = uncleaned_record[2:][:-2] # others, (-2) DON'T INCLUDE THE np.nan cuz it shifted (its missed values for the last row in the title)\n",
    "\n",
    "all_records_after = all_records_before.split('\\n') # divide the title into multiple records by '\\n'\n",
    "\n",
    "# make processing on each record to get its fields spliting by '\\t'\n",
    "all_records_tolist = [list(filter(lambda part: part != '', row.split('\\t'))) for row in all_records_after]\n",
    "\n",
    "\n",
    "all_records_tolist[0].insert(0, first_record_id) # add the missed value of the first record\n",
    "all_records_tolist[-1] += last_record_end_data # add the missed values of the last records\n",
    "\n",
    "\n",
    "\n",
    "\n",
    "# Process each row and add to new_records DataFrame\n",
    "for row in all_records_tolist:\n",
    "    if len(row) == 9:\n",
    "        # Add row with 9 elements\n",
    "        cols = ['id', 'title', 'event_type', 'description', 'location', 'url', 'price', 'created', 'last_modified']\n",
    "    elif len(row) == 10:\n",
    "        cols = ['id', 'title', 'event_type', 'description', 'location', 'url', 'created', 'last_modified', 'lon', 'lat']\n",
    "    elif len(row) == 11: # there are two types of data, based on the last value we can detect the record format\n",
    "        try: \n",
    "            int(row[-1])\n",
    "            cols = ['id', 'title', 'event_type', 'description', 'start', 'end', 'location', 'url', 'price', 'created', 'last_modified']\n",
    "        except ValueError:\n",
    "            cols = ['id', 'title', 'event_type', 'description', 'location', 'url', 'price', 'created', 'last_modified', 'lon', 'lat']\n",
    "\n",
    "    elif len(row) == 12:\n",
    "        cols = ['id', 'title', 'event_type', 'description', 'start', 'end', 'location', 'url', 'created', 'last_modified', 'lon', 'lat']\n",
    "    elif len(row) == 13:\n",
    "        cols = ['id', 'title', 'event_type', 'description', 'start', 'end', 'location', 'url', 'price', 'created', 'last_modified', 'lon', 'lat']\n",
    "    else:  # Assume 14\n",
    "        cols = ['id', 'title', 'event_type', 'description', 'start', 'end', 'location', 'url', 'price', 'organisation_id', 'created', 'last_modified', 'lon', 'lat']\n",
    "    \n",
    "    # Create a DataFrame for the new record\n",
    "    new_record_df = pd.DataFrame([row], columns=cols)\n",
    "\n",
    "    # Append new record to the existing DataFrame\n",
    "    events_df = pd.concat([events_df, new_record_df], ignore_index=True)\n",
    "\n",
    "\n",
    "\n",
    "\n",
    "# # Function to convert \"From $number\" to number\n",
    "def handle_price_format(value):\n",
    "    if value is np.nan:\n",
    "        return np.nan\n",
    "    elif value.lower() == 'free':\n",
    "        return 0\n",
    "\n",
    "    return float(value.replace('From $', ''))\n",
    "\n",
    "# # Apply the conversion function to the 'price' column\n",
    "events_df['price'] = events_df['price'].apply(handle_price_format)\n",
    "\n",
    "\n",
    "# Convert the id column to integer type\n",
    "events_df['id'] = events_df['id'].astype(int)\n",
    "\n",
    "events_df['start'] = events_df['start'].astype(float)\n",
    "events_df['end'] = events_df['end'].astype(float)\n",
    "events_df['created'] = events_df['created'].astype(float)\n",
    "events_df['last_modified'] = events_df['last_modified'].astype(float)\n",
    "events_df['lon'] = events_df['lon'].astype(float)\n",
    "events_df['lat'] = events_df['lat'].astype(float)\n",
    "\n",
    "\n",
    "events_df.info()"
   ]
  },
  {
   "cell_type": "markdown",
   "id": "c614dce6",
   "metadata": {
    "papermill": {
     "duration": 0.006885,
     "end_time": "2024-05-18T21:33:38.069668",
     "exception": false,
     "start_time": "2024-05-18T21:33:38.062783",
     "status": "completed"
    },
    "tags": []
   },
   "source": [
    "### Preprocessing the contacts table\n",
    "- remove the empty columns (organisation_id, picture_name, position, gender and phone_number)\n",
    "- remove unhelpful role_id column (all records have same value)\n",
    "\n"
   ]
  },
  {
   "cell_type": "code",
   "execution_count": 11,
   "id": "b9b945fa",
   "metadata": {
    "execution": {
     "iopub.execute_input": "2024-05-18T21:33:38.086141Z",
     "iopub.status.busy": "2024-05-18T21:33:38.085446Z",
     "iopub.status.idle": "2024-05-18T21:33:38.096554Z",
     "shell.execute_reply": "2024-05-18T21:33:38.095816Z"
    },
    "papermill": {
     "duration": 0.021786,
     "end_time": "2024-05-18T21:33:38.098809",
     "exception": false,
     "start_time": "2024-05-18T21:33:38.077023",
     "status": "completed"
    },
    "tags": []
   },
   "outputs": [
    {
     "name": "stdout",
     "output_type": "stream",
     "text": [
      "<class 'pandas.core.frame.DataFrame'>\n",
      "RangeIndex: 300 entries, 0 to 299\n",
      "Data columns (total 16 columns):\n",
      " #   Column           Non-Null Count  Dtype  \n",
      "---  ------           --------------  -----  \n",
      " 0   id               300 non-null    int64  \n",
      " 1   first_name       300 non-null    object \n",
      " 2   last_name        300 non-null    object \n",
      " 3   email            300 non-null    object \n",
      " 4   role_id          300 non-null    int64  \n",
      " 5   organisation_id  0 non-null      float64\n",
      " 6   picture_name     0 non-null      float64\n",
      " 7   position         0 non-null      float64\n",
      " 8   gender           0 non-null      float64\n",
      " 9   city             290 non-null    object \n",
      " 10  country          300 non-null    object \n",
      " 11  state            295 non-null    object \n",
      " 12  created          300 non-null    int64  \n",
      " 13  phone_number     0 non-null      float64\n",
      " 14  linkedin_url     300 non-null    object \n",
      " 15  description      298 non-null    object \n",
      "dtypes: float64(5), int64(3), object(8)\n",
      "memory usage: 37.6+ KB\n"
     ]
    }
   ],
   "source": [
    "contacts_df.info()"
   ]
  },
  {
   "cell_type": "code",
   "execution_count": 12,
   "id": "77c448d0",
   "metadata": {
    "execution": {
     "iopub.execute_input": "2024-05-18T21:33:38.115019Z",
     "iopub.status.busy": "2024-05-18T21:33:38.114447Z",
     "iopub.status.idle": "2024-05-18T21:33:38.125542Z",
     "shell.execute_reply": "2024-05-18T21:33:38.124197Z"
    },
    "papermill": {
     "duration": 0.021766,
     "end_time": "2024-05-18T21:33:38.127738",
     "exception": false,
     "start_time": "2024-05-18T21:33:38.105972",
     "status": "completed"
    },
    "tags": []
   },
   "outputs": [
    {
     "name": "stdout",
     "output_type": "stream",
     "text": [
      "<class 'pandas.core.frame.DataFrame'>\n",
      "RangeIndex: 300 entries, 0 to 299\n",
      "Data columns (total 10 columns):\n",
      " #   Column        Non-Null Count  Dtype \n",
      "---  ------        --------------  ----- \n",
      " 0   id            300 non-null    int64 \n",
      " 1   first_name    300 non-null    object\n",
      " 2   last_name     300 non-null    object\n",
      " 3   email         300 non-null    object\n",
      " 4   city          290 non-null    object\n",
      " 5   country       300 non-null    object\n",
      " 6   state         295 non-null    object\n",
      " 7   created       300 non-null    int64 \n",
      " 8   linkedin_url  300 non-null    object\n",
      " 9   description   298 non-null    object\n",
      "dtypes: int64(2), object(8)\n",
      "memory usage: 23.6+ KB\n"
     ]
    }
   ],
   "source": [
    "# Drop the columns as it's no longer needed (Empty)\n",
    "# 'role_id' has same value for all records (not important)\n",
    "contacts_df = contacts_df.drop(columns=['organisation_id', 'picture_name', 'position', 'gender', 'phone_number', 'role_id'])\n",
    "\n",
    "contacts_df.info()"
   ]
  },
  {
   "cell_type": "markdown",
   "id": "1be1beeb",
   "metadata": {
    "papermill": {
     "duration": 0.006873,
     "end_time": "2024-05-18T21:33:38.142073",
     "exception": false,
     "start_time": "2024-05-18T21:33:38.135200",
     "status": "completed"
    },
    "tags": []
   },
   "source": [
    "### Preprocessing the recommendation table\n",
    "- remove the empty column (user_score)\n"
   ]
  },
  {
   "cell_type": "code",
   "execution_count": 13,
   "id": "f42f7c96",
   "metadata": {
    "execution": {
     "iopub.execute_input": "2024-05-18T21:33:38.158504Z",
     "iopub.status.busy": "2024-05-18T21:33:38.157646Z",
     "iopub.status.idle": "2024-05-18T21:33:38.168362Z",
     "shell.execute_reply": "2024-05-18T21:33:38.166817Z"
    },
    "papermill": {
     "duration": 0.021547,
     "end_time": "2024-05-18T21:33:38.170748",
     "exception": false,
     "start_time": "2024-05-18T21:33:38.149201",
     "status": "completed"
    },
    "tags": []
   },
   "outputs": [
    {
     "name": "stdout",
     "output_type": "stream",
     "text": [
      "<class 'pandas.core.frame.DataFrame'>\n",
      "RangeIndex: 658 entries, 0 to 657\n",
      "Data columns (total 14 columns):\n",
      " #   Column           Non-Null Count  Dtype  \n",
      "---  ------           --------------  -----  \n",
      " 0   id               658 non-null    int64  \n",
      " 1   title            658 non-null    object \n",
      " 2   asset_type       658 non-null    object \n",
      " 3   asset_id         658 non-null    int64  \n",
      " 4   organisation_id  658 non-null    int64  \n",
      " 5   user_id          658 non-null    int64  \n",
      " 6   creator_id       658 non-null    int64  \n",
      " 7   system_score     658 non-null    float64\n",
      " 8   user_score       0 non-null      float64\n",
      " 9   created          658 non-null    int64  \n",
      " 10  opened           625 non-null    float64\n",
      " 11  deleted          403 non-null    float64\n",
      " 12  saved            338 non-null    float64\n",
      " 13  clicked_out      414 non-null    float64\n",
      "dtypes: float64(6), int64(6), object(2)\n",
      "memory usage: 72.1+ KB\n"
     ]
    }
   ],
   "source": [
    "recommendations_df.info()"
   ]
  },
  {
   "cell_type": "code",
   "execution_count": 14,
   "id": "1a4b455e",
   "metadata": {
    "execution": {
     "iopub.execute_input": "2024-05-18T21:33:38.187808Z",
     "iopub.status.busy": "2024-05-18T21:33:38.187408Z",
     "iopub.status.idle": "2024-05-18T21:33:38.199934Z",
     "shell.execute_reply": "2024-05-18T21:33:38.198910Z"
    },
    "papermill": {
     "duration": 0.023876,
     "end_time": "2024-05-18T21:33:38.202331",
     "exception": false,
     "start_time": "2024-05-18T21:33:38.178455",
     "status": "completed"
    },
    "tags": []
   },
   "outputs": [
    {
     "name": "stdout",
     "output_type": "stream",
     "text": [
      "<class 'pandas.core.frame.DataFrame'>\n",
      "RangeIndex: 658 entries, 0 to 657\n",
      "Data columns (total 13 columns):\n",
      " #   Column           Non-Null Count  Dtype  \n",
      "---  ------           --------------  -----  \n",
      " 0   id               658 non-null    int64  \n",
      " 1   title            658 non-null    object \n",
      " 2   asset_type       658 non-null    object \n",
      " 3   asset_id         658 non-null    int64  \n",
      " 4   organisation_id  658 non-null    int64  \n",
      " 5   user_id          658 non-null    int64  \n",
      " 6   creator_id       658 non-null    int64  \n",
      " 7   system_score     658 non-null    float64\n",
      " 8   created          658 non-null    int64  \n",
      " 9   opened           625 non-null    float64\n",
      " 10  deleted          403 non-null    float64\n",
      " 11  saved            338 non-null    float64\n",
      " 12  clicked_out      414 non-null    float64\n",
      "dtypes: float64(5), int64(6), object(2)\n",
      "memory usage: 67.0+ KB\n"
     ]
    }
   ],
   "source": [
    "# Drop the 'user_score' column as it's no longer needed (Empty)\n",
    "recommendations_df = recommendations_df.drop(columns=['user_score'])\n",
    "\n",
    "recommendations_df.info()"
   ]
  },
  {
   "cell_type": "markdown",
   "id": "7920674c",
   "metadata": {
    "papermill": {
     "duration": 0.007012,
     "end_time": "2024-05-18T21:33:38.216727",
     "exception": false,
     "start_time": "2024-05-18T21:33:38.209715",
     "status": "completed"
    },
    "tags": []
   },
   "source": [
    "# Categorizing Recommendations\n",
    "### Divide the recommendation table into three categories:\n",
    "- **Content**\n",
    "- **Event**\n",
    "- **Contact**"
   ]
  },
  {
   "cell_type": "code",
   "execution_count": 15,
   "id": "0bc4c9d3",
   "metadata": {
    "execution": {
     "iopub.execute_input": "2024-05-18T21:33:38.233537Z",
     "iopub.status.busy": "2024-05-18T21:33:38.232547Z",
     "iopub.status.idle": "2024-05-18T21:33:38.243568Z",
     "shell.execute_reply": "2024-05-18T21:33:38.242689Z"
    },
    "papermill": {
     "duration": 0.02188,
     "end_time": "2024-05-18T21:33:38.245923",
     "exception": false,
     "start_time": "2024-05-18T21:33:38.224043",
     "status": "completed"
    },
    "tags": []
   },
   "outputs": [],
   "source": [
    "# Divide the DataFrame into three categories\n",
    "content_recommendations_df = recommendations_df[recommendations_df['asset_type'] == 'content'].rename(columns={'asset_id': 'content_id'}).drop(columns=['asset_type'])\n",
    "event_recommendations_df = recommendations_df[recommendations_df['asset_type'] == 'event'].rename(columns={'asset_id': 'event_id'}).drop(columns=['asset_type'])\n",
    "contact_recommendations_df = recommendations_df[recommendations_df['asset_type'] == 'contact'].rename(columns={'asset_id': 'contact_id'}).drop(columns=['asset_type'])"
   ]
  },
  {
   "cell_type": "code",
   "execution_count": 16,
   "id": "5cadd728",
   "metadata": {
    "execution": {
     "iopub.execute_input": "2024-05-18T21:33:38.262904Z",
     "iopub.status.busy": "2024-05-18T21:33:38.262101Z",
     "iopub.status.idle": "2024-05-18T21:33:38.274356Z",
     "shell.execute_reply": "2024-05-18T21:33:38.273030Z"
    },
    "papermill": {
     "duration": 0.023246,
     "end_time": "2024-05-18T21:33:38.276702",
     "exception": false,
     "start_time": "2024-05-18T21:33:38.253456",
     "status": "completed"
    },
    "tags": []
   },
   "outputs": [
    {
     "name": "stdout",
     "output_type": "stream",
     "text": [
      "<class 'pandas.core.frame.DataFrame'>\n",
      "Index: 218 entries, 0 to 647\n",
      "Data columns (total 12 columns):\n",
      " #   Column           Non-Null Count  Dtype  \n",
      "---  ------           --------------  -----  \n",
      " 0   id               218 non-null    int64  \n",
      " 1   title            218 non-null    object \n",
      " 2   content_id       218 non-null    int64  \n",
      " 3   organisation_id  218 non-null    int64  \n",
      " 4   user_id          218 non-null    int64  \n",
      " 5   creator_id       218 non-null    int64  \n",
      " 6   system_score     218 non-null    float64\n",
      " 7   created          218 non-null    int64  \n",
      " 8   opened           209 non-null    float64\n",
      " 9   deleted          138 non-null    float64\n",
      " 10  saved            99 non-null     float64\n",
      " 11  clicked_out      130 non-null    float64\n",
      "dtypes: float64(5), int64(6), object(1)\n",
      "memory usage: 22.1+ KB\n"
     ]
    }
   ],
   "source": [
    "content_recommendations_df.info()"
   ]
  },
  {
   "cell_type": "code",
   "execution_count": 17,
   "id": "4d851591",
   "metadata": {
    "execution": {
     "iopub.execute_input": "2024-05-18T21:33:38.294357Z",
     "iopub.status.busy": "2024-05-18T21:33:38.293942Z",
     "iopub.status.idle": "2024-05-18T21:33:38.307062Z",
     "shell.execute_reply": "2024-05-18T21:33:38.305877Z"
    },
    "papermill": {
     "duration": 0.024394,
     "end_time": "2024-05-18T21:33:38.309263",
     "exception": false,
     "start_time": "2024-05-18T21:33:38.284869",
     "status": "completed"
    },
    "tags": []
   },
   "outputs": [
    {
     "name": "stdout",
     "output_type": "stream",
     "text": [
      "<class 'pandas.core.frame.DataFrame'>\n",
      "Index: 220 entries, 10 to 657\n",
      "Data columns (total 12 columns):\n",
      " #   Column           Non-Null Count  Dtype  \n",
      "---  ------           --------------  -----  \n",
      " 0   id               220 non-null    int64  \n",
      " 1   title            220 non-null    object \n",
      " 2   event_id         220 non-null    int64  \n",
      " 3   organisation_id  220 non-null    int64  \n",
      " 4   user_id          220 non-null    int64  \n",
      " 5   creator_id       220 non-null    int64  \n",
      " 6   system_score     220 non-null    float64\n",
      " 7   created          220 non-null    int64  \n",
      " 8   opened           211 non-null    float64\n",
      " 9   deleted          130 non-null    float64\n",
      " 10  saved            119 non-null    float64\n",
      " 11  clicked_out      145 non-null    float64\n",
      "dtypes: float64(5), int64(6), object(1)\n",
      "memory usage: 22.3+ KB\n"
     ]
    }
   ],
   "source": [
    "event_recommendations_df.info()"
   ]
  },
  {
   "cell_type": "code",
   "execution_count": 18,
   "id": "572c2fc9",
   "metadata": {
    "execution": {
     "iopub.execute_input": "2024-05-18T21:33:38.326118Z",
     "iopub.status.busy": "2024-05-18T21:33:38.325716Z",
     "iopub.status.idle": "2024-05-18T21:33:38.338182Z",
     "shell.execute_reply": "2024-05-18T21:33:38.336702Z"
    },
    "papermill": {
     "duration": 0.023518,
     "end_time": "2024-05-18T21:33:38.340444",
     "exception": false,
     "start_time": "2024-05-18T21:33:38.316926",
     "status": "completed"
    },
    "tags": []
   },
   "outputs": [
    {
     "name": "stdout",
     "output_type": "stream",
     "text": [
      "<class 'pandas.core.frame.DataFrame'>\n",
      "Index: 220 entries, 5 to 652\n",
      "Data columns (total 12 columns):\n",
      " #   Column           Non-Null Count  Dtype  \n",
      "---  ------           --------------  -----  \n",
      " 0   id               220 non-null    int64  \n",
      " 1   title            220 non-null    object \n",
      " 2   contact_id       220 non-null    int64  \n",
      " 3   organisation_id  220 non-null    int64  \n",
      " 4   user_id          220 non-null    int64  \n",
      " 5   creator_id       220 non-null    int64  \n",
      " 6   system_score     220 non-null    float64\n",
      " 7   created          220 non-null    int64  \n",
      " 8   opened           205 non-null    float64\n",
      " 9   deleted          135 non-null    float64\n",
      " 10  saved            120 non-null    float64\n",
      " 11  clicked_out      139 non-null    float64\n",
      "dtypes: float64(5), int64(6), object(1)\n",
      "memory usage: 22.3+ KB\n"
     ]
    }
   ],
   "source": [
    "contact_recommendations_df.info()"
   ]
  },
  {
   "cell_type": "markdown",
   "id": "e2357edb",
   "metadata": {
    "papermill": {
     "duration": 0.009441,
     "end_time": "2024-05-18T21:33:38.357696",
     "exception": false,
     "start_time": "2024-05-18T21:33:38.348255",
     "status": "completed"
    },
    "tags": []
   },
   "source": [
    "# Data Export Post-Cleanup"
   ]
  },
  {
   "cell_type": "code",
   "execution_count": 19,
   "id": "a1d5404b",
   "metadata": {
    "execution": {
     "iopub.execute_input": "2024-05-18T21:33:38.375378Z",
     "iopub.status.busy": "2024-05-18T21:33:38.374983Z",
     "iopub.status.idle": "2024-05-18T21:33:38.410164Z",
     "shell.execute_reply": "2024-05-18T21:33:38.408944Z"
    },
    "papermill": {
     "duration": 0.047911,
     "end_time": "2024-05-18T21:33:38.413359",
     "exception": false,
     "start_time": "2024-05-18T21:33:38.365448",
     "status": "completed"
    },
    "tags": []
   },
   "outputs": [],
   "source": [
    "users_df.to_csv('users.csv', index=False)\n",
    "organisations_df.to_csv('organisations.csv', index=False)\n",
    "contents_df.to_csv('contents.csv', index=False)\n",
    "events_df.to_csv('events.csv', index=False)\n",
    "contacts_df.to_csv('contacts.csv', index=False)\n",
    "\n",
    "content_recommendations_df.to_csv('content_recommendations.csv', index=False)\n",
    "event_recommendations_df.to_csv('event_recommendations.csv', index=False)\n",
    "contact_recommendations_df.to_csv('contact_recommendations.csv', index=False)"
   ]
  }
 ],
 "metadata": {
  "kaggle": {
   "accelerator": "none",
   "dataSources": [
    {
     "datasetId": 5035196,
     "sourceId": 8449491,
     "sourceType": "datasetVersion"
    }
   ],
   "dockerImageVersionId": 30698,
   "isGpuEnabled": false,
   "isInternetEnabled": true,
   "language": "python",
   "sourceType": "notebook"
  },
  "kernelspec": {
   "display_name": "Python 3",
   "language": "python",
   "name": "python3"
  },
  "language_info": {
   "codemirror_mode": {
    "name": "ipython",
    "version": 3
   },
   "file_extension": ".py",
   "mimetype": "text/x-python",
   "name": "python",
   "nbconvert_exporter": "python",
   "pygments_lexer": "ipython3",
   "version": "3.10.13"
  },
  "papermill": {
   "default_parameters": {},
   "duration": 5.070807,
   "end_time": "2024-05-18T21:33:38.942812",
   "environment_variables": {},
   "exception": null,
   "input_path": "__notebook__.ipynb",
   "output_path": "__notebook__.ipynb",
   "parameters": {},
   "start_time": "2024-05-18T21:33:33.872005",
   "version": "2.5.0"
  }
 },
 "nbformat": 4,
 "nbformat_minor": 5
}
