{
 "cells": [
  {
   "cell_type": "markdown",
   "id": "37489544",
   "metadata": {
    "papermill": {
     "duration": 0.008837,
     "end_time": "2024-05-18T17:43:51.058371",
     "exception": false,
     "start_time": "2024-05-18T17:43:51.049534",
     "status": "completed"
    },
    "tags": []
   },
   "source": [
    "# Load the libraries "
   ]
  },
  {
   "cell_type": "code",
   "execution_count": 1,
   "id": "dcf28a75",
   "metadata": {
    "_cell_guid": "b1076dfc-b9ad-4769-8c92-a6c4dae69d19",
    "_uuid": "8f2839f25d086af736a60e9eeb907d3b93b6e0e5",
    "execution": {
     "iopub.execute_input": "2024-05-18T17:43:51.080060Z",
     "iopub.status.busy": "2024-05-18T17:43:51.079618Z",
     "iopub.status.idle": "2024-05-18T17:43:53.620709Z",
     "shell.execute_reply": "2024-05-18T17:43:53.619049Z"
    },
    "papermill": {
     "duration": 2.554512,
     "end_time": "2024-05-18T17:43:53.623867",
     "exception": false,
     "start_time": "2024-05-18T17:43:51.069355",
     "status": "completed"
    },
    "tags": []
   },
   "outputs": [],
   "source": [
    "import numpy as np \n",
    "import pandas as pd \n",
    "from itertools import product\n",
    "from sklearn.metrics.pairwise import cosine_similarity\n",
    "from scipy.sparse import csr_matrix"
   ]
  },
  {
   "cell_type": "markdown",
   "id": "39c0b1bc",
   "metadata": {
    "papermill": {
     "duration": 0.008335,
     "end_time": "2024-05-18T17:43:53.641050",
     "exception": false,
     "start_time": "2024-05-18T17:43:53.632715",
     "status": "completed"
    },
    "tags": []
   },
   "source": [
    "# Clean the users dataset"
   ]
  },
  {
   "cell_type": "code",
   "execution_count": 2,
   "id": "8e379f05",
   "metadata": {
    "execution": {
     "iopub.execute_input": "2024-05-18T17:43:53.660036Z",
     "iopub.status.busy": "2024-05-18T17:43:53.659451Z",
     "iopub.status.idle": "2024-05-18T17:43:53.713750Z",
     "shell.execute_reply": "2024-05-18T17:43:53.712721Z"
    },
    "papermill": {
     "duration": 0.067113,
     "end_time": "2024-05-18T17:43:53.716601",
     "exception": false,
     "start_time": "2024-05-18T17:43:53.649488",
     "status": "completed"
    },
    "tags": []
   },
   "outputs": [
    {
     "name": "stdout",
     "output_type": "stream",
     "text": [
      "<class 'pandas.core.frame.DataFrame'>\n",
      "RangeIndex: 45 entries, 0 to 44\n",
      "Data columns (total 16 columns):\n",
      " #   Column           Non-Null Count  Dtype  \n",
      "---  ------           --------------  -----  \n",
      " 0   id               45 non-null     int64  \n",
      " 1   first_name       45 non-null     object \n",
      " 2   last_name        45 non-null     object \n",
      " 3   email            45 non-null     object \n",
      " 4   role_id          45 non-null     int64  \n",
      " 5   organisation_id  44 non-null     float64\n",
      " 6   picture_name     39 non-null     object \n",
      " 7   position         44 non-null     object \n",
      " 8   gender           45 non-null     object \n",
      " 9   city             0 non-null      float64\n",
      " 10  country          0 non-null      float64\n",
      " 11  state            0 non-null      float64\n",
      " 12  created          45 non-null     int64  \n",
      " 13  phone_number     0 non-null      float64\n",
      " 14  linkedin_url     0 non-null      float64\n",
      " 15  description      0 non-null      float64\n",
      "dtypes: float64(7), int64(3), object(6)\n",
      "memory usage: 5.8+ KB\n"
     ]
    }
   ],
   "source": [
    "users_database = pd.read_csv('/kaggle/input/recommendation-system-dataset/users.tsv', sep='\\t')\n",
    "users_database.info()"
   ]
  },
  {
   "cell_type": "code",
   "execution_count": 3,
   "id": "c5a1f437",
   "metadata": {
    "execution": {
     "iopub.execute_input": "2024-05-18T17:43:53.735853Z",
     "iopub.status.busy": "2024-05-18T17:43:53.735432Z",
     "iopub.status.idle": "2024-05-18T17:43:53.754544Z",
     "shell.execute_reply": "2024-05-18T17:43:53.753258Z"
    },
    "papermill": {
     "duration": 0.032086,
     "end_time": "2024-05-18T17:43:53.757573",
     "exception": false,
     "start_time": "2024-05-18T17:43:53.725487",
     "status": "completed"
    },
    "tags": []
   },
   "outputs": [
    {
     "name": "stdout",
     "output_type": "stream",
     "text": [
      "<class 'pandas.core.frame.DataFrame'>\n",
      "RangeIndex: 45 entries, 0 to 44\n",
      "Data columns (total 10 columns):\n",
      " #   Column           Non-Null Count  Dtype  \n",
      "---  ------           --------------  -----  \n",
      " 0   id               45 non-null     int64  \n",
      " 1   first_name       45 non-null     object \n",
      " 2   last_name        45 non-null     object \n",
      " 3   email            45 non-null     object \n",
      " 4   role_id          45 non-null     int64  \n",
      " 5   organisation_id  44 non-null     float64\n",
      " 6   picture_name     39 non-null     object \n",
      " 7   position         44 non-null     object \n",
      " 8   gender           45 non-null     object \n",
      " 9   created          45 non-null     int64  \n",
      "dtypes: float64(1), int64(3), object(6)\n",
      "memory usage: 3.6+ KB\n"
     ]
    }
   ],
   "source": [
    "# Drop the ['city', 'country', 'state', 'phone_number', 'linkedin_url', 'description'] columns as it's no longer needed (Empty)\n",
    "users_database = users_database.drop(columns=['city', 'country', 'state', 'phone_number', 'linkedin_url', 'description'])\n",
    "\n",
    "users_database.info()"
   ]
  },
  {
   "cell_type": "markdown",
   "id": "7014b3e4",
   "metadata": {
    "papermill": {
     "duration": 0.008053,
     "end_time": "2024-05-18T17:43:53.774189",
     "exception": false,
     "start_time": "2024-05-18T17:43:53.766136",
     "status": "completed"
    },
    "tags": []
   },
   "source": [
    "# Clean the content dataset"
   ]
  },
  {
   "cell_type": "code",
   "execution_count": 4,
   "id": "6460dd59",
   "metadata": {
    "execution": {
     "iopub.execute_input": "2024-05-18T17:43:53.792864Z",
     "iopub.status.busy": "2024-05-18T17:43:53.792457Z",
     "iopub.status.idle": "2024-05-18T17:43:53.812081Z",
     "shell.execute_reply": "2024-05-18T17:43:53.810999Z"
    },
    "papermill": {
     "duration": 0.032568,
     "end_time": "2024-05-18T17:43:53.815091",
     "exception": false,
     "start_time": "2024-05-18T17:43:53.782523",
     "status": "completed"
    },
    "tags": []
   },
   "outputs": [
    {
     "name": "stdout",
     "output_type": "stream",
     "text": [
      "<class 'pandas.core.frame.DataFrame'>\n",
      "RangeIndex: 142 entries, 0 to 141\n",
      "Data columns (total 9 columns):\n",
      " #   Column            Non-Null Count  Dtype  \n",
      "---  ------            --------------  -----  \n",
      " 0   id                141 non-null    float64\n",
      " 1   title             142 non-null    object \n",
      " 2    description      141 non-null    object \n",
      " 3   content_type      141 non-null    object \n",
      " 4   organisation_id   1 non-null      float64\n",
      " 5   url               141 non-null    object \n",
      " 6   creator_id        7 non-null      float64\n",
      " 7   created           140 non-null    float64\n",
      " 8   publication_date  133 non-null    object \n",
      "dtypes: float64(4), object(5)\n",
      "memory usage: 10.1+ KB\n"
     ]
    }
   ],
   "source": [
    "content_database = pd.read_csv('/kaggle/input/recommendation-system-dataset/content.tsv', sep='\\t')\n",
    "content_database.info()"
   ]
  },
  {
   "cell_type": "code",
   "execution_count": 5,
   "id": "488d9256",
   "metadata": {
    "execution": {
     "iopub.execute_input": "2024-05-18T17:43:53.834983Z",
     "iopub.status.busy": "2024-05-18T17:43:53.834530Z",
     "iopub.status.idle": "2024-05-18T17:43:53.857461Z",
     "shell.execute_reply": "2024-05-18T17:43:53.856157Z"
    },
    "papermill": {
     "duration": 0.036866,
     "end_time": "2024-05-18T17:43:53.860605",
     "exception": false,
     "start_time": "2024-05-18T17:43:53.823739",
     "status": "completed"
    },
    "tags": []
   },
   "outputs": [
    {
     "name": "stdout",
     "output_type": "stream",
     "text": [
      "<class 'pandas.core.frame.DataFrame'>\n",
      "Index: 141 entries, 0 to 141\n",
      "Data columns (total 6 columns):\n",
      " #   Column            Non-Null Count  Dtype  \n",
      "---  ------            --------------  -----  \n",
      " 0   id                141 non-null    int64  \n",
      " 1   title             141 non-null    object \n",
      " 2   description       141 non-null    object \n",
      " 3   url               140 non-null    object \n",
      " 4   created           140 non-null    float64\n",
      " 5   publication_date  133 non-null    object \n",
      "dtypes: float64(1), int64(1), object(4)\n",
      "memory usage: 7.7+ KB\n"
     ]
    }
   ],
   "source": [
    "# Rename the column to remove leading whitespace (description column has leading whitespace)\n",
    "content_database = content_database.rename(columns=lambda x: x.strip())\n",
    "\n",
    "# Drop the 'organisation_id' and 'creator_id' columns as it's no longer needed (Empty)\n",
    "# 'content_type' same value for all not important\n",
    "content_database = content_database.drop(columns=['organisation_id', 'creator_id', 'content_type'])\n",
    "\n",
    "# Remove row that doesn't has id\n",
    "content_database = content_database.dropna(subset=['id'])\n",
    "\n",
    "# Convert the id type to integer instead of float\n",
    "content_database['id'] = content_database['id'].astype(int)\n",
    "\n",
    "content_database.info()"
   ]
  },
  {
   "cell_type": "code",
   "execution_count": 6,
   "id": "5702ef79",
   "metadata": {
    "execution": {
     "iopub.execute_input": "2024-05-18T17:43:53.881412Z",
     "iopub.status.busy": "2024-05-18T17:43:53.880715Z",
     "iopub.status.idle": "2024-05-18T17:43:53.905206Z",
     "shell.execute_reply": "2024-05-18T17:43:53.903987Z"
    },
    "papermill": {
     "duration": 0.037552,
     "end_time": "2024-05-18T17:43:53.907729",
     "exception": false,
     "start_time": "2024-05-18T17:43:53.870177",
     "status": "completed"
    },
    "tags": []
   },
   "outputs": [
    {
     "data": {
      "text/html": [
       "<div>\n",
       "<style scoped>\n",
       "    .dataframe tbody tr th:only-of-type {\n",
       "        vertical-align: middle;\n",
       "    }\n",
       "\n",
       "    .dataframe tbody tr th {\n",
       "        vertical-align: top;\n",
       "    }\n",
       "\n",
       "    .dataframe thead th {\n",
       "        text-align: right;\n",
       "    }\n",
       "</style>\n",
       "<table border=\"1\" class=\"dataframe\">\n",
       "  <thead>\n",
       "    <tr style=\"text-align: right;\">\n",
       "      <th></th>\n",
       "      <th>id</th>\n",
       "      <th>title</th>\n",
       "      <th>description</th>\n",
       "      <th>url</th>\n",
       "      <th>created</th>\n",
       "      <th>publication_date</th>\n",
       "    </tr>\n",
       "  </thead>\n",
       "  <tbody>\n",
       "    <tr>\n",
       "      <th>0</th>\n",
       "      <td>1</td>\n",
       "      <td>Justice Department Researcher Questions 0.3% T...</td>\n",
       "      <td>The 0.3 percent THC threshold in the federal d...</td>\n",
       "      <td>https://www.marijuanamoment.net/justice-depart...</td>\n",
       "      <td>1.714286e+09</td>\n",
       "      <td>NaN</td>\n",
       "    </tr>\n",
       "    <tr>\n",
       "      <th>1</th>\n",
       "      <td>2</td>\n",
       "      <td>Cannabis operator Canopy raising $35 million i...</td>\n",
       "      <td>Canadian cannabis company Canopy Growth Corp. ...</td>\n",
       "      <td>https://mjbizdaily.com/cannabis-operator-canop...</td>\n",
       "      <td>1.714286e+09</td>\n",
       "      <td>NaN</td>\n",
       "    </tr>\n",
       "    <tr>\n",
       "      <th>2</th>\n",
       "      <td>3</td>\n",
       "      <td>Global Cannabis Legalization: A Comprehensive ...</td>\n",
       "      <td>This article provides an overview of the evolv...</td>\n",
       "      <td>https://thecannabiswatcher.com/pages/articles/...</td>\n",
       "      <td>1.714286e+09</td>\n",
       "      <td>NaN</td>\n",
       "    </tr>\n",
       "    <tr>\n",
       "      <th>3</th>\n",
       "      <td>4</td>\n",
       "      <td>Top Biden Health Official In Touch With DEA Ab...</td>\n",
       "      <td>The U.S. Department of Health and Human Servic...</td>\n",
       "      <td>https://www.marijuanamoment.net/top-biden-heal...</td>\n",
       "      <td>1.714286e+09</td>\n",
       "      <td>NaN</td>\n",
       "    </tr>\n",
       "    <tr>\n",
       "      <th>4</th>\n",
       "      <td>5</td>\n",
       "      <td>Regulated marijuana offers new chance at equit...</td>\n",
       "      <td>Martin Luther King III, co-founder of the Drum...</td>\n",
       "      <td>https://mjbizdaily.com/marijuana-social-equity...</td>\n",
       "      <td>1.714286e+09</td>\n",
       "      <td>NaN</td>\n",
       "    </tr>\n",
       "  </tbody>\n",
       "</table>\n",
       "</div>"
      ],
      "text/plain": [
       "   id                                              title  \\\n",
       "0   1  Justice Department Researcher Questions 0.3% T...   \n",
       "1   2  Cannabis operator Canopy raising $35 million i...   \n",
       "2   3  Global Cannabis Legalization: A Comprehensive ...   \n",
       "3   4  Top Biden Health Official In Touch With DEA Ab...   \n",
       "4   5  Regulated marijuana offers new chance at equit...   \n",
       "\n",
       "                                         description  \\\n",
       "0  The 0.3 percent THC threshold in the federal d...   \n",
       "1  Canadian cannabis company Canopy Growth Corp. ...   \n",
       "2  This article provides an overview of the evolv...   \n",
       "3  The U.S. Department of Health and Human Servic...   \n",
       "4  Martin Luther King III, co-founder of the Drum...   \n",
       "\n",
       "                                                 url       created  \\\n",
       "0  https://www.marijuanamoment.net/justice-depart...  1.714286e+09   \n",
       "1  https://mjbizdaily.com/cannabis-operator-canop...  1.714286e+09   \n",
       "2  https://thecannabiswatcher.com/pages/articles/...  1.714286e+09   \n",
       "3  https://www.marijuanamoment.net/top-biden-heal...  1.714286e+09   \n",
       "4  https://mjbizdaily.com/marijuana-social-equity...  1.714286e+09   \n",
       "\n",
       "  publication_date  \n",
       "0              NaN  \n",
       "1              NaN  \n",
       "2              NaN  \n",
       "3              NaN  \n",
       "4              NaN  "
      ]
     },
     "execution_count": 6,
     "metadata": {},
     "output_type": "execute_result"
    }
   ],
   "source": [
    "content_database.head()"
   ]
  },
  {
   "cell_type": "markdown",
   "id": "213cb2a7",
   "metadata": {
    "papermill": {
     "duration": 0.009708,
     "end_time": "2024-05-18T17:43:53.926411",
     "exception": false,
     "start_time": "2024-05-18T17:43:53.916703",
     "status": "completed"
    },
    "tags": []
   },
   "source": [
    "# Recommendation System Preprocessing"
   ]
  },
  {
   "cell_type": "code",
   "execution_count": 7,
   "id": "f3633188",
   "metadata": {
    "execution": {
     "iopub.execute_input": "2024-05-18T17:43:53.946469Z",
     "iopub.status.busy": "2024-05-18T17:43:53.946050Z",
     "iopub.status.idle": "2024-05-18T17:43:53.964065Z",
     "shell.execute_reply": "2024-05-18T17:43:53.962810Z"
    },
    "papermill": {
     "duration": 0.031441,
     "end_time": "2024-05-18T17:43:53.966852",
     "exception": false,
     "start_time": "2024-05-18T17:43:53.935411",
     "status": "completed"
    },
    "tags": []
   },
   "outputs": [],
   "source": [
    "# Read the recommendations file\n",
    "recommendations_file_path = '/kaggle/input/recommendation-system-dataset/recommendations.tsv'\n",
    "df = pd.read_csv(recommendations_file_path, sep='\\t')"
   ]
  },
  {
   "cell_type": "code",
   "execution_count": 8,
   "id": "9b35f102",
   "metadata": {
    "execution": {
     "iopub.execute_input": "2024-05-18T17:43:53.986916Z",
     "iopub.status.busy": "2024-05-18T17:43:53.986498Z",
     "iopub.status.idle": "2024-05-18T17:43:53.999649Z",
     "shell.execute_reply": "2024-05-18T17:43:53.998471Z"
    },
    "papermill": {
     "duration": 0.026718,
     "end_time": "2024-05-18T17:43:54.002767",
     "exception": false,
     "start_time": "2024-05-18T17:43:53.976049",
     "status": "completed"
    },
    "tags": []
   },
   "outputs": [
    {
     "name": "stdout",
     "output_type": "stream",
     "text": [
      "<class 'pandas.core.frame.DataFrame'>\n",
      "RangeIndex: 658 entries, 0 to 657\n",
      "Data columns (total 14 columns):\n",
      " #   Column           Non-Null Count  Dtype  \n",
      "---  ------           --------------  -----  \n",
      " 0   id               658 non-null    int64  \n",
      " 1   title            658 non-null    object \n",
      " 2   asset_type       658 non-null    object \n",
      " 3   asset_id         658 non-null    int64  \n",
      " 4   organisation_id  658 non-null    int64  \n",
      " 5   user_id          658 non-null    int64  \n",
      " 6   creator_id       658 non-null    int64  \n",
      " 7   system_score     658 non-null    float64\n",
      " 8   user_score       0 non-null      float64\n",
      " 9   created          658 non-null    int64  \n",
      " 10  opened           625 non-null    float64\n",
      " 11  deleted          403 non-null    float64\n",
      " 12  saved            338 non-null    float64\n",
      " 13  clicked_out      414 non-null    float64\n",
      "dtypes: float64(6), int64(6), object(2)\n",
      "memory usage: 72.1+ KB\n"
     ]
    }
   ],
   "source": [
    "df.info()"
   ]
  },
  {
   "cell_type": "markdown",
   "id": "817e8de6",
   "metadata": {
    "papermill": {
     "duration": 0.00917,
     "end_time": "2024-05-18T17:43:54.022126",
     "exception": false,
     "start_time": "2024-05-18T17:43:54.012956",
     "status": "completed"
    },
    "tags": []
   },
   "source": [
    "\n",
    "### Required Columns for Collaborative Filtering Recommendation System\n",
    "\n",
    "To implement a collaborative filtering recommendation system, the following columns are necessary:\n",
    "\n",
    "1. `user_id`\n",
    "2. `content_id`\n",
    "3. `system_score`\n",
    "\n"
   ]
  },
  {
   "cell_type": "code",
   "execution_count": 9,
   "id": "0f6f5ef9",
   "metadata": {
    "execution": {
     "iopub.execute_input": "2024-05-18T17:43:54.042118Z",
     "iopub.status.busy": "2024-05-18T17:43:54.041711Z",
     "iopub.status.idle": "2024-05-18T17:43:54.059764Z",
     "shell.execute_reply": "2024-05-18T17:43:54.058340Z"
    },
    "papermill": {
     "duration": 0.031318,
     "end_time": "2024-05-18T17:43:54.062642",
     "exception": false,
     "start_time": "2024-05-18T17:43:54.031324",
     "status": "completed"
    },
    "tags": []
   },
   "outputs": [
    {
     "name": "stdout",
     "output_type": "stream",
     "text": [
      "Content Statistics:\n",
      "Mean: 0.308 Median: 0.3 Number of samples: 218\n"
     ]
    }
   ],
   "source": [
    "# Assuming df is your DataFrame after loading your data\n",
    "# Filter the required columns\n",
    "filtered_df = df[['asset_type', 'asset_id', 'user_id', 'system_score']]\n",
    "\n",
    "# Divide the dataset based on 'asset_type'\n",
    "content_df = filtered_df[filtered_df['asset_type'] == 'content']\n",
    "\n",
    "# Drop the 'asset_type' column as it's no longer needed\n",
    "content_df = content_df.drop(columns=['asset_type'])\n",
    "\n",
    "# Perform basic statistics for each group\n",
    "content_stats = content_df['system_score'].describe()\n",
    "\n",
    "\n",
    "# Additional analysis if needed (mean, median, count)\n",
    "content_mean = round(content_df['system_score'].mean(), 3)\n",
    "content_median = content_df['system_score'].median()\n",
    "content_count = content_df['system_score'].count()\n",
    "\n",
    "\n",
    "print(\"Content Statistics:\")\n",
    "print(\"Mean:\", content_mean, \"Median:\", content_median, \"Number of samples:\", content_count)\n",
    "\n"
   ]
  },
  {
   "cell_type": "markdown",
   "id": "80104575",
   "metadata": {
    "papermill": {
     "duration": 0.009463,
     "end_time": "2024-05-18T17:43:54.081383",
     "exception": false,
     "start_time": "2024-05-18T17:43:54.071920",
     "status": "completed"
    },
    "tags": []
   },
   "source": [
    "# Content Recommendation System Matrix"
   ]
  },
  {
   "cell_type": "code",
   "execution_count": 10,
   "id": "de65b034",
   "metadata": {
    "execution": {
     "iopub.execute_input": "2024-05-18T17:43:54.102449Z",
     "iopub.status.busy": "2024-05-18T17:43:54.102013Z",
     "iopub.status.idle": "2024-05-18T17:43:54.183891Z",
     "shell.execute_reply": "2024-05-18T17:43:54.182642Z"
    },
    "papermill": {
     "duration": 0.095697,
     "end_time": "2024-05-18T17:43:54.186801",
     "exception": false,
     "start_time": "2024-05-18T17:43:54.091104",
     "status": "completed"
    },
    "tags": []
   },
   "outputs": [
    {
     "name": "stdout",
     "output_type": "stream",
     "text": [
      "<class 'pandas.core.frame.DataFrame'>\n",
      "RangeIndex: 6345 entries, 0 to 6344\n",
      "Data columns (total 3 columns):\n",
      " #   Column        Non-Null Count  Dtype  \n",
      "---  ------        --------------  -----  \n",
      " 0   user_id       6345 non-null   int64  \n",
      " 1   content_id    6345 non-null   int64  \n",
      " 2   system_score  218 non-null    float64\n",
      "dtypes: float64(1), int64(2)\n",
      "memory usage: 148.8 KB\n"
     ]
    }
   ],
   "source": [
    "# Extract unique IDs\n",
    "unique_user_ids = users_database['id'].unique()\n",
    "unique_content_ids = content_database['id'].unique()\n",
    "\n",
    "\n",
    "# Create all combinations of user_id and content_id\n",
    "all_combinations = pd.DataFrame(product(unique_user_ids, unique_content_ids), columns=['user_id', 'content_id'])\n",
    "\n",
    "# Merge all_combinations with content_df on the appropriate columns\n",
    "# Since 'content_id' in all_combinations corresponds to 'asset_id' in content_df\n",
    "merged_df = all_combinations.merge(content_df[['user_id', 'asset_id', 'system_score']], \n",
    "                                   left_on=['user_id', 'content_id'], \n",
    "                                   right_on=['user_id', 'asset_id'], \n",
    "                                   how='left')\n",
    "\n",
    "# Drop the 'asset_id' column as it is redundant with 'content_id'\n",
    "merged_df.drop(columns=['asset_id'], inplace=True)\n",
    "\n",
    "\n",
    "merged_df.info()"
   ]
  },
  {
   "cell_type": "markdown",
   "id": "b750001c",
   "metadata": {
    "papermill": {
     "duration": 0.009154,
     "end_time": "2024-05-18T17:43:54.205508",
     "exception": false,
     "start_time": "2024-05-18T17:43:54.196354",
     "status": "completed"
    },
    "tags": []
   },
   "source": [
    "## Evaluating sparsity\n",
    "Here, we calculate sparsity by dividing the number of stored elements by total number of elements. The number of stored (non-empty) elements in our matrix (nnz) is equivalent to the number of ratings in our dataset.\n",
    "- If sparsity more than 0.1 then you can make the recommendation system \n",
    "- Every user must have rated at least one piece of content rated\n",
    "- Every piece of content must have been rated by at least one user"
   ]
  },
  {
   "cell_type": "code",
   "execution_count": 11,
   "id": "44ccd36d",
   "metadata": {
    "execution": {
     "iopub.execute_input": "2024-05-18T17:43:54.226811Z",
     "iopub.status.busy": "2024-05-18T17:43:54.226390Z",
     "iopub.status.idle": "2024-05-18T17:43:54.233688Z",
     "shell.execute_reply": "2024-05-18T17:43:54.232285Z"
    },
    "papermill": {
     "duration": 0.021751,
     "end_time": "2024-05-18T17:43:54.237390",
     "exception": false,
     "start_time": "2024-05-18T17:43:54.215639",
     "status": "completed"
    },
    "tags": []
   },
   "outputs": [
    {
     "name": "stdout",
     "output_type": "stream",
     "text": [
      "Matrix sparsity: 3.44%\n"
     ]
    }
   ],
   "source": [
    "n_total = len(merged_df)\n",
    "n_ratings = merged_df['system_score'].notna().sum()\n",
    "sparsity = n_ratings/n_total\n",
    "print(f\"Matrix sparsity: {round(sparsity*100,2)}%\")"
   ]
  },
  {
   "cell_type": "code",
   "execution_count": 12,
   "id": "b290bc1a",
   "metadata": {
    "execution": {
     "iopub.execute_input": "2024-05-18T17:43:54.258229Z",
     "iopub.status.busy": "2024-05-18T17:43:54.257745Z",
     "iopub.status.idle": "2024-05-18T17:43:54.266516Z",
     "shell.execute_reply": "2024-05-18T17:43:54.265269Z"
    },
    "papermill": {
     "duration": 0.022338,
     "end_time": "2024-05-18T17:43:54.269087",
     "exception": false,
     "start_time": "2024-05-18T17:43:54.246749",
     "status": "completed"
    },
    "tags": []
   },
   "outputs": [
    {
     "name": "stdout",
     "output_type": "stream",
     "text": [
      "Minimum number of ratings by any user: 0\n"
     ]
    }
   ],
   "source": [
    "# Group by user_id and count non-null system scores for each user\n",
    "user_ratings_count = merged_df.groupby('user_id')['system_score'].count()\n",
    "\n",
    "# Get the minimum number of ratings among all users\n",
    "min_ratings = user_ratings_count.min()\n",
    "\n",
    "print(\"Minimum number of ratings by any user:\", min_ratings)\n"
   ]
  },
  {
   "cell_type": "code",
   "execution_count": 13,
   "id": "c63a258e",
   "metadata": {
    "execution": {
     "iopub.execute_input": "2024-05-18T17:43:54.290687Z",
     "iopub.status.busy": "2024-05-18T17:43:54.290134Z",
     "iopub.status.idle": "2024-05-18T17:43:54.298915Z",
     "shell.execute_reply": "2024-05-18T17:43:54.297699Z"
    },
    "papermill": {
     "duration": 0.022574,
     "end_time": "2024-05-18T17:43:54.301694",
     "exception": false,
     "start_time": "2024-05-18T17:43:54.279120",
     "status": "completed"
    },
    "tags": []
   },
   "outputs": [
    {
     "name": "stdout",
     "output_type": "stream",
     "text": [
      "Minimum number of ratings by any content: 0\n"
     ]
    }
   ],
   "source": [
    "# Group by content_id and count non-null system scores for each content\n",
    "content_ratings_count = merged_df.groupby('content_id')['system_score'].count()\n",
    "\n",
    "# Get the minimum number of ratings among all contents\n",
    "min_ratings = content_ratings_count.min()\n",
    "\n",
    "print(\"Minimum number of ratings by any content:\", min_ratings)\n"
   ]
  },
  {
   "cell_type": "markdown",
   "id": "db5e5685",
   "metadata": {
    "papermill": {
     "duration": 0.009244,
     "end_time": "2024-05-18T17:43:54.320632",
     "exception": false,
     "start_time": "2024-05-18T17:43:54.311388",
     "status": "completed"
    },
    "tags": []
   },
   "source": [
    "## Building the Recommendation System"
   ]
  },
  {
   "cell_type": "code",
   "execution_count": 14,
   "id": "58f30be2",
   "metadata": {
    "execution": {
     "iopub.execute_input": "2024-05-18T17:43:54.342385Z",
     "iopub.status.busy": "2024-05-18T17:43:54.341926Z",
     "iopub.status.idle": "2024-05-18T17:43:54.374453Z",
     "shell.execute_reply": "2024-05-18T17:43:54.373269Z"
    },
    "papermill": {
     "duration": 0.046631,
     "end_time": "2024-05-18T17:43:54.377549",
     "exception": false,
     "start_time": "2024-05-18T17:43:54.330918",
     "status": "completed"
    },
    "tags": []
   },
   "outputs": [],
   "source": [
    "# Fill missing values with 0 (can change based on strategy)\n",
    "# it just will take the users and contents that has at least one rated value\n",
    "utility_matrix = merged_df.pivot_table(index='user_id', columns='content_id', values='system_score', fill_value=0)\n",
    "\n",
    "# Convert to sparse matrix for efficient calculations\n",
    "sparse_matrix = csr_matrix(utility_matrix.values)\n",
    "\n",
    "# Compute cosine similarity between users\n",
    "user_similarity = cosine_similarity(sparse_matrix)\n",
    "\n",
    "# Compute cosine similarity between items\n",
    "item_similarity = cosine_similarity(sparse_matrix.T)\n"
   ]
  },
  {
   "cell_type": "code",
   "execution_count": 15,
   "id": "39d15686",
   "metadata": {
    "execution": {
     "iopub.execute_input": "2024-05-18T17:43:54.399024Z",
     "iopub.status.busy": "2024-05-18T17:43:54.398623Z",
     "iopub.status.idle": "2024-05-18T17:43:54.412394Z",
     "shell.execute_reply": "2024-05-18T17:43:54.410916Z"
    },
    "papermill": {
     "duration": 0.028415,
     "end_time": "2024-05-18T17:43:54.415739",
     "exception": false,
     "start_time": "2024-05-18T17:43:54.387324",
     "status": "completed"
    },
    "tags": []
   },
   "outputs": [
    {
     "name": "stdout",
     "output_type": "stream",
     "text": [
      "Top 5 content recommendations for user: [21, 131, 127, 124, 123]\n"
     ]
    }
   ],
   "source": [
    "def recommend_content_for_user(user_id, top_n=5):\n",
    "    if user_id not in utility_matrix.index:\n",
    "        raise Exception(\"User ID not found in the dataset\")\n",
    "    \n",
    "    user_index = utility_matrix.index.tolist().index(user_id)\n",
    "    similar_scores = user_similarity[user_index]\n",
    "    similar_users = np.argsort(-similar_scores)\n",
    "    \n",
    "    # Get the content items already rated by the user\n",
    "    rated_content = set(utility_matrix.loc[user_id][utility_matrix.loc[user_id] > 0].index)\n",
    "    \n",
    "    recommended_content = {}\n",
    "    for i in similar_users:\n",
    "        for content_id in utility_matrix.columns[np.argsort(-utility_matrix.iloc[i].values)]:\n",
    "            if content_id not in rated_content and content_id not in recommended_content:\n",
    "                recommended_content[content_id] = utility_matrix.iloc[i][content_id]\n",
    "            if len(recommended_content) == top_n:\n",
    "                return list(recommended_content.keys())\n",
    "    return list(recommended_content.keys())\n",
    "\n",
    "# Example usage:\n",
    "user_recommendations = recommend_content_for_user(user_id=96)\n",
    "print(\"Top 5 content recommendations for user:\", user_recommendations)\n"
   ]
  },
  {
   "cell_type": "code",
   "execution_count": 16,
   "id": "058e1a92",
   "metadata": {
    "execution": {
     "iopub.execute_input": "2024-05-18T17:43:54.437453Z",
     "iopub.status.busy": "2024-05-18T17:43:54.437023Z",
     "iopub.status.idle": "2024-05-18T17:43:54.446614Z",
     "shell.execute_reply": "2024-05-18T17:43:54.445287Z"
    },
    "papermill": {
     "duration": 0.023653,
     "end_time": "2024-05-18T17:43:54.449328",
     "exception": false,
     "start_time": "2024-05-18T17:43:54.425675",
     "status": "completed"
    },
    "tags": []
   },
   "outputs": [
    {
     "name": "stdout",
     "output_type": "stream",
     "text": [
      "Top 5 content recommendations for content: [70, 76, 137, 82, 124]\n"
     ]
    }
   ],
   "source": [
    "def recommend_similar_content(content_id, top_n=5):\n",
    "    if content_id not in utility_matrix.columns:\n",
    "        raise Exception(\"Content ID not found in the dataset\")\n",
    "    \n",
    "    content_index = utility_matrix.columns.tolist().index(content_id)\n",
    "    similar_scores = item_similarity[content_index]\n",
    "    similar_content_indices = np.argsort(-similar_scores)[1:top_n+1]  # Exclude the content itself\n",
    "    \n",
    "    similar_content_ids = utility_matrix.columns[similar_content_indices]\n",
    "    return list(similar_content_ids)\n",
    "\n",
    "# Example usage:\n",
    "content_id = 86\n",
    "content_recommendations = recommend_similar_content(content_id=content_id)\n",
    "print(\"Top 5 content recommendations for content:\", content_recommendations)\n"
   ]
  },
  {
   "cell_type": "code",
   "execution_count": 17,
   "id": "bc77e459",
   "metadata": {
    "execution": {
     "iopub.execute_input": "2024-05-18T17:43:54.471019Z",
     "iopub.status.busy": "2024-05-18T17:43:54.470610Z",
     "iopub.status.idle": "2024-05-18T17:43:54.485992Z",
     "shell.execute_reply": "2024-05-18T17:43:54.484434Z"
    },
    "papermill": {
     "duration": 0.029827,
     "end_time": "2024-05-18T17:43:54.489124",
     "exception": false,
     "start_time": "2024-05-18T17:43:54.459297",
     "status": "completed"
    },
    "tags": []
   },
   "outputs": [
    {
     "name": "stdout",
     "output_type": "stream",
     "text": [
      "Details for content_id 86:\n",
      "Title: Jushi looks to boost efficiency as it awaits new adult-use cannabis markets\n",
      "Description: Multistate operator Jushi Holdings is trying to improve its efficiency and margins as it hopes for new adult-use cannabis markets in 2024.\n",
      "\n",
      "\n",
      "Details for other similar contents\n",
      "#####\n",
      "Id: 70\n",
      "Title: Canadian cannabis producer Organigram enters US, plans CA$25 million raise\n",
      "Description: Organigram Holdings has dipped into its strategic investment pool to pick up a minority stake in Roxboro, North Carolina-based Open Book Extracts as part of its plan to target emerging cannabis markets in the United States and elsewhere.\n",
      "\n",
      "#####\n",
      "Id: 76\n",
      "Title: 280E, new markets and wholesale revenue highlight cannabis earnings season\n",
      "Description: Tax strategies took the spotlight in fourth-quarter financial reports from publicly traded U.S. cannabis companies.\n",
      "\n",
      "#####\n",
      "Id: 82\n",
      "Title: How R&D cannabis lines help cultivators conduct market research\n",
      "Description: R&D cannabis lines  or limited-edition, small-batch flower  can create a line of communication between cultivators and consumers, enabling marijuana operators to conduct market research while still bringing in revenue.\n",
      "\n",
      "#####\n",
      "Id: 124\n",
      "Title: Opinion: What to consider when buying a Florida medical cannabis business license\n",
      "Description: When Florida legalizes adult use, medical cannabis business licenses likely will become valuable, but prospective buyers should perform significant diligence before committing.\n",
      "\n",
      "#####\n",
      "Id: 137\n",
      "Title: Largest cannabis MSOs lay out modest expansion plans for 2024\n",
      "Description: Several of the nations largest cannabis companies have already mapped out their retail expansion plans in 2024, a consequence of licensing caps, limited new market opportunities and ongoing capital concerns.\n",
      "\n"
     ]
    }
   ],
   "source": [
    "# Get details for the specific content_id\n",
    "content_details = content_database[content_database['id'] == content_id][['id', 'title', 'description']].iloc[0]\n",
    "    \n",
    "# Get details for the other content IDs in the provided list\n",
    "other_content_details = content_database[content_database['id'].isin(content_recommendations)][['id', 'title', 'description']]\n",
    "\n",
    "\n",
    "print(f\"Details for content_id {content_id}:\")\n",
    "print(f\"Title: {content_details['title']}\")\n",
    "print(f\"Description: {content_details['description']}\\n\")\n",
    "\n",
    "\n",
    "print(\"\\nDetails for other similar contents\")\n",
    "\n",
    "for _, content in other_content_details.iterrows():\n",
    "    print('#####')\n",
    "    print(f\"Id: {content['id']}\")\n",
    "    print(f\"Title: {content['title']}\")\n",
    "    print(f\"Description: {content['description']}\\n\")\n",
    "    \n",
    "    "
   ]
  }
 ],
 "metadata": {
  "kaggle": {
   "accelerator": "none",
   "dataSources": [
    {
     "datasetId": 5035196,
     "sourceId": 8449491,
     "sourceType": "datasetVersion"
    }
   ],
   "dockerImageVersionId": 30698,
   "isGpuEnabled": false,
   "isInternetEnabled": true,
   "language": "python",
   "sourceType": "notebook"
  },
  "kernelspec": {
   "display_name": "Python 3",
   "language": "python",
   "name": "python3"
  },
  "language_info": {
   "codemirror_mode": {
    "name": "ipython",
    "version": 3
   },
   "file_extension": ".py",
   "mimetype": "text/x-python",
   "name": "python",
   "nbconvert_exporter": "python",
   "pygments_lexer": "ipython3",
   "version": "3.10.13"
  },
  "papermill": {
   "default_parameters": {},
   "duration": 7.511284,
   "end_time": "2024-05-18T17:43:55.121836",
   "environment_variables": {},
   "exception": null,
   "input_path": "__notebook__.ipynb",
   "output_path": "__notebook__.ipynb",
   "parameters": {},
   "start_time": "2024-05-18T17:43:47.610552",
   "version": "2.5.0"
  }
 },
 "nbformat": 4,
 "nbformat_minor": 5
}
