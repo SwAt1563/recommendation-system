{
 "cells": [
  {
   "cell_type": "markdown",
   "id": "0e9be718",
   "metadata": {
    "papermill": {
     "duration": 0.009937,
     "end_time": "2024-05-18T15:59:11.998239",
     "exception": false,
     "start_time": "2024-05-18T15:59:11.988302",
     "status": "completed"
    },
    "tags": []
   },
   "source": [
    "# Load the libraries "
   ]
  },
  {
   "cell_type": "code",
   "execution_count": 1,
   "id": "6bf875a7",
   "metadata": {
    "_cell_guid": "b1076dfc-b9ad-4769-8c92-a6c4dae69d19",
    "_uuid": "8f2839f25d086af736a60e9eeb907d3b93b6e0e5",
    "execution": {
     "iopub.execute_input": "2024-05-18T15:59:12.019402Z",
     "iopub.status.busy": "2024-05-18T15:59:12.018473Z",
     "iopub.status.idle": "2024-05-18T15:59:14.453140Z",
     "shell.execute_reply": "2024-05-18T15:59:14.451920Z"
    },
    "papermill": {
     "duration": 2.448577,
     "end_time": "2024-05-18T15:59:14.456251",
     "exception": false,
     "start_time": "2024-05-18T15:59:12.007674",
     "status": "completed"
    },
    "tags": []
   },
   "outputs": [],
   "source": [
    "import numpy as np \n",
    "import pandas as pd \n",
    "from itertools import product\n",
    "from sklearn.metrics.pairwise import cosine_similarity\n",
    "from scipy.sparse import csr_matrix"
   ]
  },
  {
   "cell_type": "markdown",
   "id": "2e34e0f5",
   "metadata": {
    "papermill": {
     "duration": 0.009475,
     "end_time": "2024-05-18T15:59:14.475195",
     "exception": false,
     "start_time": "2024-05-18T15:59:14.465720",
     "status": "completed"
    },
    "tags": []
   },
   "source": [
    "# Clean the users data"
   ]
  },
  {
   "cell_type": "code",
   "execution_count": 2,
   "id": "d17dbd03",
   "metadata": {
    "execution": {
     "iopub.execute_input": "2024-05-18T15:59:14.496437Z",
     "iopub.status.busy": "2024-05-18T15:59:14.495888Z",
     "iopub.status.idle": "2024-05-18T15:59:14.553617Z",
     "shell.execute_reply": "2024-05-18T15:59:14.552726Z"
    },
    "papermill": {
     "duration": 0.071355,
     "end_time": "2024-05-18T15:59:14.556196",
     "exception": false,
     "start_time": "2024-05-18T15:59:14.484841",
     "status": "completed"
    },
    "tags": []
   },
   "outputs": [
    {
     "name": "stdout",
     "output_type": "stream",
     "text": [
      "<class 'pandas.core.frame.DataFrame'>\n",
      "RangeIndex: 45 entries, 0 to 44\n",
      "Data columns (total 16 columns):\n",
      " #   Column           Non-Null Count  Dtype  \n",
      "---  ------           --------------  -----  \n",
      " 0   id               45 non-null     int64  \n",
      " 1   first_name       45 non-null     object \n",
      " 2   last_name        45 non-null     object \n",
      " 3   email            45 non-null     object \n",
      " 4   role_id          45 non-null     int64  \n",
      " 5   organisation_id  44 non-null     float64\n",
      " 6   picture_name     39 non-null     object \n",
      " 7   position         44 non-null     object \n",
      " 8   gender           45 non-null     object \n",
      " 9   city             0 non-null      float64\n",
      " 10  country          0 non-null      float64\n",
      " 11  state            0 non-null      float64\n",
      " 12  created          45 non-null     int64  \n",
      " 13  phone_number     0 non-null      float64\n",
      " 14  linkedin_url     0 non-null      float64\n",
      " 15  description      0 non-null      float64\n",
      "dtypes: float64(7), int64(3), object(6)\n",
      "memory usage: 5.8+ KB\n"
     ]
    }
   ],
   "source": [
    "users_database = pd.read_csv('/kaggle/input/recommendation-system-dataset/users.tsv', sep='\\t')\n",
    "users_database.info()"
   ]
  },
  {
   "cell_type": "code",
   "execution_count": 3,
   "id": "a63a0455",
   "metadata": {
    "execution": {
     "iopub.execute_input": "2024-05-18T15:59:14.577241Z",
     "iopub.status.busy": "2024-05-18T15:59:14.576485Z",
     "iopub.status.idle": "2024-05-18T15:59:14.592076Z",
     "shell.execute_reply": "2024-05-18T15:59:14.590831Z"
    },
    "papermill": {
     "duration": 0.029019,
     "end_time": "2024-05-18T15:59:14.594755",
     "exception": false,
     "start_time": "2024-05-18T15:59:14.565736",
     "status": "completed"
    },
    "tags": []
   },
   "outputs": [
    {
     "name": "stdout",
     "output_type": "stream",
     "text": [
      "<class 'pandas.core.frame.DataFrame'>\n",
      "RangeIndex: 45 entries, 0 to 44\n",
      "Data columns (total 10 columns):\n",
      " #   Column           Non-Null Count  Dtype  \n",
      "---  ------           --------------  -----  \n",
      " 0   id               45 non-null     int64  \n",
      " 1   first_name       45 non-null     object \n",
      " 2   last_name        45 non-null     object \n",
      " 3   email            45 non-null     object \n",
      " 4   role_id          45 non-null     int64  \n",
      " 5   organisation_id  44 non-null     float64\n",
      " 6   picture_name     39 non-null     object \n",
      " 7   position         44 non-null     object \n",
      " 8   gender           45 non-null     object \n",
      " 9   created          45 non-null     int64  \n",
      "dtypes: float64(1), int64(3), object(6)\n",
      "memory usage: 3.6+ KB\n"
     ]
    }
   ],
   "source": [
    "# Drop the ['city', 'country', 'state', 'phone_number', 'linkedin_url', 'description'] columns as it's no longer needed (Empty)\n",
    "users_database = users_database.drop(columns=['city', 'country', 'state', 'phone_number', 'linkedin_url', 'description'])\n",
    "\n",
    "users_database.info()"
   ]
  },
  {
   "cell_type": "markdown",
   "id": "3ece89ca",
   "metadata": {
    "papermill": {
     "duration": 0.009203,
     "end_time": "2024-05-18T15:59:14.614655",
     "exception": false,
     "start_time": "2024-05-18T15:59:14.605452",
     "status": "completed"
    },
    "tags": []
   },
   "source": [
    "# Clean the content data"
   ]
  },
  {
   "cell_type": "code",
   "execution_count": 4,
   "id": "f1dea1d4",
   "metadata": {
    "execution": {
     "iopub.execute_input": "2024-05-18T15:59:14.635372Z",
     "iopub.status.busy": "2024-05-18T15:59:14.634964Z",
     "iopub.status.idle": "2024-05-18T15:59:14.654788Z",
     "shell.execute_reply": "2024-05-18T15:59:14.653621Z"
    },
    "papermill": {
     "duration": 0.033315,
     "end_time": "2024-05-18T15:59:14.657397",
     "exception": false,
     "start_time": "2024-05-18T15:59:14.624082",
     "status": "completed"
    },
    "tags": []
   },
   "outputs": [
    {
     "name": "stdout",
     "output_type": "stream",
     "text": [
      "<class 'pandas.core.frame.DataFrame'>\n",
      "RangeIndex: 142 entries, 0 to 141\n",
      "Data columns (total 9 columns):\n",
      " #   Column            Non-Null Count  Dtype  \n",
      "---  ------            --------------  -----  \n",
      " 0   id                141 non-null    float64\n",
      " 1   title             142 non-null    object \n",
      " 2    description      141 non-null    object \n",
      " 3   content_type      141 non-null    object \n",
      " 4   organisation_id   1 non-null      float64\n",
      " 5   url               141 non-null    object \n",
      " 6   creator_id        7 non-null      float64\n",
      " 7   created           140 non-null    float64\n",
      " 8   publication_date  133 non-null    object \n",
      "dtypes: float64(4), object(5)\n",
      "memory usage: 10.1+ KB\n"
     ]
    }
   ],
   "source": [
    "content_database = pd.read_csv('/kaggle/input/recommendation-system-dataset/content.tsv', sep='\\t')\n",
    "content_database.info()"
   ]
  },
  {
   "cell_type": "code",
   "execution_count": 5,
   "id": "09065f79",
   "metadata": {
    "execution": {
     "iopub.execute_input": "2024-05-18T15:59:14.679761Z",
     "iopub.status.busy": "2024-05-18T15:59:14.678958Z",
     "iopub.status.idle": "2024-05-18T15:59:14.697925Z",
     "shell.execute_reply": "2024-05-18T15:59:14.696600Z"
    },
    "papermill": {
     "duration": 0.032616,
     "end_time": "2024-05-18T15:59:14.700679",
     "exception": false,
     "start_time": "2024-05-18T15:59:14.668063",
     "status": "completed"
    },
    "tags": []
   },
   "outputs": [
    {
     "name": "stdout",
     "output_type": "stream",
     "text": [
      "<class 'pandas.core.frame.DataFrame'>\n",
      "Index: 141 entries, 0 to 141\n",
      "Data columns (total 6 columns):\n",
      " #   Column            Non-Null Count  Dtype  \n",
      "---  ------            --------------  -----  \n",
      " 0   id                141 non-null    int64  \n",
      " 1   title             141 non-null    object \n",
      " 2   description       141 non-null    object \n",
      " 3   url               140 non-null    object \n",
      " 4   created           140 non-null    float64\n",
      " 5   publication_date  133 non-null    object \n",
      "dtypes: float64(1), int64(1), object(4)\n",
      "memory usage: 7.7+ KB\n"
     ]
    }
   ],
   "source": [
    "# Rename the column to remove leading whitespace (description column has leading whitespace)\n",
    "content_database = content_database.rename(columns=lambda x: x.strip())\n",
    "\n",
    "# Drop the 'organisation_id' and 'creator_id' columns as it's no longer needed (Empty)\n",
    "# 'content_type' same value for all not important\n",
    "content_database = content_database.drop(columns=['organisation_id', 'creator_id', 'content_type'])\n",
    "\n",
    "# Remove row that doesn't has id\n",
    "content_database = content_database.dropna(subset=['id'])\n",
    "\n",
    "# Convert the id type to integer\n",
    "content_database['id'] = content_database['id'].astype(int)\n",
    "\n",
    "content_database.info()"
   ]
  },
  {
   "cell_type": "code",
   "execution_count": 6,
   "id": "0a438f70",
   "metadata": {
    "execution": {
     "iopub.execute_input": "2024-05-18T15:59:14.722570Z",
     "iopub.status.busy": "2024-05-18T15:59:14.721357Z",
     "iopub.status.idle": "2024-05-18T15:59:14.744202Z",
     "shell.execute_reply": "2024-05-18T15:59:14.743319Z"
    },
    "papermill": {
     "duration": 0.036006,
     "end_time": "2024-05-18T15:59:14.746425",
     "exception": false,
     "start_time": "2024-05-18T15:59:14.710419",
     "status": "completed"
    },
    "tags": []
   },
   "outputs": [
    {
     "data": {
      "text/html": [
       "<div>\n",
       "<style scoped>\n",
       "    .dataframe tbody tr th:only-of-type {\n",
       "        vertical-align: middle;\n",
       "    }\n",
       "\n",
       "    .dataframe tbody tr th {\n",
       "        vertical-align: top;\n",
       "    }\n",
       "\n",
       "    .dataframe thead th {\n",
       "        text-align: right;\n",
       "    }\n",
       "</style>\n",
       "<table border=\"1\" class=\"dataframe\">\n",
       "  <thead>\n",
       "    <tr style=\"text-align: right;\">\n",
       "      <th></th>\n",
       "      <th>id</th>\n",
       "      <th>title</th>\n",
       "      <th>description</th>\n",
       "      <th>url</th>\n",
       "      <th>created</th>\n",
       "      <th>publication_date</th>\n",
       "    </tr>\n",
       "  </thead>\n",
       "  <tbody>\n",
       "    <tr>\n",
       "      <th>0</th>\n",
       "      <td>1</td>\n",
       "      <td>Justice Department Researcher Questions 0.3% T...</td>\n",
       "      <td>The 0.3 percent THC threshold in the federal d...</td>\n",
       "      <td>https://www.marijuanamoment.net/justice-depart...</td>\n",
       "      <td>1.714286e+09</td>\n",
       "      <td>NaN</td>\n",
       "    </tr>\n",
       "    <tr>\n",
       "      <th>1</th>\n",
       "      <td>2</td>\n",
       "      <td>Cannabis operator Canopy raising $35 million i...</td>\n",
       "      <td>Canadian cannabis company Canopy Growth Corp. ...</td>\n",
       "      <td>https://mjbizdaily.com/cannabis-operator-canop...</td>\n",
       "      <td>1.714286e+09</td>\n",
       "      <td>NaN</td>\n",
       "    </tr>\n",
       "    <tr>\n",
       "      <th>2</th>\n",
       "      <td>3</td>\n",
       "      <td>Global Cannabis Legalization: A Comprehensive ...</td>\n",
       "      <td>This article provides an overview of the evolv...</td>\n",
       "      <td>https://thecannabiswatcher.com/pages/articles/...</td>\n",
       "      <td>1.714286e+09</td>\n",
       "      <td>NaN</td>\n",
       "    </tr>\n",
       "    <tr>\n",
       "      <th>3</th>\n",
       "      <td>4</td>\n",
       "      <td>Top Biden Health Official In Touch With DEA Ab...</td>\n",
       "      <td>The U.S. Department of Health and Human Servic...</td>\n",
       "      <td>https://www.marijuanamoment.net/top-biden-heal...</td>\n",
       "      <td>1.714286e+09</td>\n",
       "      <td>NaN</td>\n",
       "    </tr>\n",
       "    <tr>\n",
       "      <th>4</th>\n",
       "      <td>5</td>\n",
       "      <td>Regulated marijuana offers new chance at equit...</td>\n",
       "      <td>Martin Luther King III, co-founder of the Drum...</td>\n",
       "      <td>https://mjbizdaily.com/marijuana-social-equity...</td>\n",
       "      <td>1.714286e+09</td>\n",
       "      <td>NaN</td>\n",
       "    </tr>\n",
       "  </tbody>\n",
       "</table>\n",
       "</div>"
      ],
      "text/plain": [
       "   id                                              title  \\\n",
       "0   1  Justice Department Researcher Questions 0.3% T...   \n",
       "1   2  Cannabis operator Canopy raising $35 million i...   \n",
       "2   3  Global Cannabis Legalization: A Comprehensive ...   \n",
       "3   4  Top Biden Health Official In Touch With DEA Ab...   \n",
       "4   5  Regulated marijuana offers new chance at equit...   \n",
       "\n",
       "                                         description  \\\n",
       "0  The 0.3 percent THC threshold in the federal d...   \n",
       "1  Canadian cannabis company Canopy Growth Corp. ...   \n",
       "2  This article provides an overview of the evolv...   \n",
       "3  The U.S. Department of Health and Human Servic...   \n",
       "4  Martin Luther King III, co-founder of the Drum...   \n",
       "\n",
       "                                                 url       created  \\\n",
       "0  https://www.marijuanamoment.net/justice-depart...  1.714286e+09   \n",
       "1  https://mjbizdaily.com/cannabis-operator-canop...  1.714286e+09   \n",
       "2  https://thecannabiswatcher.com/pages/articles/...  1.714286e+09   \n",
       "3  https://www.marijuanamoment.net/top-biden-heal...  1.714286e+09   \n",
       "4  https://mjbizdaily.com/marijuana-social-equity...  1.714286e+09   \n",
       "\n",
       "  publication_date  \n",
       "0              NaN  \n",
       "1              NaN  \n",
       "2              NaN  \n",
       "3              NaN  \n",
       "4              NaN  "
      ]
     },
     "execution_count": 6,
     "metadata": {},
     "output_type": "execute_result"
    }
   ],
   "source": [
    "content_database.head()"
   ]
  },
  {
   "cell_type": "markdown",
   "id": "672bd4c4",
   "metadata": {
    "papermill": {
     "duration": 0.009646,
     "end_time": "2024-05-18T15:59:14.766004",
     "exception": false,
     "start_time": "2024-05-18T15:59:14.756358",
     "status": "completed"
    },
    "tags": []
   },
   "source": [
    "# Clean the events data"
   ]
  },
  {
   "cell_type": "code",
   "execution_count": 7,
   "id": "f633ac48",
   "metadata": {
    "execution": {
     "iopub.execute_input": "2024-05-18T15:59:14.788774Z",
     "iopub.status.busy": "2024-05-18T15:59:14.787660Z",
     "iopub.status.idle": "2024-05-18T15:59:14.815851Z",
     "shell.execute_reply": "2024-05-18T15:59:14.814306Z"
    },
    "papermill": {
     "duration": 0.042055,
     "end_time": "2024-05-18T15:59:14.818393",
     "exception": false,
     "start_time": "2024-05-18T15:59:14.776338",
     "status": "completed"
    },
    "tags": []
   },
   "outputs": [
    {
     "name": "stdout",
     "output_type": "stream",
     "text": [
      "<class 'pandas.core.frame.DataFrame'>\n",
      "RangeIndex: 266 entries, 0 to 265\n",
      "Data columns (total 14 columns):\n",
      " #   Column           Non-Null Count  Dtype  \n",
      "---  ------           --------------  -----  \n",
      " 0   id               266 non-null    int64  \n",
      " 1   title            266 non-null    object \n",
      " 2   event_type       266 non-null    object \n",
      " 3   description      262 non-null    object \n",
      " 4   start            259 non-null    object \n",
      " 5   end              259 non-null    object \n",
      " 6   location         266 non-null    object \n",
      " 7   url              265 non-null    object \n",
      " 8   price            183 non-null    object \n",
      " 9   organisation_id  1 non-null      float64\n",
      " 10  created          266 non-null    float64\n",
      " 11  last_modified    187 non-null    float64\n",
      " 12  lon              185 non-null    float64\n",
      " 13  lat              185 non-null    float64\n",
      "dtypes: float64(5), int64(1), object(8)\n",
      "memory usage: 29.2+ KB\n"
     ]
    }
   ],
   "source": [
    "events_database = pd.read_csv('/kaggle/input/recommendation-system-dataset/events.tsv', sep='\\t')\n",
    "events_database.info()"
   ]
  },
  {
   "cell_type": "code",
   "execution_count": 8,
   "id": "40dbeae5",
   "metadata": {
    "execution": {
     "iopub.execute_input": "2024-05-18T15:59:14.841507Z",
     "iopub.status.busy": "2024-05-18T15:59:14.840681Z",
     "iopub.status.idle": "2024-05-18T15:59:14.860054Z",
     "shell.execute_reply": "2024-05-18T15:59:14.858559Z"
    },
    "papermill": {
     "duration": 0.033907,
     "end_time": "2024-05-18T15:59:14.862488",
     "exception": false,
     "start_time": "2024-05-18T15:59:14.828581",
     "status": "completed"
    },
    "tags": []
   },
   "outputs": [
    {
     "name": "stdout",
     "output_type": "stream",
     "text": [
      "<class 'pandas.core.frame.DataFrame'>\n",
      "RangeIndex: 266 entries, 0 to 265\n",
      "Data columns (total 13 columns):\n",
      " #   Column         Non-Null Count  Dtype  \n",
      "---  ------         --------------  -----  \n",
      " 0   id             266 non-null    int64  \n",
      " 1   title          266 non-null    object \n",
      " 2   event_type     266 non-null    object \n",
      " 3   description    266 non-null    object \n",
      " 4   start          259 non-null    object \n",
      " 5   end            259 non-null    object \n",
      " 6   location       266 non-null    object \n",
      " 7   url            265 non-null    object \n",
      " 8   price          183 non-null    object \n",
      " 9   created        266 non-null    float64\n",
      " 10  last_modified  187 non-null    float64\n",
      " 11  lon            185 non-null    float64\n",
      " 12  lat            185 non-null    float64\n",
      "dtypes: float64(4), int64(1), object(8)\n",
      "memory usage: 27.1+ KB\n"
     ]
    }
   ],
   "source": [
    "# Drop the 'organisation_id' column as it's no longer needed (Empty)\n",
    "events_database = events_database.drop(columns=['organisation_id'])\n",
    "\n",
    "# Remove row that doesn't has id\n",
    "events_database = events_database.dropna(subset=['id'])\n",
    "\n",
    "# Function to convert \"From $number\" to number\n",
    "def handle_price_format(value):\n",
    "    if value is np.nan:\n",
    "        return np.nan\n",
    "    elif value == 'Free':\n",
    "        return 0\n",
    "\n",
    "    return value.replace('From $', '')\n",
    "\n",
    "# Apply the conversion function to the 'price' column\n",
    "events_database['price'] = events_database['price'].apply(handle_price_format)\n",
    "\n",
    "# Apply the conversion function to the 'description' column, if not exist then put empty string\n",
    "events_database['description'] = events_database['description'].apply(lambda x: '' if x is np.nan else x)\n",
    "\n",
    "events_database.info()"
   ]
  },
  {
   "cell_type": "code",
   "execution_count": 9,
   "id": "ee18d299",
   "metadata": {
    "execution": {
     "iopub.execute_input": "2024-05-18T15:59:14.885012Z",
     "iopub.status.busy": "2024-05-18T15:59:14.883952Z",
     "iopub.status.idle": "2024-05-18T15:59:14.904832Z",
     "shell.execute_reply": "2024-05-18T15:59:14.903605Z"
    },
    "papermill": {
     "duration": 0.034991,
     "end_time": "2024-05-18T15:59:14.907524",
     "exception": false,
     "start_time": "2024-05-18T15:59:14.872533",
     "status": "completed"
    },
    "tags": []
   },
   "outputs": [
    {
     "data": {
      "text/html": [
       "<div>\n",
       "<style scoped>\n",
       "    .dataframe tbody tr th:only-of-type {\n",
       "        vertical-align: middle;\n",
       "    }\n",
       "\n",
       "    .dataframe tbody tr th {\n",
       "        vertical-align: top;\n",
       "    }\n",
       "\n",
       "    .dataframe thead th {\n",
       "        text-align: right;\n",
       "    }\n",
       "</style>\n",
       "<table border=\"1\" class=\"dataframe\">\n",
       "  <thead>\n",
       "    <tr style=\"text-align: right;\">\n",
       "      <th></th>\n",
       "      <th>id</th>\n",
       "      <th>title</th>\n",
       "      <th>event_type</th>\n",
       "      <th>description</th>\n",
       "      <th>start</th>\n",
       "      <th>end</th>\n",
       "      <th>location</th>\n",
       "      <th>url</th>\n",
       "      <th>price</th>\n",
       "      <th>created</th>\n",
       "      <th>last_modified</th>\n",
       "      <th>lon</th>\n",
       "      <th>lat</th>\n",
       "    </tr>\n",
       "  </thead>\n",
       "  <tbody>\n",
       "    <tr>\n",
       "      <th>0</th>\n",
       "      <td>1</td>\n",
       "      <td>2024 Cannabis Research Conference</td>\n",
       "      <td>conferences</td>\n",
       "      <td>The 8th annual Cannabis Research Conference (C...</td>\n",
       "      <td>1723017600</td>\n",
       "      <td>1723219200</td>\n",
       "      <td>Fort Collins, CO</td>\n",
       "      <td>https://www.eventbrite.com/e/2024-cannabis-res...</td>\n",
       "      <td>NaN</td>\n",
       "      <td>1.711441e+09</td>\n",
       "      <td>1.714920e+09</td>\n",
       "      <td>-105.077011</td>\n",
       "      <td>40.587178</td>\n",
       "    </tr>\n",
       "    <tr>\n",
       "      <th>1</th>\n",
       "      <td>2</td>\n",
       "      <td>2024 HBS Cannabis Business Conference</td>\n",
       "      <td>conferences</td>\n",
       "      <td>Join us for a scholarly discussion of the cann...</td>\n",
       "      <td>1713639600</td>\n",
       "      <td>1713715200</td>\n",
       "      <td>Boston, MA</td>\n",
       "      <td>https://www.eventbrite.com.au/e/2024-hbs-canna...</td>\n",
       "      <td>25.00</td>\n",
       "      <td>1.711441e+09</td>\n",
       "      <td>1.714920e+09</td>\n",
       "      <td>-71.060511</td>\n",
       "      <td>42.355433</td>\n",
       "    </tr>\n",
       "    <tr>\n",
       "      <th>2</th>\n",
       "      <td>3</td>\n",
       "      <td>Ohio Cannabis Session, March 30, 2024</td>\n",
       "      <td>conferences</td>\n",
       "      <td>Training Coursework:</td>\n",
       "      <td>1711792800</td>\n",
       "      <td>1711803600</td>\n",
       "      <td>Toledo, OH</td>\n",
       "      <td>https://www.eventbrite.com/e/ohio-cannabis-ses...</td>\n",
       "      <td>0</td>\n",
       "      <td>1.711441e+09</td>\n",
       "      <td>1.714920e+09</td>\n",
       "      <td>-83.537817</td>\n",
       "      <td>41.652914</td>\n",
       "    </tr>\n",
       "    <tr>\n",
       "      <th>3</th>\n",
       "      <td>4</td>\n",
       "      <td>3rd Annual Higher Learning: Cannabis Conferenc...</td>\n",
       "      <td>conferences</td>\n",
       "      <td></td>\n",
       "      <td>1713610800</td>\n",
       "      <td>1713625200</td>\n",
       "      <td>New York, NY</td>\n",
       "      <td>https://www.eventbrite.com/e/3rd-annual-higher...</td>\n",
       "      <td>NaN</td>\n",
       "      <td>1.711441e+09</td>\n",
       "      <td>1.714920e+09</td>\n",
       "      <td>-74.006015</td>\n",
       "      <td>40.712728</td>\n",
       "    </tr>\n",
       "    <tr>\n",
       "      <th>4</th>\n",
       "      <td>5</td>\n",
       "      <td>Accelerate Cannabis: The Mid-Atlantic Mixer</td>\n",
       "      <td>conferences</td>\n",
       "      <td>Hard Rock Hotel &amp; Casino Atlantic City</td>\n",
       "      <td>1704299400</td>\n",
       "      <td>1704299400</td>\n",
       "      <td>Atlantic City, NJ</td>\n",
       "      <td>https://www.eventbrite.com/e/accelerate-cannab...</td>\n",
       "      <td>NaN</td>\n",
       "      <td>1.711441e+09</td>\n",
       "      <td>1.714920e+09</td>\n",
       "      <td>-74.422935</td>\n",
       "      <td>39.364285</td>\n",
       "    </tr>\n",
       "  </tbody>\n",
       "</table>\n",
       "</div>"
      ],
      "text/plain": [
       "   id                                              title   event_type  \\\n",
       "0   1                  2024 Cannabis Research Conference  conferences   \n",
       "1   2              2024 HBS Cannabis Business Conference  conferences   \n",
       "2   3              Ohio Cannabis Session, March 30, 2024  conferences   \n",
       "3   4  3rd Annual Higher Learning: Cannabis Conferenc...  conferences   \n",
       "4   5        Accelerate Cannabis: The Mid-Atlantic Mixer  conferences   \n",
       "\n",
       "                                         description       start         end  \\\n",
       "0  The 8th annual Cannabis Research Conference (C...  1723017600  1723219200   \n",
       "1  Join us for a scholarly discussion of the cann...  1713639600  1713715200   \n",
       "2                               Training Coursework:  1711792800  1711803600   \n",
       "3                                                     1713610800  1713625200   \n",
       "4             Hard Rock Hotel & Casino Atlantic City  1704299400  1704299400   \n",
       "\n",
       "            location                                                url  \\\n",
       "0   Fort Collins, CO  https://www.eventbrite.com/e/2024-cannabis-res...   \n",
       "1         Boston, MA  https://www.eventbrite.com.au/e/2024-hbs-canna...   \n",
       "2         Toledo, OH  https://www.eventbrite.com/e/ohio-cannabis-ses...   \n",
       "3       New York, NY  https://www.eventbrite.com/e/3rd-annual-higher...   \n",
       "4  Atlantic City, NJ  https://www.eventbrite.com/e/accelerate-cannab...   \n",
       "\n",
       "   price       created  last_modified         lon        lat  \n",
       "0    NaN  1.711441e+09   1.714920e+09 -105.077011  40.587178  \n",
       "1  25.00  1.711441e+09   1.714920e+09  -71.060511  42.355433  \n",
       "2      0  1.711441e+09   1.714920e+09  -83.537817  41.652914  \n",
       "3    NaN  1.711441e+09   1.714920e+09  -74.006015  40.712728  \n",
       "4    NaN  1.711441e+09   1.714920e+09  -74.422935  39.364285  "
      ]
     },
     "execution_count": 9,
     "metadata": {},
     "output_type": "execute_result"
    }
   ],
   "source": [
    "events_database.head()"
   ]
  },
  {
   "cell_type": "markdown",
   "id": "b2130450",
   "metadata": {
    "papermill": {
     "duration": 0.010237,
     "end_time": "2024-05-18T15:59:14.928360",
     "exception": false,
     "start_time": "2024-05-18T15:59:14.918123",
     "status": "completed"
    },
    "tags": []
   },
   "source": [
    "# Recommendation System Preprocessing"
   ]
  },
  {
   "cell_type": "code",
   "execution_count": 10,
   "id": "a016c4d6",
   "metadata": {
    "execution": {
     "iopub.execute_input": "2024-05-18T15:59:14.950972Z",
     "iopub.status.busy": "2024-05-18T15:59:14.950528Z",
     "iopub.status.idle": "2024-05-18T15:59:14.965960Z",
     "shell.execute_reply": "2024-05-18T15:59:14.964834Z"
    },
    "papermill": {
     "duration": 0.029958,
     "end_time": "2024-05-18T15:59:14.968791",
     "exception": false,
     "start_time": "2024-05-18T15:59:14.938833",
     "status": "completed"
    },
    "tags": []
   },
   "outputs": [],
   "source": [
    "# Read the recommendations file\n",
    "recommendations_file_path = '/kaggle/input/recommendation-system-dataset/recommendations.tsv'\n",
    "df = pd.read_csv(recommendations_file_path, sep='\\t')"
   ]
  },
  {
   "cell_type": "code",
   "execution_count": 11,
   "id": "15a1c40f",
   "metadata": {
    "execution": {
     "iopub.execute_input": "2024-05-18T15:59:14.991987Z",
     "iopub.status.busy": "2024-05-18T15:59:14.991580Z",
     "iopub.status.idle": "2024-05-18T15:59:15.005209Z",
     "shell.execute_reply": "2024-05-18T15:59:15.003922Z"
    },
    "papermill": {
     "duration": 0.028643,
     "end_time": "2024-05-18T15:59:15.008178",
     "exception": false,
     "start_time": "2024-05-18T15:59:14.979535",
     "status": "completed"
    },
    "tags": []
   },
   "outputs": [
    {
     "name": "stdout",
     "output_type": "stream",
     "text": [
      "<class 'pandas.core.frame.DataFrame'>\n",
      "RangeIndex: 658 entries, 0 to 657\n",
      "Data columns (total 14 columns):\n",
      " #   Column           Non-Null Count  Dtype  \n",
      "---  ------           --------------  -----  \n",
      " 0   id               658 non-null    int64  \n",
      " 1   title            658 non-null    object \n",
      " 2   asset_type       658 non-null    object \n",
      " 3   asset_id         658 non-null    int64  \n",
      " 4   organisation_id  658 non-null    int64  \n",
      " 5   user_id          658 non-null    int64  \n",
      " 6   creator_id       658 non-null    int64  \n",
      " 7   system_score     658 non-null    float64\n",
      " 8   user_score       0 non-null      float64\n",
      " 9   created          658 non-null    int64  \n",
      " 10  opened           625 non-null    float64\n",
      " 11  deleted          403 non-null    float64\n",
      " 12  saved            338 non-null    float64\n",
      " 13  clicked_out      414 non-null    float64\n",
      "dtypes: float64(6), int64(6), object(2)\n",
      "memory usage: 72.1+ KB\n"
     ]
    }
   ],
   "source": [
    "df.info()"
   ]
  },
  {
   "cell_type": "markdown",
   "id": "3e41d122",
   "metadata": {
    "papermill": {
     "duration": 0.010259,
     "end_time": "2024-05-18T15:59:15.029264",
     "exception": false,
     "start_time": "2024-05-18T15:59:15.019005",
     "status": "completed"
    },
    "tags": []
   },
   "source": [
    "**just require these fields ...**"
   ]
  },
  {
   "cell_type": "code",
   "execution_count": 12,
   "id": "58f9fcb3",
   "metadata": {
    "execution": {
     "iopub.execute_input": "2024-05-18T15:59:15.052316Z",
     "iopub.status.busy": "2024-05-18T15:59:15.051909Z",
     "iopub.status.idle": "2024-05-18T15:59:15.075009Z",
     "shell.execute_reply": "2024-05-18T15:59:15.073516Z"
    },
    "papermill": {
     "duration": 0.037312,
     "end_time": "2024-05-18T15:59:15.077202",
     "exception": false,
     "start_time": "2024-05-18T15:59:15.039890",
     "status": "completed"
    },
    "tags": []
   },
   "outputs": [
    {
     "name": "stdout",
     "output_type": "stream",
     "text": [
      "Content Statistics:\n",
      "Mean: 0.308 Median: 0.3 Number of samples: 218\n",
      "\n",
      "Event Statistics:\n",
      "Mean: 0.398 Median: 0.4 Number of samples: 220\n"
     ]
    }
   ],
   "source": [
    "# Assuming df is your DataFrame after loading your data\n",
    "# Filter the required columns\n",
    "filtered_df = df[['asset_type', 'asset_id', 'user_id', 'system_score']]\n",
    "\n",
    "# Divide the dataset into two groups based on 'asset_type'\n",
    "content_df = filtered_df[filtered_df['asset_type'] == 'content']\n",
    "event_df = filtered_df[filtered_df['asset_type'] == 'event']\n",
    "\n",
    "# Drop the 'asset_type' column as it's no longer needed\n",
    "content_df = content_df.drop(columns=['asset_type'])\n",
    "event_df = event_df.drop(columns=['asset_type'])\n",
    "\n",
    "# Perform basic statistics for each group\n",
    "content_stats = content_df['system_score'].describe()\n",
    "event_stats = event_df['system_score'].describe()\n",
    "\n",
    "\n",
    "# Additional analysis if needed (mean, median, count)\n",
    "content_mean = round(content_df['system_score'].mean(), 3)\n",
    "content_median = content_df['system_score'].median()\n",
    "content_count = content_df['system_score'].count()\n",
    "\n",
    "event_mean = round(event_df['system_score'].mean(), 3)\n",
    "event_median = event_df['system_score'].median()\n",
    "event_count = event_df['system_score'].count()\n",
    "\n",
    "print(\"Content Statistics:\")\n",
    "print(\"Mean:\", content_mean, \"Median:\", content_median, \"Number of samples:\", content_count)\n",
    "\n",
    "print(\"\\nEvent Statistics:\")\n",
    "print(\"Mean:\", event_mean, \"Median:\", event_median, \"Number of samples:\", event_count)\n"
   ]
  },
  {
   "cell_type": "markdown",
   "id": "dd0c91b0",
   "metadata": {
    "papermill": {
     "duration": 0.010725,
     "end_time": "2024-05-18T15:59:15.098983",
     "exception": false,
     "start_time": "2024-05-18T15:59:15.088258",
     "status": "completed"
    },
    "tags": []
   },
   "source": [
    "# Content Recommendation System "
   ]
  },
  {
   "cell_type": "code",
   "execution_count": 13,
   "id": "400958cc",
   "metadata": {
    "execution": {
     "iopub.execute_input": "2024-05-18T15:59:15.122022Z",
     "iopub.status.busy": "2024-05-18T15:59:15.121629Z",
     "iopub.status.idle": "2024-05-18T15:59:15.197508Z",
     "shell.execute_reply": "2024-05-18T15:59:15.195973Z"
    },
    "papermill": {
     "duration": 0.090538,
     "end_time": "2024-05-18T15:59:15.200122",
     "exception": false,
     "start_time": "2024-05-18T15:59:15.109584",
     "status": "completed"
    },
    "tags": []
   },
   "outputs": [
    {
     "name": "stdout",
     "output_type": "stream",
     "text": [
      "<class 'pandas.core.frame.DataFrame'>\n",
      "RangeIndex: 6345 entries, 0 to 6344\n",
      "Data columns (total 3 columns):\n",
      " #   Column        Non-Null Count  Dtype  \n",
      "---  ------        --------------  -----  \n",
      " 0   user_id       6345 non-null   int64  \n",
      " 1   content_id    6345 non-null   int64  \n",
      " 2   system_score  218 non-null    float64\n",
      "dtypes: float64(1), int64(2)\n",
      "memory usage: 148.8 KB\n"
     ]
    }
   ],
   "source": [
    "# Extract unique IDs\n",
    "unique_user_ids = users_database['id'].unique()\n",
    "unique_content_ids = content_database['id'].unique()\n",
    "\n",
    "\n",
    "# Create all combinations of user_id and content_id\n",
    "all_combinations = pd.DataFrame(product(unique_user_ids, unique_content_ids), columns=['user_id', 'content_id'])\n",
    "\n",
    "# Merge all_combinations with content_df on the appropriate columns\n",
    "# Since 'content_id' in all_combinations corresponds to 'asset_id' in content_df\n",
    "merged_df = all_combinations.merge(content_df[['user_id', 'asset_id', 'system_score']], \n",
    "                                   left_on=['user_id', 'content_id'], \n",
    "                                   right_on=['user_id', 'asset_id'], \n",
    "                                   how='left')\n",
    "\n",
    "# Drop the 'asset_id' column as it is redundant with 'content_id'\n",
    "merged_df.drop(columns=['asset_id'], inplace=True)\n",
    "\n",
    "\n",
    "merged_df.info()"
   ]
  },
  {
   "cell_type": "markdown",
   "id": "76e599e6",
   "metadata": {
    "papermill": {
     "duration": 0.010354,
     "end_time": "2024-05-18T15:59:15.221305",
     "exception": false,
     "start_time": "2024-05-18T15:59:15.210951",
     "status": "completed"
    },
    "tags": []
   },
   "source": [
    "## Evaluating sparsity\n",
    "Here, we calculate sparsity by dividing the number of stored elements by total number of elements. The number of stored (non-empty) elements in our matrix (nnz) is equivalent to the number of ratings in our dataset.\n",
    "- If sparsity more than 0.1 then you can make the recommendation system \n",
    "- Every user must have rated at least one piece of content rated\n",
    "- Every piece of content must have been rated by at least one user"
   ]
  },
  {
   "cell_type": "code",
   "execution_count": 14,
   "id": "2b6cad3f",
   "metadata": {
    "execution": {
     "iopub.execute_input": "2024-05-18T15:59:15.244587Z",
     "iopub.status.busy": "2024-05-18T15:59:15.244167Z",
     "iopub.status.idle": "2024-05-18T15:59:15.252361Z",
     "shell.execute_reply": "2024-05-18T15:59:15.250955Z"
    },
    "papermill": {
     "duration": 0.022634,
     "end_time": "2024-05-18T15:59:15.254664",
     "exception": false,
     "start_time": "2024-05-18T15:59:15.232030",
     "status": "completed"
    },
    "tags": []
   },
   "outputs": [
    {
     "name": "stdout",
     "output_type": "stream",
     "text": [
      "Matrix sparsity: 3.44%\n"
     ]
    }
   ],
   "source": [
    "n_total = len(merged_df)\n",
    "n_ratings = merged_df['system_score'].notna().sum()\n",
    "sparsity = n_ratings/n_total\n",
    "print(f\"Matrix sparsity: {round(sparsity*100,2)}%\")"
   ]
  },
  {
   "cell_type": "code",
   "execution_count": 15,
   "id": "f7bb43dc",
   "metadata": {
    "execution": {
     "iopub.execute_input": "2024-05-18T15:59:15.278084Z",
     "iopub.status.busy": "2024-05-18T15:59:15.277706Z",
     "iopub.status.idle": "2024-05-18T15:59:15.285764Z",
     "shell.execute_reply": "2024-05-18T15:59:15.284328Z"
    },
    "papermill": {
     "duration": 0.022535,
     "end_time": "2024-05-18T15:59:15.287923",
     "exception": false,
     "start_time": "2024-05-18T15:59:15.265388",
     "status": "completed"
    },
    "tags": []
   },
   "outputs": [
    {
     "name": "stdout",
     "output_type": "stream",
     "text": [
      "Minimum number of ratings by any user: 0\n"
     ]
    }
   ],
   "source": [
    "# Group by user_id and count non-null system scores for each user\n",
    "user_ratings_count = merged_df.groupby('user_id')['system_score'].count()\n",
    "\n",
    "# Get the minimum number of ratings among all users\n",
    "min_ratings = user_ratings_count.min()\n",
    "\n",
    "print(\"Minimum number of ratings by any user:\", min_ratings)\n"
   ]
  },
  {
   "cell_type": "code",
   "execution_count": 16,
   "id": "fdf46965",
   "metadata": {
    "execution": {
     "iopub.execute_input": "2024-05-18T15:59:15.311663Z",
     "iopub.status.busy": "2024-05-18T15:59:15.311245Z",
     "iopub.status.idle": "2024-05-18T15:59:15.318560Z",
     "shell.execute_reply": "2024-05-18T15:59:15.317407Z"
    },
    "papermill": {
     "duration": 0.021869,
     "end_time": "2024-05-18T15:59:15.320750",
     "exception": false,
     "start_time": "2024-05-18T15:59:15.298881",
     "status": "completed"
    },
    "tags": []
   },
   "outputs": [
    {
     "name": "stdout",
     "output_type": "stream",
     "text": [
      "Minimum number of ratings by any content: 0\n"
     ]
    }
   ],
   "source": [
    "# Group by content_id and count non-null system scores for each content\n",
    "content_ratings_count = merged_df.groupby('content_id')['system_score'].count()\n",
    "\n",
    "# Get the minimum number of ratings among all contents\n",
    "min_ratings = content_ratings_count.min()\n",
    "\n",
    "print(\"Minimum number of ratings by any content:\", min_ratings)\n"
   ]
  },
  {
   "cell_type": "markdown",
   "id": "8d27e04d",
   "metadata": {
    "papermill": {
     "duration": 0.010494,
     "end_time": "2024-05-18T15:59:15.342213",
     "exception": false,
     "start_time": "2024-05-18T15:59:15.331719",
     "status": "completed"
    },
    "tags": []
   },
   "source": [
    "## Building the Recommendation System"
   ]
  },
  {
   "cell_type": "code",
   "execution_count": 17,
   "id": "49daea4b",
   "metadata": {
    "execution": {
     "iopub.execute_input": "2024-05-18T15:59:15.366106Z",
     "iopub.status.busy": "2024-05-18T15:59:15.365412Z",
     "iopub.status.idle": "2024-05-18T15:59:15.393625Z",
     "shell.execute_reply": "2024-05-18T15:59:15.392452Z"
    },
    "papermill": {
     "duration": 0.043066,
     "end_time": "2024-05-18T15:59:15.396183",
     "exception": false,
     "start_time": "2024-05-18T15:59:15.353117",
     "status": "completed"
    },
    "tags": []
   },
   "outputs": [],
   "source": [
    "# Fill missing values with 0 (can change based on strategy)\n",
    "# it just will take the users and contents that has at least one rated value\n",
    "utility_matrix = merged_df.pivot_table(index='user_id', columns='content_id', values='system_score', fill_value=0)\n",
    "\n",
    "# Convert to sparse matrix for efficient calculations\n",
    "sparse_matrix = csr_matrix(utility_matrix.values)\n",
    "\n",
    "# Compute cosine similarity between users\n",
    "user_similarity = cosine_similarity(sparse_matrix)\n",
    "\n",
    "# Compute cosine similarity between items\n",
    "item_similarity = cosine_similarity(sparse_matrix.T)\n"
   ]
  },
  {
   "cell_type": "code",
   "execution_count": 18,
   "id": "846789a2",
   "metadata": {
    "execution": {
     "iopub.execute_input": "2024-05-18T15:59:15.420229Z",
     "iopub.status.busy": "2024-05-18T15:59:15.419797Z",
     "iopub.status.idle": "2024-05-18T15:59:15.432022Z",
     "shell.execute_reply": "2024-05-18T15:59:15.430591Z"
    },
    "papermill": {
     "duration": 0.027451,
     "end_time": "2024-05-18T15:59:15.434691",
     "exception": false,
     "start_time": "2024-05-18T15:59:15.407240",
     "status": "completed"
    },
    "tags": []
   },
   "outputs": [
    {
     "name": "stdout",
     "output_type": "stream",
     "text": [
      "Top 5 content recommendations for user: [21, 131, 127, 124, 123]\n"
     ]
    }
   ],
   "source": [
    "def recommend_content_for_user(user_id, top_n=5):\n",
    "    if user_id not in utility_matrix.index:\n",
    "        raise Exception(\"User ID not found in the dataset\")\n",
    "    \n",
    "    user_index = utility_matrix.index.tolist().index(user_id)\n",
    "    similar_scores = user_similarity[user_index]\n",
    "    similar_users = np.argsort(-similar_scores)\n",
    "    \n",
    "    # Get the content items already rated by the user\n",
    "    rated_content = set(utility_matrix.loc[user_id][utility_matrix.loc[user_id] > 0].index)\n",
    "    \n",
    "    recommended_content = {}\n",
    "    for i in similar_users:\n",
    "        for content_id in utility_matrix.columns[np.argsort(-utility_matrix.iloc[i].values)]:\n",
    "            if content_id not in rated_content and content_id not in recommended_content:\n",
    "                recommended_content[content_id] = utility_matrix.iloc[i][content_id]\n",
    "            if len(recommended_content) == top_n:\n",
    "                return list(recommended_content.keys())\n",
    "    return list(recommended_content.keys())\n",
    "\n",
    "# Example usage:\n",
    "user_recommendations = recommend_content_for_user(user_id=96)\n",
    "print(\"Top 5 content recommendations for user:\", user_recommendations)\n"
   ]
  },
  {
   "cell_type": "code",
   "execution_count": 19,
   "id": "d571f9b0",
   "metadata": {
    "execution": {
     "iopub.execute_input": "2024-05-18T15:59:15.458799Z",
     "iopub.status.busy": "2024-05-18T15:59:15.458147Z",
     "iopub.status.idle": "2024-05-18T15:59:15.466247Z",
     "shell.execute_reply": "2024-05-18T15:59:15.465419Z"
    },
    "papermill": {
     "duration": 0.022947,
     "end_time": "2024-05-18T15:59:15.468809",
     "exception": false,
     "start_time": "2024-05-18T15:59:15.445862",
     "status": "completed"
    },
    "tags": []
   },
   "outputs": [
    {
     "name": "stdout",
     "output_type": "stream",
     "text": [
      "Top 5 content recommendations for content: [70, 76, 137, 82, 124]\n"
     ]
    }
   ],
   "source": [
    "def recommend_similar_content(content_id, top_n=5):\n",
    "    if content_id not in utility_matrix.columns:\n",
    "        raise Exception(\"Content ID not found in the dataset\")\n",
    "    \n",
    "    content_index = utility_matrix.columns.tolist().index(content_id)\n",
    "    similar_scores = item_similarity[content_index]\n",
    "    similar_content_indices = np.argsort(-similar_scores)[1:top_n+1]  # Exclude the content itself\n",
    "    \n",
    "    similar_content_ids = utility_matrix.columns[similar_content_indices]\n",
    "    return list(similar_content_ids)\n",
    "\n",
    "# Example usage:\n",
    "content_id = 86\n",
    "content_recommendations = recommend_similar_content(content_id=content_id)\n",
    "print(\"Top 5 content recommendations for content:\", content_recommendations)\n"
   ]
  },
  {
   "cell_type": "code",
   "execution_count": 20,
   "id": "a2ba40a1",
   "metadata": {
    "execution": {
     "iopub.execute_input": "2024-05-18T15:59:15.493344Z",
     "iopub.status.busy": "2024-05-18T15:59:15.492921Z",
     "iopub.status.idle": "2024-05-18T15:59:15.508118Z",
     "shell.execute_reply": "2024-05-18T15:59:15.506331Z"
    },
    "papermill": {
     "duration": 0.030565,
     "end_time": "2024-05-18T15:59:15.510744",
     "exception": false,
     "start_time": "2024-05-18T15:59:15.480179",
     "status": "completed"
    },
    "tags": []
   },
   "outputs": [
    {
     "name": "stdout",
     "output_type": "stream",
     "text": [
      "Details for content_id 86:\n",
      "Title: Jushi looks to boost efficiency as it awaits new adult-use cannabis markets\n",
      "Description: Multistate operator Jushi Holdings is trying to improve its efficiency and margins as it hopes for new adult-use cannabis markets in 2024.\n",
      "\n",
      "\n",
      "Details for other content IDs:\n",
      "Id: 70\n",
      "Title: Canadian cannabis producer Organigram enters US, plans CA$25 million raise\n",
      "Description: Organigram Holdings has dipped into its strategic investment pool to pick up a minority stake in Roxboro, North Carolina-based Open Book Extracts as part of its plan to target emerging cannabis markets in the United States and elsewhere.\n",
      "\n",
      "Id: 76\n",
      "Title: 280E, new markets and wholesale revenue highlight cannabis earnings season\n",
      "Description: Tax strategies took the spotlight in fourth-quarter financial reports from publicly traded U.S. cannabis companies.\n",
      "\n",
      "Id: 82\n",
      "Title: How R&D cannabis lines help cultivators conduct market research\n",
      "Description: R&D cannabis lines  or limited-edition, small-batch flower  can create a line of communication between cultivators and consumers, enabling marijuana operators to conduct market research while still bringing in revenue.\n",
      "\n",
      "Id: 124\n",
      "Title: Opinion: What to consider when buying a Florida medical cannabis business license\n",
      "Description: When Florida legalizes adult use, medical cannabis business licenses likely will become valuable, but prospective buyers should perform significant diligence before committing.\n",
      "\n",
      "Id: 137\n",
      "Title: Largest cannabis MSOs lay out modest expansion plans for 2024\n",
      "Description: Several of the nations largest cannabis companies have already mapped out their retail expansion plans in 2024, a consequence of licensing caps, limited new market opportunities and ongoing capital concerns.\n",
      "\n"
     ]
    }
   ],
   "source": [
    "# Get details for the specific content_id\n",
    "content_details = content_database[content_database['id'] == content_id][['id', 'title', 'description']].iloc[0]\n",
    "    \n",
    "# Get details for the other content IDs in the provided list\n",
    "other_content_details = content_database[content_database['id'].isin(content_recommendations)][['id', 'title', 'description']]\n",
    "\n",
    "\n",
    "print(f\"Details for content_id {content_id}:\")\n",
    "print(f\"Title: {content_details['title']}\")\n",
    "print(f\"Description: {content_details['description']}\\n\")\n",
    "\n",
    "\n",
    "print(\"\\nDetails for other content IDs:\")\n",
    "\n",
    "for _, content in other_content_details.iterrows():\n",
    "    print(f\"Id: {content['id']}\")\n",
    "    print(f\"Title: {content['title']}\")\n",
    "    print(f\"Description: {content['description']}\\n\")\n",
    "    "
   ]
  }
 ],
 "metadata": {
  "kaggle": {
   "accelerator": "none",
   "dataSources": [
    {
     "datasetId": 5035196,
     "sourceId": 8449491,
     "sourceType": "datasetVersion"
    }
   ],
   "dockerImageVersionId": 30698,
   "isGpuEnabled": false,
   "isInternetEnabled": true,
   "language": "python",
   "sourceType": "notebook"
  },
  "kernelspec": {
   "display_name": "Python 3",
   "language": "python",
   "name": "python3"
  },
  "language_info": {
   "codemirror_mode": {
    "name": "ipython",
    "version": 3
   },
   "file_extension": ".py",
   "mimetype": "text/x-python",
   "name": "python",
   "nbconvert_exporter": "python",
   "pygments_lexer": "ipython3",
   "version": "3.10.13"
  },
  "papermill": {
   "default_parameters": {},
   "duration": 7.192314,
   "end_time": "2024-05-18T15:59:16.145721",
   "environment_variables": {},
   "exception": null,
   "input_path": "__notebook__.ipynb",
   "output_path": "__notebook__.ipynb",
   "parameters": {},
   "start_time": "2024-05-18T15:59:08.953407",
   "version": "2.5.0"
  }
 },
 "nbformat": 4,
 "nbformat_minor": 5
}
